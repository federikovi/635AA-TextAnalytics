{
 "cells": [
  {
   "cell_type": "code",
   "execution_count": 1,
   "metadata": {},
   "outputs": [],
   "source": [
    "import pandas as pd\n",
    "import numpy as np\n",
    "import matplotlib.pyplot as plt\n",
    "\n",
    "from sklearn.metrics import accuracy_score\n",
    "from sklearn.metrics import precision_score\n",
    "from sklearn.metrics import recall_score\n",
    "from sklearn.metrics import f1_score\n",
    "from sklearn.metrics import roc_curve, auc\n"
   ]
  },
  {
   "cell_type": "markdown",
   "metadata": {},
   "source": [
    "### SVM TEST"
   ]
  },
  {
   "cell_type": "code",
   "execution_count": 2,
   "metadata": {},
   "outputs": [],
   "source": [
    "columns = ['','text_no_tag','polarity','polarity_svm']\n",
    "\n",
    "test_svm = pd.read_csv('test_svm.csv',\n",
    "                     header = 0,\n",
    "                     usecols = [1,2,3],\n",
    "                     names = columns,\n",
    "                     encoding ='ISO-8859-1')"
   ]
  },
  {
   "cell_type": "code",
   "execution_count": 3,
   "metadata": {},
   "outputs": [
    {
     "data": {
      "text/html": [
       "<div>\n",
       "<style>\n",
       "    .dataframe thead tr:only-child th {\n",
       "        text-align: right;\n",
       "    }\n",
       "\n",
       "    .dataframe thead th {\n",
       "        text-align: left;\n",
       "    }\n",
       "\n",
       "    .dataframe tbody tr th {\n",
       "        vertical-align: top;\n",
       "    }\n",
       "</style>\n",
       "<table border=\"1\" class=\"dataframe\">\n",
       "  <thead>\n",
       "    <tr style=\"text-align: right;\">\n",
       "      <th></th>\n",
       "      <th>text_no_tag</th>\n",
       "      <th>polarity</th>\n",
       "      <th>polarity_svm</th>\n",
       "    </tr>\n",
       "  </thead>\n",
       "  <tbody>\n",
       "    <tr>\n",
       "      <th>0</th>\n",
       "      <td>@USER i love  my kindle2 . not that the  is co...</td>\n",
       "      <td>1</td>\n",
       "      <td>1</td>\n",
       "    </tr>\n",
       "    <tr>\n",
       "      <th>1</th>\n",
       "      <td>reading my kindle2 .  love it .  lee childs is...</td>\n",
       "      <td>1</td>\n",
       "      <td>1</td>\n",
       "    </tr>\n",
       "    <tr>\n",
       "      <th>2</th>\n",
       "      <td>ok , first assesment of the kindle 2 .  it fuc...</td>\n",
       "      <td>1</td>\n",
       "      <td>1</td>\n",
       "    </tr>\n",
       "    <tr>\n",
       "      <th>3</th>\n",
       "      <td>@USER you will love your kindle2 . i have had ...</td>\n",
       "      <td>1</td>\n",
       "      <td>1</td>\n",
       "    </tr>\n",
       "    <tr>\n",
       "      <th>4</th>\n",
       "      <td>@USER fair enough . but i have the kindle2 and...</td>\n",
       "      <td>1</td>\n",
       "      <td>1</td>\n",
       "    </tr>\n",
       "  </tbody>\n",
       "</table>\n",
       "</div>"
      ],
      "text/plain": [
       "                                         text_no_tag  polarity  polarity_svm\n",
       "0  @USER i love  my kindle2 . not that the  is co...         1             1\n",
       "1  reading my kindle2 .  love it .  lee childs is...         1             1\n",
       "2  ok , first assesment of the kindle 2 .  it fuc...         1             1\n",
       "3  @USER you will love your kindle2 . i have had ...         1             1\n",
       "4  @USER fair enough . but i have the kindle2 and...         1             1"
      ]
     },
     "execution_count": 3,
     "metadata": {},
     "output_type": "execute_result"
    }
   ],
   "source": [
    "test_svm.head()"
   ]
  },
  {
   "cell_type": "code",
   "execution_count": 4,
   "metadata": {},
   "outputs": [
    {
     "name": "stdout",
     "output_type": "stream",
     "text": [
      "Accuracy sore:  0.8328690807799443\n",
      "Precision score:  0.8112244897959183\n",
      "Recall score:  0.8736263736263736\n",
      "F-measure score:  0.8412698412698413\n"
     ]
    }
   ],
   "source": [
    "print(\"Accuracy sore: \", accuracy_score(test_svm['polarity'], test_svm['polarity_svm']))\n",
    "print(\"Precision score: \", precision_score(test_svm['polarity'], test_svm['polarity_svm'], average='binary'))\n",
    "print(\"Recall score: \", recall_score(test_svm['polarity'], test_svm['polarity_svm'], average='binary'))\n",
    "print(\"F-measure score: \", f1_score(test_svm['polarity'], test_svm['polarity_svm'], average='binary'))"
   ]
  },
  {
   "cell_type": "markdown",
   "metadata": {},
   "source": [
    "### SVM_VADER Test"
   ]
  },
  {
   "cell_type": "code",
   "execution_count": 5,
   "metadata": {},
   "outputs": [],
   "source": [
    "columns = ['','text_no_tag','polarity','polarity_svm_vader']\n",
    "\n",
    "test_svm_vader = pd.read_csv('test_svm_vader.csv',\n",
    "                     header = 0,\n",
    "                     usecols = [1,2,3],\n",
    "                     names = columns,\n",
    "                     encoding ='ISO-8859-1')"
   ]
  },
  {
   "cell_type": "code",
   "execution_count": 6,
   "metadata": {},
   "outputs": [
    {
     "data": {
      "text/html": [
       "<div>\n",
       "<style>\n",
       "    .dataframe thead tr:only-child th {\n",
       "        text-align: right;\n",
       "    }\n",
       "\n",
       "    .dataframe thead th {\n",
       "        text-align: left;\n",
       "    }\n",
       "\n",
       "    .dataframe tbody tr th {\n",
       "        vertical-align: top;\n",
       "    }\n",
       "</style>\n",
       "<table border=\"1\" class=\"dataframe\">\n",
       "  <thead>\n",
       "    <tr style=\"text-align: right;\">\n",
       "      <th></th>\n",
       "      <th>text_no_tag</th>\n",
       "      <th>polarity</th>\n",
       "      <th>polarity_svm_vader</th>\n",
       "    </tr>\n",
       "  </thead>\n",
       "  <tbody>\n",
       "    <tr>\n",
       "      <th>0</th>\n",
       "      <td>@USER i love  my kindle2 . not that the  is co...</td>\n",
       "      <td>1</td>\n",
       "      <td>1</td>\n",
       "    </tr>\n",
       "    <tr>\n",
       "      <th>1</th>\n",
       "      <td>reading my kindle2 .  love it .  lee childs is...</td>\n",
       "      <td>1</td>\n",
       "      <td>1</td>\n",
       "    </tr>\n",
       "    <tr>\n",
       "      <th>2</th>\n",
       "      <td>ok , first assesment of the kindle 2 .  it fuc...</td>\n",
       "      <td>1</td>\n",
       "      <td>1</td>\n",
       "    </tr>\n",
       "    <tr>\n",
       "      <th>3</th>\n",
       "      <td>@USER you will love your kindle2 . i have had ...</td>\n",
       "      <td>1</td>\n",
       "      <td>1</td>\n",
       "    </tr>\n",
       "    <tr>\n",
       "      <th>4</th>\n",
       "      <td>@USER fair enough . but i have the kindle2 and...</td>\n",
       "      <td>1</td>\n",
       "      <td>1</td>\n",
       "    </tr>\n",
       "  </tbody>\n",
       "</table>\n",
       "</div>"
      ],
      "text/plain": [
       "                                         text_no_tag  polarity  \\\n",
       "0  @USER i love  my kindle2 . not that the  is co...         1   \n",
       "1  reading my kindle2 .  love it .  lee childs is...         1   \n",
       "2  ok , first assesment of the kindle 2 .  it fuc...         1   \n",
       "3  @USER you will love your kindle2 . i have had ...         1   \n",
       "4  @USER fair enough . but i have the kindle2 and...         1   \n",
       "\n",
       "   polarity_svm_vader  \n",
       "0                   1  \n",
       "1                   1  \n",
       "2                   1  \n",
       "3                   1  \n",
       "4                   1  "
      ]
     },
     "execution_count": 6,
     "metadata": {},
     "output_type": "execute_result"
    }
   ],
   "source": [
    "test_svm_vader.head()"
   ]
  },
  {
   "cell_type": "code",
   "execution_count": 7,
   "metadata": {},
   "outputs": [
    {
     "name": "stdout",
     "output_type": "stream",
     "text": [
      "Accuracy sore:  0.8161559888579387\n",
      "Precision score:  0.7843137254901961\n",
      "Recall score:  0.8791208791208791\n",
      "F-measure score:  0.8290155440414508\n"
     ]
    }
   ],
   "source": [
    "print(\"Accuracy sore: \", accuracy_score(test_svm_vader['polarity'], test_svm_vader['polarity_svm_vader']))\n",
    "print(\"Precision score: \", precision_score(test_svm_vader['polarity'], test_svm_vader['polarity_svm_vader'], average='binary'))\n",
    "print(\"Recall score: \", recall_score(test_svm_vader['polarity'], test_svm_vader['polarity_svm_vader'], average='binary'))\n",
    "print(\"F-measure score: \", f1_score(test_svm_vader['polarity'], test_svm_vader['polarity_svm_vader'], average='binary'))"
   ]
  },
  {
   "cell_type": "markdown",
   "metadata": {},
   "source": [
    "### LSTM Test"
   ]
  },
  {
   "cell_type": "code",
   "execution_count": 8,
   "metadata": {},
   "outputs": [],
   "source": [
    "columns = ['','text_no_tag','polarity','polarity_nn']\n",
    "\n",
    "test_lstm = pd.read_csv('test_lstm.csv',\n",
    "                     header = 0,\n",
    "                     usecols = [1,2,3],\n",
    "                     names = columns,\n",
    "                     encoding ='ISO-8859-1')"
   ]
  },
  {
   "cell_type": "code",
   "execution_count": 9,
   "metadata": {},
   "outputs": [
    {
     "data": {
      "text/html": [
       "<div>\n",
       "<style>\n",
       "    .dataframe thead tr:only-child th {\n",
       "        text-align: right;\n",
       "    }\n",
       "\n",
       "    .dataframe thead th {\n",
       "        text-align: left;\n",
       "    }\n",
       "\n",
       "    .dataframe tbody tr th {\n",
       "        vertical-align: top;\n",
       "    }\n",
       "</style>\n",
       "<table border=\"1\" class=\"dataframe\">\n",
       "  <thead>\n",
       "    <tr style=\"text-align: right;\">\n",
       "      <th></th>\n",
       "      <th>text_no_tag</th>\n",
       "      <th>polarity</th>\n",
       "      <th>polarity_nn</th>\n",
       "    </tr>\n",
       "  </thead>\n",
       "  <tbody>\n",
       "    <tr>\n",
       "      <th>0</th>\n",
       "      <td>@USER i love  my kindle2 . not that the  is co...</td>\n",
       "      <td>1</td>\n",
       "      <td>1</td>\n",
       "    </tr>\n",
       "    <tr>\n",
       "      <th>1</th>\n",
       "      <td>reading my kindle2 .  love it .  lee childs is...</td>\n",
       "      <td>1</td>\n",
       "      <td>1</td>\n",
       "    </tr>\n",
       "    <tr>\n",
       "      <th>2</th>\n",
       "      <td>ok , first assesment of the kindle 2 .  it fuc...</td>\n",
       "      <td>1</td>\n",
       "      <td>1</td>\n",
       "    </tr>\n",
       "    <tr>\n",
       "      <th>3</th>\n",
       "      <td>@USER you will love your kindle2 . i have had ...</td>\n",
       "      <td>1</td>\n",
       "      <td>1</td>\n",
       "    </tr>\n",
       "    <tr>\n",
       "      <th>4</th>\n",
       "      <td>@USER fair enough . but i have the kindle2 and...</td>\n",
       "      <td>1</td>\n",
       "      <td>1</td>\n",
       "    </tr>\n",
       "  </tbody>\n",
       "</table>\n",
       "</div>"
      ],
      "text/plain": [
       "                                         text_no_tag  polarity  polarity_nn\n",
       "0  @USER i love  my kindle2 . not that the  is co...         1            1\n",
       "1  reading my kindle2 .  love it .  lee childs is...         1            1\n",
       "2  ok , first assesment of the kindle 2 .  it fuc...         1            1\n",
       "3  @USER you will love your kindle2 . i have had ...         1            1\n",
       "4  @USER fair enough . but i have the kindle2 and...         1            1"
      ]
     },
     "execution_count": 9,
     "metadata": {},
     "output_type": "execute_result"
    }
   ],
   "source": [
    "test_lstm.head()"
   ]
  },
  {
   "cell_type": "code",
   "execution_count": 10,
   "metadata": {},
   "outputs": [
    {
     "name": "stdout",
     "output_type": "stream",
     "text": [
      "Accuracy sore:  0.8050139275766016\n",
      "Precision score:  0.7828282828282829\n",
      "Recall score:  0.8516483516483516\n",
      "F-measure score:  0.8157894736842105\n"
     ]
    }
   ],
   "source": [
    "print(\"Accuracy sore: \", accuracy_score(test_lstm['polarity'], test_lstm['polarity_nn']))\n",
    "print(\"Precision score: \", precision_score(test_lstm['polarity'], test_lstm['polarity_nn'], average='binary'))\n",
    "print(\"Recall score: \", recall_score(test_lstm['polarity'], test_lstm['polarity_nn'], average='binary'))\n",
    "print(\"F-measure score: \", f1_score(test_lstm['polarity'], test_lstm['polarity_nn'], average='binary'))"
   ]
  },
  {
   "cell_type": "markdown",
   "metadata": {},
   "source": [
    "### LSTM_VADER"
   ]
  },
  {
   "cell_type": "code",
   "execution_count": 11,
   "metadata": {},
   "outputs": [],
   "source": [
    "columns = ['','text_no_tag','polarity','polarity_nn']\n",
    "\n",
    "test_lstm_vader = pd.read_csv('test_lstm_vader.csv',\n",
    "                     header = 0,\n",
    "                     usecols = [1,2,3],\n",
    "                     names = columns,\n",
    "                     encoding ='ISO-8859-1')"
   ]
  },
  {
   "cell_type": "code",
   "execution_count": 12,
   "metadata": {},
   "outputs": [
    {
     "data": {
      "text/html": [
       "<div>\n",
       "<style>\n",
       "    .dataframe thead tr:only-child th {\n",
       "        text-align: right;\n",
       "    }\n",
       "\n",
       "    .dataframe thead th {\n",
       "        text-align: left;\n",
       "    }\n",
       "\n",
       "    .dataframe tbody tr th {\n",
       "        vertical-align: top;\n",
       "    }\n",
       "</style>\n",
       "<table border=\"1\" class=\"dataframe\">\n",
       "  <thead>\n",
       "    <tr style=\"text-align: right;\">\n",
       "      <th></th>\n",
       "      <th>text_no_tag</th>\n",
       "      <th>polarity</th>\n",
       "      <th>polarity_nn</th>\n",
       "    </tr>\n",
       "  </thead>\n",
       "  <tbody>\n",
       "    <tr>\n",
       "      <th>0</th>\n",
       "      <td>@USER i love  my kindle2 . not that the  is co...</td>\n",
       "      <td>1</td>\n",
       "      <td>1</td>\n",
       "    </tr>\n",
       "    <tr>\n",
       "      <th>1</th>\n",
       "      <td>reading my kindle2 .  love it .  lee childs is...</td>\n",
       "      <td>1</td>\n",
       "      <td>1</td>\n",
       "    </tr>\n",
       "    <tr>\n",
       "      <th>2</th>\n",
       "      <td>ok , first assesment of the kindle 2 .  it fuc...</td>\n",
       "      <td>1</td>\n",
       "      <td>1</td>\n",
       "    </tr>\n",
       "    <tr>\n",
       "      <th>3</th>\n",
       "      <td>@USER you will love your kindle2 . i have had ...</td>\n",
       "      <td>1</td>\n",
       "      <td>1</td>\n",
       "    </tr>\n",
       "    <tr>\n",
       "      <th>4</th>\n",
       "      <td>@USER fair enough . but i have the kindle2 and...</td>\n",
       "      <td>1</td>\n",
       "      <td>1</td>\n",
       "    </tr>\n",
       "  </tbody>\n",
       "</table>\n",
       "</div>"
      ],
      "text/plain": [
       "                                         text_no_tag  polarity  polarity_nn\n",
       "0  @USER i love  my kindle2 . not that the  is co...         1            1\n",
       "1  reading my kindle2 .  love it .  lee childs is...         1            1\n",
       "2  ok , first assesment of the kindle 2 .  it fuc...         1            1\n",
       "3  @USER you will love your kindle2 . i have had ...         1            1\n",
       "4  @USER fair enough . but i have the kindle2 and...         1            1"
      ]
     },
     "execution_count": 12,
     "metadata": {},
     "output_type": "execute_result"
    }
   ],
   "source": [
    "test_lstm_vader.head()"
   ]
  },
  {
   "cell_type": "code",
   "execution_count": 13,
   "metadata": {},
   "outputs": [
    {
     "name": "stdout",
     "output_type": "stream",
     "text": [
      "Accuracy sore:  0.7799442896935933\n",
      "Precision score:  0.7351598173515982\n",
      "Recall score:  0.8846153846153846\n",
      "F-measure score:  0.8029925187032417\n"
     ]
    }
   ],
   "source": [
    "print(\"Accuracy sore: \", accuracy_score(test_lstm_vader['polarity'], test_lstm_vader['polarity_nn']))\n",
    "print(\"Precision score: \", precision_score(test_lstm_vader['polarity'], test_lstm_vader['polarity_nn'], average='binary'))\n",
    "print(\"Recall score: \", recall_score(test_lstm_vader['polarity'], test_lstm_vader['polarity_nn'], average='binary'))\n",
    "print(\"F-measure score: \", f1_score(test_lstm_vader['polarity'], test_lstm_vader['polarity_nn'], average='binary'))"
   ]
  },
  {
   "cell_type": "markdown",
   "metadata": {},
   "source": [
    "### LSTM_GloVe"
   ]
  },
  {
   "cell_type": "code",
   "execution_count": 14,
   "metadata": {},
   "outputs": [],
   "source": [
    "columns = ['','text_no_tag','polarity','polarity_nn']\n",
    "\n",
    "test_lstm_glove = pd.read_csv('test_lstm_glove.csv',\n",
    "                     header = 0,\n",
    "                     usecols = [1,2,3],\n",
    "                     names = columns,\n",
    "                     encoding ='ISO-8859-1')"
   ]
  },
  {
   "cell_type": "code",
   "execution_count": 15,
   "metadata": {},
   "outputs": [
    {
     "data": {
      "text/html": [
       "<div>\n",
       "<style>\n",
       "    .dataframe thead tr:only-child th {\n",
       "        text-align: right;\n",
       "    }\n",
       "\n",
       "    .dataframe thead th {\n",
       "        text-align: left;\n",
       "    }\n",
       "\n",
       "    .dataframe tbody tr th {\n",
       "        vertical-align: top;\n",
       "    }\n",
       "</style>\n",
       "<table border=\"1\" class=\"dataframe\">\n",
       "  <thead>\n",
       "    <tr style=\"text-align: right;\">\n",
       "      <th></th>\n",
       "      <th>text_no_tag</th>\n",
       "      <th>polarity</th>\n",
       "      <th>polarity_nn</th>\n",
       "    </tr>\n",
       "  </thead>\n",
       "  <tbody>\n",
       "    <tr>\n",
       "      <th>0</th>\n",
       "      <td>@USER i love  my kindle2 . not that the  is co...</td>\n",
       "      <td>1</td>\n",
       "      <td>1</td>\n",
       "    </tr>\n",
       "    <tr>\n",
       "      <th>1</th>\n",
       "      <td>reading my kindle2 .  love it .  lee childs is...</td>\n",
       "      <td>1</td>\n",
       "      <td>1</td>\n",
       "    </tr>\n",
       "    <tr>\n",
       "      <th>2</th>\n",
       "      <td>ok , first assesment of the kindle 2 .  it fuc...</td>\n",
       "      <td>1</td>\n",
       "      <td>1</td>\n",
       "    </tr>\n",
       "    <tr>\n",
       "      <th>3</th>\n",
       "      <td>@USER you will love your kindle2 . i have had ...</td>\n",
       "      <td>1</td>\n",
       "      <td>0</td>\n",
       "    </tr>\n",
       "    <tr>\n",
       "      <th>4</th>\n",
       "      <td>@USER fair enough . but i have the kindle2 and...</td>\n",
       "      <td>1</td>\n",
       "      <td>1</td>\n",
       "    </tr>\n",
       "  </tbody>\n",
       "</table>\n",
       "</div>"
      ],
      "text/plain": [
       "                                         text_no_tag  polarity  polarity_nn\n",
       "0  @USER i love  my kindle2 . not that the  is co...         1            1\n",
       "1  reading my kindle2 .  love it .  lee childs is...         1            1\n",
       "2  ok , first assesment of the kindle 2 .  it fuc...         1            1\n",
       "3  @USER you will love your kindle2 . i have had ...         1            0\n",
       "4  @USER fair enough . but i have the kindle2 and...         1            1"
      ]
     },
     "execution_count": 15,
     "metadata": {},
     "output_type": "execute_result"
    }
   ],
   "source": [
    "test_lstm_glove.head()"
   ]
  },
  {
   "cell_type": "code",
   "execution_count": 16,
   "metadata": {},
   "outputs": [
    {
     "name": "stdout",
     "output_type": "stream",
     "text": [
      "Accuracy sore:  0.8384401114206128\n",
      "Precision score:  0.8163265306122449\n",
      "Recall score:  0.8791208791208791\n",
      "F-measure score:  0.8465608465608465\n"
     ]
    }
   ],
   "source": [
    "print(\"Accuracy sore: \", accuracy_score(test_lstm_glove['polarity'], test_lstm_glove['polarity_nn']))\n",
    "print(\"Precision score: \", precision_score(test_lstm_glove['polarity'], test_lstm_glove['polarity_nn'], average='binary'))\n",
    "print(\"Recall score: \", recall_score(test_lstm_glove['polarity'], test_lstm_glove['polarity_nn'], average='binary'))\n",
    "print(\"F-measure score: \", f1_score(test_lstm_glove['polarity'], test_lstm_glove['polarity_nn'], average='binary'))"
   ]
  },
  {
   "cell_type": "markdown",
   "metadata": {},
   "source": [
    "### LSTM_GloVe_VADER"
   ]
  },
  {
   "cell_type": "code",
   "execution_count": 17,
   "metadata": {},
   "outputs": [],
   "source": [
    "columns = ['','text_no_tag','polarity','polarity_nn']\n",
    "\n",
    "test_lstm_glove_vader = pd.read_csv('test_lstm_glove_vader.csv',\n",
    "                     header = 0,\n",
    "                     usecols = [1,2,3],\n",
    "                     names = columns,\n",
    "                     encoding ='ISO-8859-1')"
   ]
  },
  {
   "cell_type": "code",
   "execution_count": 18,
   "metadata": {},
   "outputs": [
    {
     "data": {
      "text/html": [
       "<div>\n",
       "<style>\n",
       "    .dataframe thead tr:only-child th {\n",
       "        text-align: right;\n",
       "    }\n",
       "\n",
       "    .dataframe thead th {\n",
       "        text-align: left;\n",
       "    }\n",
       "\n",
       "    .dataframe tbody tr th {\n",
       "        vertical-align: top;\n",
       "    }\n",
       "</style>\n",
       "<table border=\"1\" class=\"dataframe\">\n",
       "  <thead>\n",
       "    <tr style=\"text-align: right;\">\n",
       "      <th></th>\n",
       "      <th>text_no_tag</th>\n",
       "      <th>polarity</th>\n",
       "      <th>polarity_nn</th>\n",
       "    </tr>\n",
       "  </thead>\n",
       "  <tbody>\n",
       "    <tr>\n",
       "      <th>0</th>\n",
       "      <td>@USER i love  my kindle2 . not that the  is co...</td>\n",
       "      <td>1</td>\n",
       "      <td>1</td>\n",
       "    </tr>\n",
       "    <tr>\n",
       "      <th>1</th>\n",
       "      <td>reading my kindle2 .  love it .  lee childs is...</td>\n",
       "      <td>1</td>\n",
       "      <td>1</td>\n",
       "    </tr>\n",
       "    <tr>\n",
       "      <th>2</th>\n",
       "      <td>ok , first assesment of the kindle 2 .  it fuc...</td>\n",
       "      <td>1</td>\n",
       "      <td>1</td>\n",
       "    </tr>\n",
       "    <tr>\n",
       "      <th>3</th>\n",
       "      <td>@USER you will love your kindle2 . i have had ...</td>\n",
       "      <td>1</td>\n",
       "      <td>1</td>\n",
       "    </tr>\n",
       "    <tr>\n",
       "      <th>4</th>\n",
       "      <td>@USER fair enough . but i have the kindle2 and...</td>\n",
       "      <td>1</td>\n",
       "      <td>1</td>\n",
       "    </tr>\n",
       "  </tbody>\n",
       "</table>\n",
       "</div>"
      ],
      "text/plain": [
       "                                         text_no_tag  polarity  polarity_nn\n",
       "0  @USER i love  my kindle2 . not that the  is co...         1            1\n",
       "1  reading my kindle2 .  love it .  lee childs is...         1            1\n",
       "2  ok , first assesment of the kindle 2 .  it fuc...         1            1\n",
       "3  @USER you will love your kindle2 . i have had ...         1            1\n",
       "4  @USER fair enough . but i have the kindle2 and...         1            1"
      ]
     },
     "execution_count": 18,
     "metadata": {},
     "output_type": "execute_result"
    }
   ],
   "source": [
    "test_lstm_glove_vader.head()"
   ]
  },
  {
   "cell_type": "code",
   "execution_count": 19,
   "metadata": {},
   "outputs": [
    {
     "name": "stdout",
     "output_type": "stream",
     "text": [
      "Accuracy sore:  0.8105849582172702\n",
      "Precision score:  0.759090909090909\n",
      "Recall score:  0.9175824175824175\n",
      "F-measure score:  0.8308457711442785\n"
     ]
    }
   ],
   "source": [
    "print(\"Accuracy sore: \", accuracy_score(test_lstm_glove_vader['polarity'], test_lstm_glove_vader['polarity_nn']))\n",
    "print(\"Precision score: \", precision_score(test_lstm_glove_vader['polarity'], test_lstm_glove_vader['polarity_nn'], average='binary'))\n",
    "print(\"Recall score: \", recall_score(test_lstm_glove_vader['polarity'], test_lstm_glove_vader['polarity_nn'], average='binary'))\n",
    "print(\"F-measure score: \", f1_score(test_lstm_glove_vader['polarity'], test_lstm_glove_vader['polarity_nn'], average='binary'))"
   ]
  },
  {
   "cell_type": "markdown",
   "metadata": {},
   "source": [
    "## ROC Curve"
   ]
  },
  {
   "cell_type": "markdown",
   "metadata": {},
   "source": [
    "### SVM"
   ]
  },
  {
   "cell_type": "code",
   "execution_count": 20,
   "metadata": {},
   "outputs": [],
   "source": [
    "svm_false_positive_rate, svm_true_positive_rate, svm_thresholds = roc_curve(test_svm['polarity'], test_svm['polarity_svm'])\n",
    "svm_roc_auc = auc(svm_false_positive_rate, svm_true_positive_rate)\n"
   ]
  },
  {
   "cell_type": "markdown",
   "metadata": {},
   "source": [
    "### SVM_VADER"
   ]
  },
  {
   "cell_type": "code",
   "execution_count": 21,
   "metadata": {},
   "outputs": [],
   "source": [
    "svm_vader_false_positive_rate, svm_vader_true_positive_rate, svm_vader_thresholds = roc_curve(test_svm_vader['polarity'], test_svm_vader['polarity_svm_vader'])\n",
    "svm_vader_roc_auc = auc(svm_vader_false_positive_rate, svm_vader_true_positive_rate)\n"
   ]
  },
  {
   "cell_type": "markdown",
   "metadata": {},
   "source": [
    "### LSTM"
   ]
  },
  {
   "cell_type": "code",
   "execution_count": 22,
   "metadata": {},
   "outputs": [],
   "source": [
    "lstm_false_positive_rate, lstm_true_positive_rate, lstm_thresholds = roc_curve(test_lstm['polarity'], test_lstm['polarity_nn'])\n",
    "lstm_roc_auc = auc(lstm_false_positive_rate, lstm_true_positive_rate)\n"
   ]
  },
  {
   "cell_type": "markdown",
   "metadata": {},
   "source": [
    "### LSTM_VADER"
   ]
  },
  {
   "cell_type": "code",
   "execution_count": 23,
   "metadata": {},
   "outputs": [],
   "source": [
    "lstm_vader_false_positive_rate, lstm_vader_true_positive_rate, lstm_vader_thresholds = roc_curve(test_lstm_vader['polarity'], test_lstm_vader['polarity_nn'])\n",
    "lstm_vader_roc_auc = auc(lstm_vader_false_positive_rate, lstm_vader_true_positive_rate)\n"
   ]
  },
  {
   "cell_type": "markdown",
   "metadata": {},
   "source": [
    "### LSTM_GloVe"
   ]
  },
  {
   "cell_type": "code",
   "execution_count": 24,
   "metadata": {},
   "outputs": [],
   "source": [
    "lstm_glove_false_positive_rate, lstm_glove_true_positive_rate, lstm_glove_thresholds = roc_curve(test_lstm_glove['polarity'], test_lstm_glove['polarity_nn'])\n",
    "lstm_glove_roc_auc = auc(lstm_glove_false_positive_rate, lstm_glove_true_positive_rate)\n"
   ]
  },
  {
   "cell_type": "markdown",
   "metadata": {},
   "source": [
    "### LSTM_GloVe_VADER"
   ]
  },
  {
   "cell_type": "code",
   "execution_count": 25,
   "metadata": {},
   "outputs": [],
   "source": [
    "lstm_glove_vader_false_positive_rate, lstm_glove_vader_true_positive_rate, lstm_glove_vader_thresholds = roc_curve(test_lstm_glove_vader['polarity'], test_lstm_glove_vader['polarity_nn'])\n",
    "lstm_glove_vader_roc_auc = auc(lstm_glove_vader_false_positive_rate, lstm_glove_vader_true_positive_rate)\n"
   ]
  },
  {
   "cell_type": "markdown",
   "metadata": {},
   "source": [
    "### ROC Curve"
   ]
  },
  {
   "cell_type": "code",
   "execution_count": 37,
   "metadata": {},
   "outputs": [
    {
     "data": {
      "image/png": "[encoded data removed]",
      "text/plain": [
       "<matplotlib.figure.Figure at 0x2054e079240>"
      ]
     },
     "metadata": {},
     "output_type": "display_data"
    }
   ],
   "source": [
    "plt.figure(figsize=(7,7))\n",
    "plt.title('Receiver Operating Characteristic (Polarity scores)')\n",
    "\n",
    "#lstm_glove\n",
    "plt.plot(lstm_glove_false_positive_rate, lstm_glove_true_positive_rate, 'steelblue', label='AUC LSTM GLOVE = %0.2f'% lstm_glove_roc_auc)\n",
    "#svm\n",
    "plt.plot(svm_false_positive_rate, svm_true_positive_rate, 'coral', label='AUC SVM = %0.2f'% svm_roc_auc)\n",
    "#lstm\n",
    "plt.plot(lstm_false_positive_rate, lstm_true_positive_rate, 'forestgreen', label='AUC LSTM = %0.2f'% lstm_roc_auc)\n",
    "\n",
    "plt.legend(loc='lower right')\n",
    "plt.plot([0,1],[0,1],'r--') # random predictions curve\n",
    "plt.xlim([0.0,1.0])\n",
    "plt.ylim([0.0,1.0])\n",
    "\n",
    "plt.ylabel('True Positive Rate')\n",
    "plt.xlabel('False Positive Rate')\n",
    "plt.show()"
   ]
  },
  {
   "cell_type": "code",
   "execution_count": 39,
   "metadata": {},
   "outputs": [
    {
     "data": {
      "image/png": "[encoded data removed]",
      "text/plain": [
       "<matplotlib.figure.Figure at 0x2054e15da58>"
      ]
     },
     "metadata": {},
     "output_type": "display_data"
    },
    {
     "ename": "NameError",
     "evalue": "name 'savefig' is not defined",
     "output_type": "error",
     "traceback": [
      "\u001b[1;31m---------------------------------------------------------------------------\u001b[0m",
      "\u001b[1;31mNameError\u001b[0m                                 Traceback (most recent call last)",
      "\u001b[1;32m<ipython-input-39-7c2e16526cd6>\u001b[0m in \u001b[0;36m<module>\u001b[1;34m()\u001b[0m\n\u001b[0;32m     18\u001b[0m \u001b[0mplt\u001b[0m\u001b[1;33m.\u001b[0m\u001b[0mxlabel\u001b[0m\u001b[1;33m(\u001b[0m\u001b[1;34m'False Positive Rate'\u001b[0m\u001b[1;33m)\u001b[0m\u001b[1;33m\u001b[0m\u001b[0m\n\u001b[0;32m     19\u001b[0m \u001b[0mplt\u001b[0m\u001b[1;33m.\u001b[0m\u001b[0mshow\u001b[0m\u001b[1;33m(\u001b[0m\u001b[1;33m)\u001b[0m\u001b[1;33m\u001b[0m\u001b[0m\n\u001b[1;32m---> 20\u001b[1;33m \u001b[0msavefig\u001b[0m\u001b[1;33m(\u001b[0m\u001b[1;34m'ROC_VADER.png'\u001b[0m\u001b[1;33m)\u001b[0m\u001b[1;33m\u001b[0m\u001b[0m\n\u001b[0m",
      "\u001b[1;31mNameError\u001b[0m: name 'savefig' is not defined"
     ]
    }
   ],
   "source": [
    "plt.figure(figsize=(7,7))\n",
    "plt.title('Receiver Operating Characteristic (VADER scores)')\n",
    "\n",
    "#svm_vader\n",
    "plt.plot(svm_vader_false_positive_rate, svm_vader_true_positive_rate, 'darkmagenta', label='AUC SVM VADER = %0.2f'% svm_vader_roc_auc)\n",
    "#lstm_glove_vader\n",
    "plt.plot(lstm_glove_vader_false_positive_rate, lstm_glove_vader_true_positive_rate, 'maroon', label='AUC LSTM GLOVE VADER = %0.2f'% lstm_glove_vader_roc_auc)\n",
    "#lstm_vader\n",
    "plt.plot(lstm_vader_false_positive_rate, lstm_vader_true_positive_rate, 'gold', label='AUC LSTM VADER = %0.2f'% lstm_vader_roc_auc)\n",
    "\n",
    "\n",
    "plt.legend(loc='lower right')\n",
    "plt.plot([0,1],[0,1],'r--') # random predictions curve\n",
    "plt.xlim([0.0,1.0])\n",
    "plt.ylim([0.0,1.0])\n",
    "\n",
    "plt.ylabel('True Positive Rate')\n",
    "plt.xlabel('False Positive Rate')\n",
    "plt.show()\n",
    "savefig('ROC_VADER.png')"
   ]
  },
  {
   "cell_type": "code",
   "execution_count": null,
   "metadata": {},
   "outputs": [],
   "source": []
  }
 ],
 "metadata": {
  "kernelspec": {
   "display_name": "Python 3",
   "language": "python",
   "name": "python3"
  },
  "language_info": {
   "codemirror_mode": {
    "name": "ipython",
    "version": 3
   },
   "file_extension": ".py",
   "mimetype": "text/x-python",
   "name": "python",
   "nbconvert_exporter": "python",
   "pygments_lexer": "ipython3",
   "version": "3.6.3"
  },
  "latex_envs": {
   "LaTeX_envs_menu_present": true,
   "autoclose": false,
   "autocomplete": true,
   "bibliofile": "biblio.bib",
   "cite_by": "apalike",
   "current_citInitial": 1,
   "eqLabelWithNumbers": true,
   "eqNumInitial": 1,
   "hotkeys": {
    "equation": "Ctrl-E",
    "itemize": "Ctrl-I"
   },
   "labels_anchors": false,
   "latex_user_defs": false,
   "report_style_numbering": false,
   "user_envs_cfg": false
  }
 },
 "nbformat": 4,
 "nbformat_minor": 2
}
