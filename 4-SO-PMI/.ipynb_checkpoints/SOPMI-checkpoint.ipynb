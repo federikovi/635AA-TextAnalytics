{
 "cells": [
  {
   "cell_type": "code",
   "execution_count": 1,
   "metadata": {},
   "outputs": [],
   "source": [
    "import pandas as pd\n",
    "import numpy as np\n",
    "import seaborn as sns\n",
    "import matplotlib.pyplot as plt\n",
    "import re\n",
    "\n",
    "from time import time"
   ]
  },
  {
   "cell_type": "code",
   "execution_count": 2,
   "metadata": {},
   "outputs": [],
   "source": [
    "columns = ['','text_no_tag', 'polarity', 'length']\n",
    "\n",
    "dftrain = pd.read_csv('csv/finaltrain.csv',\n",
    "                     header = 0, \n",
    "                     usecols = [1,2], \n",
    "                     names=columns,\n",
    "                     encoding ='ISO-8859-1')"
   ]
  },
  {
   "cell_type": "code",
   "execution_count": 3,
   "metadata": {},
   "outputs": [
    {
     "data": {
      "text/html": [
       "<div>\n",
       "<style scoped>\n",
       "    .dataframe tbody tr th:only-of-type {\n",
       "        vertical-align: middle;\n",
       "    }\n",
       "\n",
       "    .dataframe tbody tr th {\n",
       "        vertical-align: top;\n",
       "    }\n",
       "\n",
       "    .dataframe thead th {\n",
       "        text-align: right;\n",
       "    }\n",
       "</style>\n",
       "<table border=\"1\" class=\"dataframe\">\n",
       "  <thead>\n",
       "    <tr style=\"text-align: right;\">\n",
       "      <th></th>\n",
       "      <th>text_no_tag</th>\n",
       "      <th>polarity</th>\n",
       "    </tr>\n",
       "  </thead>\n",
       "  <tbody>\n",
       "    <tr>\n",
       "      <th>0</th>\n",
       "      <td>@USER @URL - aw  , that ' s a bummer . you sho...</td>\n",
       "      <td>0</td>\n",
       "    </tr>\n",
       "    <tr>\n",
       "      <th>1</th>\n",
       "      <td>is upset that he can not update his facebook b...</td>\n",
       "      <td>0</td>\n",
       "    </tr>\n",
       "    <tr>\n",
       "      <th>2</th>\n",
       "      <td>@USER i dived many times for the ball . manage...</td>\n",
       "      <td>0</td>\n",
       "    </tr>\n",
       "    <tr>\n",
       "      <th>3</th>\n",
       "      <td>my whole body feels itchy and like its on fire</td>\n",
       "      <td>0</td>\n",
       "    </tr>\n",
       "    <tr>\n",
       "      <th>4</th>\n",
       "      <td>@USER no , it ' s not behaving at all . i am m...</td>\n",
       "      <td>0</td>\n",
       "    </tr>\n",
       "  </tbody>\n",
       "</table>\n",
       "</div>"
      ],
      "text/plain": [
       "                                         text_no_tag  polarity\n",
       "0  @USER @URL - aw  , that ' s a bummer . you sho...         0\n",
       "1  is upset that he can not update his facebook b...         0\n",
       "2  @USER i dived many times for the ball . manage...         0\n",
       "3     my whole body feels itchy and like its on fire         0\n",
       "4  @USER no , it ' s not behaving at all . i am m...         0"
      ]
     },
     "execution_count": 3,
     "metadata": {},
     "output_type": "execute_result"
    }
   ],
   "source": [
    "dftrain.head()"
   ]
  },
  {
   "cell_type": "code",
   "execution_count": 4,
   "metadata": {},
   "outputs": [],
   "source": [
    "from sklearn.utils import shuffle"
   ]
  },
  {
   "cell_type": "code",
   "execution_count": 5,
   "metadata": {},
   "outputs": [],
   "source": [
    "dftrain = shuffle(dftrain)\n",
    "dftrain = dftrain[:20000]"
   ]
  },
  {
   "cell_type": "code",
   "execution_count": 6,
   "metadata": {},
   "outputs": [],
   "source": [
    "tweets = []\n",
    "for t in dftrain['text_no_tag']:\n",
    "    tweets.append(t)"
   ]
  },
  {
   "cell_type": "code",
   "execution_count": 8,
   "metadata": {},
   "outputs": [],
   "source": [
    "from nltk.tokenize import RegexpTokenizer\n",
    "tokenizer = RegexpTokenizer(r'\\w+')\n",
    "\n",
    "words = tokenizer.tokenize(str(tweets))"
   ]
  },
  {
   "cell_type": "code",
   "execution_count": 10,
   "metadata": {},
   "outputs": [],
   "source": [
    "from collections import Counter, deque\n",
    "from math import log\n",
    "\n",
    "class SOPMI:\n",
    "    def __init__(self, pos_seeds, neg_seeds, words, near = 5):\n",
    "        self.w_count = Counter()\n",
    "        self.p_count = dict()\n",
    "        self.pos_seeds = set(pos_seeds)\n",
    "        self.neg_seeds = set(neg_seeds)\n",
    "        window = deque()\n",
    "        window_size = near*2+1\n",
    "        for word in words:\n",
    "            window.append(word)\n",
    "            if len(window)>window_size:\n",
    "                window.popleft()\n",
    "            elif len(window)<window_size:\n",
    "                continue\n",
    "            current_word = window[near]\n",
    "            if current_word in self.pos_seeds or current_word in self.neg_seeds:\n",
    "                self.w_count[current_word] += 1\n",
    "                if current_word not in self.p_count:\n",
    "                    self.p_count[current_word] = Counter()\n",
    "                for window_word in window:\n",
    "                    self.p_count[current_word][window_word] += 1\n",
    "\n",
    "    def hits(self,word):\n",
    "        return self.w_count[word]+1\n",
    "    \n",
    "    def hits_near(self,w1,w2):\n",
    "        if w1 in self.p_count:\n",
    "            return self.p_count[w1][w2]+1\n",
    "        else:\n",
    "            return 1\n",
    "     \n",
    "    def so(self, word):\n",
    "        score = 0\n",
    "        for pos_seed in self.pos_seeds:\n",
    "            score += log(self.hits_near(pos_seed,word)/self.hits(pos_seed))\n",
    "        for neg_seed in self.neg_seeds:\n",
    "            score -= log(self.hits_near(neg_seed,word)/self.hits(neg_seed))\n",
    "        return score   "
   ]
  },
  {
   "cell_type": "code",
   "execution_count": 12,
   "metadata": {},
   "outputs": [
    {
     "name": "stdout",
     "output_type": "stream",
     "text": [
      "['good', 'nice', 'excellent', 'positive', 'fortunate', 'correct', 'superior']\n"
     ]
    }
   ],
   "source": [
    "pos_seeds = ['good','nice','excellent','positive','fortunate','correct','superior']\n",
    "neg_seeds = ['bad','nasty','poor','negative','unfortunate','wrong','inferior']\n",
    "print(pos_seeds)"
   ]
  },
  {
   "cell_type": "code",
   "execution_count": 13,
   "metadata": {},
   "outputs": [],
   "source": [
    "model = SOPMI(pos_seeds, neg_seeds, words)"
   ]
  },
  {
   "cell_type": "code",
   "execution_count": 16,
   "metadata": {},
   "outputs": [],
   "source": [
    "from nltk.corpus import stopwords\n",
    "\n",
    "sw = stopwords.words('english')"
   ]
  },
  {
   "cell_type": "code",
   "execution_count": 17,
   "metadata": {},
   "outputs": [],
   "source": [
    "vocab = set(words)\n",
    "so_values = [(word, model.so(word)) for word in vocab if word not in pos_seeds and word not in neg_seeds and word not in sw]\n",
    "so_values.sort(key = lambda x: x[1])"
   ]
  },
  {
   "cell_type": "code",
   "execution_count": 20,
   "metadata": {},
   "outputs": [
    {
     "data": {
      "text/plain": [
       "18902"
      ]
     },
     "execution_count": 20,
     "metadata": {},
     "output_type": "execute_result"
    }
   ],
   "source": [
    "len(so_values)"
   ]
  },
  {
   "cell_type": "code",
   "execution_count": 21,
   "metadata": {},
   "outputs": [
    {
     "name": "stdout",
     "output_type": "stream",
     "text": [
      "CPU times: user 16min 45s, sys: 1.54 s, total: 16min 46s\n",
      "Wall time: 16min 48s\n"
     ]
    }
   ],
   "source": [
    "%%time\n",
    "#[x[0] for x in my_tuples]\n",
    "scores = []\n",
    "for t in dftrain['text_no_tag']:\n",
    "    score = 0\n",
    "    for word in t.split():\n",
    "        for i in range(0,len(so_values)):\n",
    "            if word == so_values[i][0]:\n",
    "                #print(so_values[i][1])\n",
    "                score = score + so_values[i][1]\n",
    "    scores.append(score)"
   ]
  },
  {
   "cell_type": "code",
   "execution_count": 23,
   "metadata": {},
   "outputs": [
    {
     "data": {
      "text/plain": [
       "20000"
      ]
     },
     "execution_count": 23,
     "metadata": {},
     "output_type": "execute_result"
    }
   ],
   "source": [
    "len(scores)"
   ]
  },
  {
   "cell_type": "code",
   "execution_count": 24,
   "metadata": {},
   "outputs": [],
   "source": [
    "dftrain['SO_PMI_score'] = scores"
   ]
  },
  {
   "cell_type": "code",
   "execution_count": 25,
   "metadata": {},
   "outputs": [
    {
     "data": {
      "text/html": [
       "<div>\n",
       "<style scoped>\n",
       "    .dataframe tbody tr th:only-of-type {\n",
       "        vertical-align: middle;\n",
       "    }\n",
       "\n",
       "    .dataframe tbody tr th {\n",
       "        vertical-align: top;\n",
       "    }\n",
       "\n",
       "    .dataframe thead th {\n",
       "        text-align: right;\n",
       "    }\n",
       "</style>\n",
       "<table border=\"1\" class=\"dataframe\">\n",
       "  <thead>\n",
       "    <tr style=\"text-align: right;\">\n",
       "      <th></th>\n",
       "      <th>text_no_tag</th>\n",
       "      <th>polarity</th>\n",
       "      <th>SO_PMI_score</th>\n",
       "    </tr>\n",
       "  </thead>\n",
       "  <tbody>\n",
       "    <tr>\n",
       "      <th>235076</th>\n",
       "      <td>@USER i have a guinea pig too ! i do not even ...</td>\n",
       "      <td>0</td>\n",
       "      <td>22.492881</td>\n",
       "    </tr>\n",
       "    <tr>\n",
       "      <th>1274244</th>\n",
       "      <td>@USER happy birthday</td>\n",
       "      <td>4</td>\n",
       "      <td>5.027200</td>\n",
       "    </tr>\n",
       "    <tr>\n",
       "      <th>820212</th>\n",
       "      <td>twitter fam wat up , had a great time shoppin ...</td>\n",
       "      <td>4</td>\n",
       "      <td>19.979527</td>\n",
       "    </tr>\n",
       "    <tr>\n",
       "      <th>1490408</th>\n",
       "      <td>watching jimmy kimmel live ' s nba special , s...</td>\n",
       "      <td>4</td>\n",
       "      <td>35.584079</td>\n",
       "    </tr>\n",
       "    <tr>\n",
       "      <th>374153</th>\n",
       "      <td>bedd . wish i could curl up in someone special...</td>\n",
       "      <td>0</td>\n",
       "      <td>17.071806</td>\n",
       "    </tr>\n",
       "  </tbody>\n",
       "</table>\n",
       "</div>"
      ],
      "text/plain": [
       "                                               text_no_tag  polarity  \\\n",
       "235076   @USER i have a guinea pig too ! i do not even ...         0   \n",
       "1274244                               @USER happy birthday         4   \n",
       "820212   twitter fam wat up , had a great time shoppin ...         4   \n",
       "1490408  watching jimmy kimmel live ' s nba special , s...         4   \n",
       "374153   bedd . wish i could curl up in someone special...         0   \n",
       "\n",
       "         SO_PMI_score  \n",
       "235076      22.492881  \n",
       "1274244      5.027200  \n",
       "820212      19.979527  \n",
       "1490408     35.584079  \n",
       "374153      17.071806  "
      ]
     },
     "execution_count": 25,
     "metadata": {},
     "output_type": "execute_result"
    }
   ],
   "source": [
    "dftrain.head()"
   ]
  },
  {
   "cell_type": "code",
   "execution_count": 27,
   "metadata": {},
   "outputs": [],
   "source": [
    "dftrain.to_csv('df_20000_SOPMI.csv')"
   ]
  },
  {
   "cell_type": "code",
   "execution_count": 28,
   "metadata": {},
   "outputs": [
    {
     "data": {
      "text/html": [
       "<div>\n",
       "<style scoped>\n",
       "    .dataframe tbody tr th:only-of-type {\n",
       "        vertical-align: middle;\n",
       "    }\n",
       "\n",
       "    .dataframe tbody tr th {\n",
       "        vertical-align: top;\n",
       "    }\n",
       "\n",
       "    .dataframe thead th {\n",
       "        text-align: right;\n",
       "    }\n",
       "</style>\n",
       "<table border=\"1\" class=\"dataframe\">\n",
       "  <thead>\n",
       "    <tr style=\"text-align: right;\">\n",
       "      <th></th>\n",
       "      <th>text_no_tag</th>\n",
       "      <th>polarity</th>\n",
       "      <th>SO_PMI_score</th>\n",
       "    </tr>\n",
       "  </thead>\n",
       "  <tbody>\n",
       "    <tr>\n",
       "      <th>235076</th>\n",
       "      <td>@USER i have a guinea pig too ! i do not even ...</td>\n",
       "      <td>0</td>\n",
       "      <td>22.492881</td>\n",
       "    </tr>\n",
       "    <tr>\n",
       "      <th>1274244</th>\n",
       "      <td>@USER happy birthday</td>\n",
       "      <td>4</td>\n",
       "      <td>5.027200</td>\n",
       "    </tr>\n",
       "    <tr>\n",
       "      <th>820212</th>\n",
       "      <td>twitter fam wat up , had a great time shoppin ...</td>\n",
       "      <td>4</td>\n",
       "      <td>19.979527</td>\n",
       "    </tr>\n",
       "    <tr>\n",
       "      <th>1490408</th>\n",
       "      <td>watching jimmy kimmel live ' s nba special , s...</td>\n",
       "      <td>4</td>\n",
       "      <td>35.584079</td>\n",
       "    </tr>\n",
       "    <tr>\n",
       "      <th>374153</th>\n",
       "      <td>bedd . wish i could curl up in someone special...</td>\n",
       "      <td>0</td>\n",
       "      <td>17.071806</td>\n",
       "    </tr>\n",
       "  </tbody>\n",
       "</table>\n",
       "</div>"
      ],
      "text/plain": [
       "                                               text_no_tag  polarity  \\\n",
       "235076   @USER i have a guinea pig too ! i do not even ...         0   \n",
       "1274244                               @USER happy birthday         4   \n",
       "820212   twitter fam wat up , had a great time shoppin ...         4   \n",
       "1490408  watching jimmy kimmel live ' s nba special , s...         4   \n",
       "374153   bedd . wish i could curl up in someone special...         0   \n",
       "\n",
       "         SO_PMI_score  \n",
       "235076      22.492881  \n",
       "1274244      5.027200  \n",
       "820212      19.979527  \n",
       "1490408     35.584079  \n",
       "374153      17.071806  "
      ]
     },
     "execution_count": 28,
     "metadata": {},
     "output_type": "execute_result"
    }
   ],
   "source": [
    "dftrain[dftrain['SO_PMI_score']>0].head()"
   ]
  },
  {
   "cell_type": "code",
   "execution_count": 31,
   "metadata": {},
   "outputs": [],
   "source": [
    "from sklearn import preprocessing\n",
    "min_max_scaler = preprocessing.MinMaxScaler(feature_range=(-1,1))"
   ]
  },
  {
   "cell_type": "code",
   "execution_count": 32,
   "metadata": {},
   "outputs": [],
   "source": [
    "x = dftrain[['SO_PMI_score']].values.astype(float)"
   ]
  },
  {
   "cell_type": "code",
   "execution_count": 33,
   "metadata": {},
   "outputs": [],
   "source": [
    "SOPMI_scaled = preprocessing.minmax_scale(dftrain[['SO_PMI_score']].values.astype(float), feature_range=(-1, 1))"
   ]
  },
  {
   "cell_type": "code",
   "execution_count": 34,
   "metadata": {},
   "outputs": [],
   "source": [
    "dftrain['SO_PMI_scaled'] = SOPMI_scaled"
   ]
  },
  {
   "cell_type": "code",
   "execution_count": 35,
   "metadata": {},
   "outputs": [],
   "source": [
    "dftrain['polarity'].replace(to_replace=[4],value=1,inplace=True)"
   ]
  },
  {
   "cell_type": "code",
   "execution_count": 36,
   "metadata": {},
   "outputs": [
    {
     "data": {
      "text/html": [
       "<div>\n",
       "<style scoped>\n",
       "    .dataframe tbody tr th:only-of-type {\n",
       "        vertical-align: middle;\n",
       "    }\n",
       "\n",
       "    .dataframe tbody tr th {\n",
       "        vertical-align: top;\n",
       "    }\n",
       "\n",
       "    .dataframe thead th {\n",
       "        text-align: right;\n",
       "    }\n",
       "</style>\n",
       "<table border=\"1\" class=\"dataframe\">\n",
       "  <thead>\n",
       "    <tr style=\"text-align: right;\">\n",
       "      <th></th>\n",
       "      <th>text_no_tag</th>\n",
       "      <th>polarity</th>\n",
       "      <th>SO_PMI_score</th>\n",
       "      <th>SO_PMI_scaled</th>\n",
       "    </tr>\n",
       "  </thead>\n",
       "  <tbody>\n",
       "    <tr>\n",
       "      <th>235076</th>\n",
       "      <td>@USER i have a guinea pig too ! i do not even ...</td>\n",
       "      <td>0</td>\n",
       "      <td>22.492881</td>\n",
       "      <td>-0.184918</td>\n",
       "    </tr>\n",
       "    <tr>\n",
       "      <th>1274244</th>\n",
       "      <td>@USER happy birthday</td>\n",
       "      <td>1</td>\n",
       "      <td>5.027200</td>\n",
       "      <td>-0.787531</td>\n",
       "    </tr>\n",
       "    <tr>\n",
       "      <th>820212</th>\n",
       "      <td>twitter fam wat up , had a great time shoppin ...</td>\n",
       "      <td>1</td>\n",
       "      <td>19.979527</td>\n",
       "      <td>-0.271635</td>\n",
       "    </tr>\n",
       "    <tr>\n",
       "      <th>1490408</th>\n",
       "      <td>watching jimmy kimmel live ' s nba special , s...</td>\n",
       "      <td>1</td>\n",
       "      <td>35.584079</td>\n",
       "      <td>0.266764</td>\n",
       "    </tr>\n",
       "    <tr>\n",
       "      <th>374153</th>\n",
       "      <td>bedd . wish i could curl up in someone special...</td>\n",
       "      <td>0</td>\n",
       "      <td>17.071806</td>\n",
       "      <td>-0.371959</td>\n",
       "    </tr>\n",
       "  </tbody>\n",
       "</table>\n",
       "</div>"
      ],
      "text/plain": [
       "                                               text_no_tag  polarity  \\\n",
       "235076   @USER i have a guinea pig too ! i do not even ...         0   \n",
       "1274244                               @USER happy birthday         1   \n",
       "820212   twitter fam wat up , had a great time shoppin ...         1   \n",
       "1490408  watching jimmy kimmel live ' s nba special , s...         1   \n",
       "374153   bedd . wish i could curl up in someone special...         0   \n",
       "\n",
       "         SO_PMI_score  SO_PMI_scaled  \n",
       "235076      22.492881      -0.184918  \n",
       "1274244      5.027200      -0.787531  \n",
       "820212      19.979527      -0.271635  \n",
       "1490408     35.584079       0.266764  \n",
       "374153      17.071806      -0.371959  "
      ]
     },
     "execution_count": 36,
     "metadata": {},
     "output_type": "execute_result"
    }
   ],
   "source": [
    "dftrain.head()"
   ]
  },
  {
   "cell_type": "code",
   "execution_count": 37,
   "metadata": {},
   "outputs": [
    {
     "data": {
      "text/plain": [
       "-1.0"
      ]
     },
     "execution_count": 37,
     "metadata": {},
     "output_type": "execute_result"
    }
   ],
   "source": [
    "dftrain['SO_PMI_scaled'].min()"
   ]
  },
  {
   "cell_type": "code",
   "execution_count": 39,
   "metadata": {},
   "outputs": [],
   "source": [
    "dftrain['SO_PMI_sentiment'] = dftrain['SO_PMI_scaled'].apply(lambda x: 0 if x<0 else 1)"
   ]
  },
  {
   "cell_type": "code",
   "execution_count": 40,
   "metadata": {},
   "outputs": [
    {
     "data": {
      "text/html": [
       "<div>\n",
       "<style scoped>\n",
       "    .dataframe tbody tr th:only-of-type {\n",
       "        vertical-align: middle;\n",
       "    }\n",
       "\n",
       "    .dataframe tbody tr th {\n",
       "        vertical-align: top;\n",
       "    }\n",
       "\n",
       "    .dataframe thead th {\n",
       "        text-align: right;\n",
       "    }\n",
       "</style>\n",
       "<table border=\"1\" class=\"dataframe\">\n",
       "  <thead>\n",
       "    <tr style=\"text-align: right;\">\n",
       "      <th></th>\n",
       "      <th>text_no_tag</th>\n",
       "      <th>polarity</th>\n",
       "      <th>SO_PMI_score</th>\n",
       "      <th>SO_PMI_scaled</th>\n",
       "      <th>SO_PMI_sentiment</th>\n",
       "    </tr>\n",
       "  </thead>\n",
       "  <tbody>\n",
       "    <tr>\n",
       "      <th>235076</th>\n",
       "      <td>@USER i have a guinea pig too ! i do not even ...</td>\n",
       "      <td>0</td>\n",
       "      <td>22.492881</td>\n",
       "      <td>-0.184918</td>\n",
       "      <td>0</td>\n",
       "    </tr>\n",
       "    <tr>\n",
       "      <th>1274244</th>\n",
       "      <td>@USER happy birthday</td>\n",
       "      <td>1</td>\n",
       "      <td>5.027200</td>\n",
       "      <td>-0.787531</td>\n",
       "      <td>0</td>\n",
       "    </tr>\n",
       "    <tr>\n",
       "      <th>820212</th>\n",
       "      <td>twitter fam wat up , had a great time shoppin ...</td>\n",
       "      <td>1</td>\n",
       "      <td>19.979527</td>\n",
       "      <td>-0.271635</td>\n",
       "      <td>0</td>\n",
       "    </tr>\n",
       "    <tr>\n",
       "      <th>1490408</th>\n",
       "      <td>watching jimmy kimmel live ' s nba special , s...</td>\n",
       "      <td>1</td>\n",
       "      <td>35.584079</td>\n",
       "      <td>0.266764</td>\n",
       "      <td>1</td>\n",
       "    </tr>\n",
       "    <tr>\n",
       "      <th>374153</th>\n",
       "      <td>bedd . wish i could curl up in someone special...</td>\n",
       "      <td>0</td>\n",
       "      <td>17.071806</td>\n",
       "      <td>-0.371959</td>\n",
       "      <td>0</td>\n",
       "    </tr>\n",
       "  </tbody>\n",
       "</table>\n",
       "</div>"
      ],
      "text/plain": [
       "                                               text_no_tag  polarity  \\\n",
       "235076   @USER i have a guinea pig too ! i do not even ...         0   \n",
       "1274244                               @USER happy birthday         1   \n",
       "820212   twitter fam wat up , had a great time shoppin ...         1   \n",
       "1490408  watching jimmy kimmel live ' s nba special , s...         1   \n",
       "374153   bedd . wish i could curl up in someone special...         0   \n",
       "\n",
       "         SO_PMI_score  SO_PMI_scaled  SO_PMI_sentiment  \n",
       "235076      22.492881      -0.184918                 0  \n",
       "1274244      5.027200      -0.787531                 0  \n",
       "820212      19.979527      -0.271635                 0  \n",
       "1490408     35.584079       0.266764                 1  \n",
       "374153      17.071806      -0.371959                 0  "
      ]
     },
     "execution_count": 40,
     "metadata": {},
     "output_type": "execute_result"
    }
   ],
   "source": [
    "dftrain.head()"
   ]
  },
  {
   "cell_type": "code",
   "execution_count": 42,
   "metadata": {},
   "outputs": [],
   "source": [
    "dftrain.to_csv('SO_PMI_sentiment.csv')"
   ]
  },
  {
   "cell_type": "code",
   "execution_count": 43,
   "metadata": {},
   "outputs": [
    {
     "name": "stdout",
     "output_type": "stream",
     "text": [
      "gold negative tweets: 9964\n",
      "gold positive tweets: 10036\n",
      "SO_PMI_sentiment negative tweets: 18607\n",
      "SO_PMI_sentiment positive tweets: 1393\n"
     ]
    }
   ],
   "source": [
    "print(\"gold negative tweets:\", len(dftrain[dftrain['polarity']==0]))\n",
    "print(\"gold positive tweets:\", len(dftrain[dftrain['polarity']==1]))\n",
    "print(\"SO_PMI_sentiment negative tweets:\", len(dftrain[dftrain['SO_PMI_sentiment']==0]))\n",
    "print(\"SO_PMI_sentiment positive tweets:\", len(dftrain[dftrain['SO_PMI_sentiment']==1]))\n"
   ]
  }
 ],
 "metadata": {
  "kernelspec": {
   "display_name": "Python 3",
   "language": "python",
   "name": "python3"
  },
  "language_info": {
   "codemirror_mode": {
    "name": "ipython",
    "version": 3
   },
   "file_extension": ".py",
   "mimetype": "text/x-python",
   "name": "python",
   "nbconvert_exporter": "python",
   "pygments_lexer": "ipython3",
   "version": "3.6.3"
  },
  "latex_envs": {
   "LaTeX_envs_menu_present": true,
   "autoclose": false,
   "autocomplete": true,
   "bibliofile": "biblio.bib",
   "cite_by": "apalike",
   "current_citInitial": 1,
   "eqLabelWithNumbers": true,
   "eqNumInitial": 1,
   "hotkeys": {
    "equation": "Ctrl-E",
    "itemize": "Ctrl-I"
   },
   "labels_anchors": false,
   "latex_user_defs": false,
   "report_style_numbering": false,
   "user_envs_cfg": false
  }
 },
 "nbformat": 4,
 "nbformat_minor": 2
}
