{
 "cells": [
  {
   "cell_type": "markdown",
   "metadata": {},
   "source": [
    "### SO-PMI"
   ]
  },
  {
   "cell_type": "code",
   "execution_count": 2,
   "metadata": {},
   "outputs": [],
   "source": [
    "import pandas as pd"
   ]
  },
  {
   "cell_type": "code",
   "execution_count": 3,
   "metadata": {},
   "outputs": [],
   "source": [
    "columns = ['id','text_final', 'polarity', 'length']\n",
    "\n",
    "dftrain = pd.read_csv('finaltrain.csv',\n",
    "                     header = 0, \n",
    "                     usecols = [1,2], \n",
    "                     names=columns,\n",
    "                     encoding ='ISO-8859-1')"
   ]
  },
  {
   "cell_type": "code",
   "execution_count": 4,
   "metadata": {},
   "outputs": [],
   "source": [
    "text = dftrain['text_final']"
   ]
  },
  {
   "cell_type": "code",
   "execution_count": 7,
   "metadata": {},
   "outputs": [],
   "source": [
    "from nltk.tokenize import word_tokenize\n"
   ]
  },
  {
   "cell_type": "code",
   "execution_count": null,
   "metadata": {},
   "outputs": [],
   "source": [
    "#words = word_tokenize(text.lower())"
   ]
  },
  {
   "cell_type": "code",
   "execution_count": 12,
   "metadata": {},
   "outputs": [],
   "source": [
    "words = [[word.lower() for word in t.split()] for t in text]"
   ]
  },
  {
   "cell_type": "code",
   "execution_count": 19,
   "metadata": {},
   "outputs": [
    {
     "data": {
      "text/plain": [
       "list"
      ]
     },
     "execution_count": 19,
     "metadata": {},
     "output_type": "execute_result"
    }
   ],
   "source": [
    "type(words)"
   ]
  },
  {
   "cell_type": "code",
   "execution_count": 21,
   "metadata": {},
   "outputs": [],
   "source": [
    "#words_str = ''.join(words)\n",
    "words_str = ''.join(str(e) for e in words)"
   ]
  },
  {
   "cell_type": "code",
   "execution_count": 22,
   "metadata": {},
   "outputs": [
    {
     "data": {
      "text/plain": [
       "str"
      ]
     },
     "execution_count": 22,
     "metadata": {},
     "output_type": "execute_result"
    }
   ],
   "source": [
    "type(words_str)"
   ]
  },
  {
   "cell_type": "code",
   "execution_count": 23,
   "metadata": {},
   "outputs": [],
   "source": [
    "from collections import Counter, deque\n",
    "from math import log\n",
    "\n",
    "class SOPMI:\n",
    "    def __init__(self, pos_seeds, neg_seeds, words_str, near = 10):\n",
    "        self.w_count = Counter()\n",
    "        self.p_count = dict()\n",
    "        self.pos_seeds = set(pos_seeds)\n",
    "        self.neg_seeds = set(neg_seeds)\n",
    "        window = deque()\n",
    "        window_size = near*2+1\n",
    "        for word in words_str:\n",
    "            window.append(word)\n",
    "            if len(window)>window_size:\n",
    "                window.popleft()\n",
    "            elif len(window)<window_size:\n",
    "                continue\n",
    "            current_word = window[near]\n",
    "            if current_word in self.pos_seeds or current_word in self.neg_seeds:\n",
    "                self.w_count[current_word] += 1\n",
    "                if current_word not in self.p_count:\n",
    "                    self.p_count[current_word] = Counter()\n",
    "                for window_word in window:\n",
    "                    self.p_count[current_word][window_word] += 1\n",
    "\n",
    "    def hits(self,word):\n",
    "        return self.w_count[word]+1\n",
    "    \n",
    "    def hits_near(self,w1,w2):\n",
    "        if w1 in self.p_count:\n",
    "            return self.p_count[w1][w2]+1\n",
    "        else:\n",
    "            return 1\n",
    "     \n",
    "    def so(self, word):\n",
    "        score = 0\n",
    "        for pos_seed in self.pos_seeds:\n",
    "            score += log(self.hits_near(pos_seed,word)/self.hits(pos_seed))\n",
    "        for neg_seed in self.neg_seeds:\n",
    "            score -= log(self.hits_near(neg_seed,word)/self.hits(neg_seed))\n",
    "        return score   "
   ]
  },
  {
   "cell_type": "code",
   "execution_count": 24,
   "metadata": {},
   "outputs": [],
   "source": [
    "pos_seeds = ['good','nice','excellent','positive','fortunate','correct','superior']\n",
    "neg_seeds = ['bad','nasty','poor','negative','unfortunate','wrong','inferior']"
   ]
  },
  {
   "cell_type": "code",
   "execution_count": 25,
   "metadata": {},
   "outputs": [
    {
     "name": "stdout",
     "output_type": "stream",
     "text": [
      "['@user', '@url', '-', 'aw', ',', 'that', \"'\", 's', 'a', 'bummer', '.', 'you', 'shoulda', 'got', 'david', 'carr', 'of', 'third', 'day', 'to', 'do', 'it', '.']['is', 'upset', 'that', 'he', 'can', 'not'\n"
     ]
    }
   ],
   "source": [
    "print(words_str[:200])"
   ]
  },
  {
   "cell_type": "code",
   "execution_count": 26,
   "metadata": {},
   "outputs": [],
   "source": [
    "%%time\n",
    "model = SOPMI(pos_seeds, neg_seeds, words_str)"
   ]
  },
  {
   "cell_type": "code",
   "execution_count": null,
   "metadata": {},
   "outputs": [],
   "source": []
  },
  {
   "cell_type": "code",
   "execution_count": 27,
   "metadata": {},
   "outputs": [],
   "source": [
    "from nltk.corpus import stopwords\n",
    "\n",
    "sw = stopwords.words('english')"
   ]
  },
  {
   "cell_type": "code",
   "execution_count": 28,
   "metadata": {},
   "outputs": [],
   "source": [
    "vocab = set(words_str)\n",
    "so_values = [(word, model.so(word)) for word in vocab if word not in pos_seeds and word not in neg_seeds and word not in sw]\n",
    "so_values.sort(key = lambda x: x[1])"
   ]
  },
  {
   "cell_type": "code",
   "execution_count": 29,
   "metadata": {},
   "outputs": [
    {
     "data": {
      "text/plain": [
       "[('r', 0.0),\n",
       " ('k', 0.0),\n",
       " ('\"', 0.0),\n",
       " ('½', 0.0),\n",
       " ('w', 0.0),\n",
       " ('=', 0.0),\n",
       " ('±', 0.0),\n",
       " ('µ', 0.0),\n",
       " (';', 0.0),\n",
       " ('n', 0.0),\n",
       " ('®', 0.0),\n",
       " ('+', 0.0),\n",
       " ('1', 0.0),\n",
       " ('*', 0.0),\n",
       " ('8', 0.0),\n",
       " ('§', 0.0),\n",
       " ('¨', 0.0),\n",
       " ('¿', 0.0),\n",
       " ('¼', 0.0),\n",
       " ('¤', 0.0),\n",
       " ('e', 0.0),\n",
       " ('j', 0.0),\n",
       " (':', 0.0),\n",
       " ('c', 0.0),\n",
       " ('¶', 0.0),\n",
       " ('´', 0.0),\n",
       " ('(', 0.0),\n",
       " ('p', 0.0),\n",
       " ('©', 0.0),\n",
       " ('¾', 0.0),\n",
       " ('¸', 0.0),\n",
       " ('¹', 0.0),\n",
       " ('·', 0.0),\n",
       " ('5', 0.0),\n",
       " ('$', 0.0),\n",
       " ('\\\\', 0.0),\n",
       " ('¦', 0.0),\n",
       " ('x', 0.0),\n",
       " ('¯', 0.0),\n",
       " ('³', 0.0),\n",
       " (')', 0.0),\n",
       " ('g', 0.0),\n",
       " ('h', 0.0),\n",
       " ('!', 0.0),\n",
       " (\"'\", 0.0),\n",
       " ('¢', 0.0),\n",
       " ('@', 0.0),\n",
       " ('7', 0.0),\n",
       " (' ', 0.0),\n",
       " ('¡', 0.0)]"
      ]
     },
     "execution_count": 29,
     "metadata": {},
     "output_type": "execute_result"
    }
   ],
   "source": [
    "so_values[:50]"
   ]
  },
  {
   "cell_type": "code",
   "execution_count": 30,
   "metadata": {},
   "outputs": [
    {
     "data": {
      "text/plain": [
       "[('!', 0.0),\n",
       " (\"'\", 0.0),\n",
       " ('¢', 0.0),\n",
       " ('@', 0.0),\n",
       " ('7', 0.0),\n",
       " (' ', 0.0),\n",
       " ('¡', 0.0),\n",
       " ('.', 0.0),\n",
       " ('<', 0.0),\n",
       " ('l', 0.0),\n",
       " ('£', 0.0),\n",
       " (']', 0.0),\n",
       " ('|', 0.0),\n",
       " ('}', 0.0),\n",
       " ('q', 0.0),\n",
       " ('²', 0.0),\n",
       " ('&', 0.0),\n",
       " ('%', 0.0),\n",
       " ('°', 0.0),\n",
       " ('«', 0.0),\n",
       " ('4', 0.0),\n",
       " ('#', 0.0),\n",
       " ('~', 0.0),\n",
       " ('º', 0.0),\n",
       " ('-', 0.0),\n",
       " ('{', 0.0),\n",
       " ('_', 0.0),\n",
       " ('/', 0.0),\n",
       " ('â', 0.0),\n",
       " ('¬', 0.0),\n",
       " ('`', 0.0),\n",
       " ('6', 0.0),\n",
       " ('>', 0.0),\n",
       " ('ª', 0.0),\n",
       " ('z', 0.0),\n",
       " ('[', 0.0),\n",
       " ('»', 0.0),\n",
       " ('u', 0.0),\n",
       " ('?', 0.0),\n",
       " ('b', 0.0),\n",
       " ('v', 0.0),\n",
       " ('^', 0.0),\n",
       " (',', 0.0),\n",
       " ('9', 0.0),\n",
       " ('3', 0.0),\n",
       " ('2', 0.0),\n",
       " ('¥', 0.0),\n",
       " ('ã', 0.0),\n",
       " ('0', 0.0),\n",
       " ('f', 0.0)]"
      ]
     },
     "execution_count": 30,
     "metadata": {},
     "output_type": "execute_result"
    }
   ],
   "source": [
    "so_values[-50:]"
   ]
  },
  {
   "cell_type": "code",
   "execution_count": 31,
   "metadata": {},
   "outputs": [
    {
     "data": {
      "text/plain": [
       "[('r', 0.0),\n",
       " ('k', 0.0),\n",
       " ('\"', 0.0),\n",
       " ('½', 0.0),\n",
       " ('w', 0.0),\n",
       " ('=', 0.0),\n",
       " ('±', 0.0),\n",
       " ('µ', 0.0),\n",
       " (';', 0.0),\n",
       " ('n', 0.0),\n",
       " ('®', 0.0),\n",
       " ('+', 0.0),\n",
       " ('1', 0.0),\n",
       " ('*', 0.0),\n",
       " ('8', 0.0),\n",
       " ('§', 0.0),\n",
       " ('¨', 0.0),\n",
       " ('¿', 0.0),\n",
       " ('¼', 0.0),\n",
       " ('¤', 0.0),\n",
       " ('e', 0.0),\n",
       " ('j', 0.0),\n",
       " (':', 0.0),\n",
       " ('c', 0.0),\n",
       " ('¶', 0.0),\n",
       " ('´', 0.0),\n",
       " ('(', 0.0),\n",
       " ('p', 0.0),\n",
       " ('©', 0.0),\n",
       " ('¾', 0.0),\n",
       " ('¸', 0.0),\n",
       " ('¹', 0.0),\n",
       " ('·', 0.0),\n",
       " ('5', 0.0),\n",
       " ('$', 0.0),\n",
       " ('\\\\', 0.0),\n",
       " ('¦', 0.0),\n",
       " ('x', 0.0),\n",
       " ('¯', 0.0),\n",
       " ('³', 0.0),\n",
       " (')', 0.0),\n",
       " ('g', 0.0),\n",
       " ('h', 0.0),\n",
       " ('!', 0.0),\n",
       " (\"'\", 0.0),\n",
       " ('¢', 0.0),\n",
       " ('@', 0.0),\n",
       " ('7', 0.0),\n",
       " (' ', 0.0),\n",
       " ('¡', 0.0),\n",
       " ('.', 0.0),\n",
       " ('<', 0.0),\n",
       " ('l', 0.0),\n",
       " ('£', 0.0),\n",
       " (']', 0.0),\n",
       " ('|', 0.0),\n",
       " ('}', 0.0),\n",
       " ('q', 0.0),\n",
       " ('²', 0.0),\n",
       " ('&', 0.0),\n",
       " ('%', 0.0),\n",
       " ('°', 0.0),\n",
       " ('«', 0.0),\n",
       " ('4', 0.0),\n",
       " ('#', 0.0),\n",
       " ('~', 0.0),\n",
       " ('º', 0.0),\n",
       " ('-', 0.0),\n",
       " ('{', 0.0),\n",
       " ('_', 0.0),\n",
       " ('/', 0.0),\n",
       " ('â', 0.0),\n",
       " ('¬', 0.0),\n",
       " ('`', 0.0),\n",
       " ('6', 0.0),\n",
       " ('>', 0.0),\n",
       " ('ª', 0.0),\n",
       " ('z', 0.0),\n",
       " ('[', 0.0),\n",
       " ('»', 0.0),\n",
       " ('u', 0.0),\n",
       " ('?', 0.0),\n",
       " ('b', 0.0),\n",
       " ('v', 0.0),\n",
       " ('^', 0.0),\n",
       " (',', 0.0),\n",
       " ('9', 0.0),\n",
       " ('3', 0.0),\n",
       " ('2', 0.0),\n",
       " ('¥', 0.0),\n",
       " ('ã', 0.0),\n",
       " ('0', 0.0),\n",
       " ('f', 0.0)]"
      ]
     },
     "execution_count": 31,
     "metadata": {},
     "output_type": "execute_result"
    }
   ],
   "source": [
    "so_values"
   ]
  }
 ],
 "metadata": {
  "kernelspec": {
   "display_name": "Python 3",
   "language": "python",
   "name": "python3"
  },
  "language_info": {
   "codemirror_mode": {
    "name": "ipython",
    "version": 3
   },
   "file_extension": ".py",
   "mimetype": "text/x-python",
   "name": "python",
   "nbconvert_exporter": "python",
   "pygments_lexer": "ipython3",
   "version": "3.6.3"
  },
  "latex_envs": {
   "LaTeX_envs_menu_present": true,
   "autoclose": false,
   "autocomplete": true,
   "bibliofile": "biblio.bib",
   "cite_by": "apalike",
   "current_citInitial": 1,
   "eqLabelWithNumbers": true,
   "eqNumInitial": 1,
   "hotkeys": {
    "equation": "Ctrl-E",
    "itemize": "Ctrl-I"
   },
   "labels_anchors": false,
   "latex_user_defs": false,
   "report_style_numbering": false,
   "user_envs_cfg": false
  }
 },
 "nbformat": 4,
 "nbformat_minor": 2
}
