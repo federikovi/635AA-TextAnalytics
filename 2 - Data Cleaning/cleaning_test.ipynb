{
 "cells": [
  {
   "cell_type": "markdown",
   "metadata": {},
   "source": [
    "# Cleaning test set"
   ]
  },
  {
   "cell_type": "code",
   "execution_count": 8,
   "metadata": {},
   "outputs": [],
   "source": [
    "import pandas as pd\n",
    "import numpy as np\n",
    "import seaborn as sns\n",
    "import matplotlib.pyplot as plt\n",
    "import re\n",
    "from time import time\n",
    "from bs4 import BeautifulSoup\n",
    "from ekphrasis.classes.preprocessor import TextPreProcessor\n",
    "from ekphrasis.classes.tokenizer import SocialTokenizer\n",
    "from ekphrasis.dicts.emoticons import emoticons"
   ]
  },
  {
   "cell_type": "code",
   "execution_count": 9,
   "metadata": {},
   "outputs": [],
   "source": [
    "columns = ['polarity', 'id', 'date', 'query_type', 'user', 'text']\n",
    "\n",
    "dftest = pd.read_csv('csv/testdata.manual.2009.06.14.csv',\n",
    "                     header = None, \n",
    "                     usecols = [0,5], \n",
    "                     names=columns,\n",
    "                     encoding ='ISO-8859-1')"
   ]
  },
  {
   "cell_type": "code",
   "execution_count": 10,
   "metadata": {},
   "outputs": [
    {
     "data": {
      "text/html": [
       "<div>\n",
       "<style scoped>\n",
       "    .dataframe tbody tr th:only-of-type {\n",
       "        vertical-align: middle;\n",
       "    }\n",
       "\n",
       "    .dataframe tbody tr th {\n",
       "        vertical-align: top;\n",
       "    }\n",
       "\n",
       "    .dataframe thead th {\n",
       "        text-align: right;\n",
       "    }\n",
       "</style>\n",
       "<table border=\"1\" class=\"dataframe\">\n",
       "  <thead>\n",
       "    <tr style=\"text-align: right;\">\n",
       "      <th></th>\n",
       "      <th>polarity</th>\n",
       "      <th>text</th>\n",
       "    </tr>\n",
       "  </thead>\n",
       "  <tbody>\n",
       "    <tr>\n",
       "      <th>0</th>\n",
       "      <td>4</td>\n",
       "      <td>@stellargirl I loooooooovvvvvveee my Kindle2. ...</td>\n",
       "    </tr>\n",
       "    <tr>\n",
       "      <th>1</th>\n",
       "      <td>4</td>\n",
       "      <td>Reading my kindle2...  Love it... Lee childs i...</td>\n",
       "    </tr>\n",
       "    <tr>\n",
       "      <th>2</th>\n",
       "      <td>4</td>\n",
       "      <td>Ok, first assesment of the #kindle2 ...it fuck...</td>\n",
       "    </tr>\n",
       "    <tr>\n",
       "      <th>3</th>\n",
       "      <td>4</td>\n",
       "      <td>@kenburbary You'll love your Kindle2. I've had...</td>\n",
       "    </tr>\n",
       "    <tr>\n",
       "      <th>4</th>\n",
       "      <td>4</td>\n",
       "      <td>@mikefish  Fair enough. But i have the Kindle2...</td>\n",
       "    </tr>\n",
       "  </tbody>\n",
       "</table>\n",
       "</div>"
      ],
      "text/plain": [
       "   polarity                                               text\n",
       "0         4  @stellargirl I loooooooovvvvvveee my Kindle2. ...\n",
       "1         4  Reading my kindle2...  Love it... Lee childs i...\n",
       "2         4  Ok, first assesment of the #kindle2 ...it fuck...\n",
       "3         4  @kenburbary You'll love your Kindle2. I've had...\n",
       "4         4  @mikefish  Fair enough. But i have the Kindle2..."
      ]
     },
     "execution_count": 10,
     "metadata": {},
     "output_type": "execute_result"
    }
   ],
   "source": [
    "dftest.head()"
   ]
  },
  {
   "cell_type": "code",
   "execution_count": 11,
   "metadata": {},
   "outputs": [
    {
     "data": {
      "text/plain": [
       "498"
      ]
     },
     "execution_count": 11,
     "metadata": {},
     "output_type": "execute_result"
    }
   ],
   "source": [
    "len(dftest)"
   ]
  },
  {
   "cell_type": "markdown",
   "metadata": {},
   "source": [
    "#### Verifying tweets' length"
   ]
  },
  {
   "cell_type": "code",
   "execution_count": 12,
   "metadata": {},
   "outputs": [],
   "source": [
    "dftest['length'] = [len(t) for t in dftest.text]"
   ]
  },
  {
   "cell_type": "code",
   "execution_count": 13,
   "metadata": {},
   "outputs": [
    {
     "data": {
      "text/html": [
       "<div>\n",
       "<style scoped>\n",
       "    .dataframe tbody tr th:only-of-type {\n",
       "        vertical-align: middle;\n",
       "    }\n",
       "\n",
       "    .dataframe tbody tr th {\n",
       "        vertical-align: top;\n",
       "    }\n",
       "\n",
       "    .dataframe thead th {\n",
       "        text-align: right;\n",
       "    }\n",
       "</style>\n",
       "<table border=\"1\" class=\"dataframe\">\n",
       "  <thead>\n",
       "    <tr style=\"text-align: right;\">\n",
       "      <th></th>\n",
       "      <th>polarity</th>\n",
       "      <th>text</th>\n",
       "      <th>length</th>\n",
       "    </tr>\n",
       "  </thead>\n",
       "  <tbody>\n",
       "    <tr>\n",
       "      <th>208</th>\n",
       "      <td>4</td>\n",
       "      <td>@BlondeBroad it's definitely under warranty &amp;a...</td>\n",
       "      <td>143</td>\n",
       "    </tr>\n",
       "    <tr>\n",
       "      <th>209</th>\n",
       "      <td>2</td>\n",
       "      <td>RT Look, Available !Amazon Kindle2 &amp;amp; Kindl...</td>\n",
       "      <td>144</td>\n",
       "    </tr>\n",
       "    <tr>\n",
       "      <th>213</th>\n",
       "      <td>0</td>\n",
       "      <td>OMG - time warner f'ed up my internet install ...</td>\n",
       "      <td>142</td>\n",
       "    </tr>\n",
       "    <tr>\n",
       "      <th>227</th>\n",
       "      <td>0</td>\n",
       "      <td>pissed about at&amp;amp;t's mid-contract upgrade p...</td>\n",
       "      <td>141</td>\n",
       "    </tr>\n",
       "    <tr>\n",
       "      <th>230</th>\n",
       "      <td>0</td>\n",
       "      <td>@springsingfiend @dvyers @sethdaggett @jlshack...</td>\n",
       "      <td>144</td>\n",
       "    </tr>\n",
       "    <tr>\n",
       "      <th>469</th>\n",
       "      <td>4</td>\n",
       "      <td>@cwong08 I have a Kindle2 (&amp;amp; Sony PRS-500)...</td>\n",
       "      <td>144</td>\n",
       "    </tr>\n",
       "  </tbody>\n",
       "</table>\n",
       "</div>"
      ],
      "text/plain": [
       "     polarity                                               text  length\n",
       "208         4  @BlondeBroad it's definitely under warranty &a...     143\n",
       "209         2  RT Look, Available !Amazon Kindle2 &amp; Kindl...     144\n",
       "213         0  OMG - time warner f'ed up my internet install ...     142\n",
       "227         0  pissed about at&amp;t's mid-contract upgrade p...     141\n",
       "230         0  @springsingfiend @dvyers @sethdaggett @jlshack...     144\n",
       "469         4  @cwong08 I have a Kindle2 (&amp; Sony PRS-500)...     144"
      ]
     },
     "execution_count": 13,
     "metadata": {},
     "output_type": "execute_result"
    }
   ],
   "source": [
    "dftest[dftest.length >140].head(100)"
   ]
  },
  {
   "cell_type": "code",
   "execution_count": 14,
   "metadata": {},
   "outputs": [
    {
     "data": {
      "text/plain": [
       "6"
      ]
     },
     "execution_count": 14,
     "metadata": {},
     "output_type": "execute_result"
    }
   ],
   "source": [
    "len(dftest[dftest.length >140])"
   ]
  },
  {
   "cell_type": "code",
   "execution_count": 16,
   "metadata": {},
   "outputs": [
    {
     "name": "stdout",
     "output_type": "stream",
     "text": [
      "CPU times: user 91.8 ms, sys: 7.77 ms, total: 99.6 ms\n",
      "Wall time: 98.4 ms\n"
     ]
    }
   ],
   "source": [
    "%%time\n",
    "souped_tweets = []\n",
    "for i in dftest['text']:\n",
    "    soup = BeautifulSoup(i, 'lxml')\n",
    "    souped = soup.get_text()\n",
    "    souped_tweets.append(souped)"
   ]
  },
  {
   "cell_type": "code",
   "execution_count": 17,
   "metadata": {},
   "outputs": [],
   "source": [
    "dftest['bom_text'] = [t for t in souped_tweets]\n",
    "#[len(t) for t in df_soup_tw_length.text]"
   ]
  },
  {
   "cell_type": "code",
   "execution_count": 18,
   "metadata": {},
   "outputs": [
    {
     "data": {
      "text/html": [
       "<div>\n",
       "<style scoped>\n",
       "    .dataframe tbody tr th:only-of-type {\n",
       "        vertical-align: middle;\n",
       "    }\n",
       "\n",
       "    .dataframe tbody tr th {\n",
       "        vertical-align: top;\n",
       "    }\n",
       "\n",
       "    .dataframe thead th {\n",
       "        text-align: right;\n",
       "    }\n",
       "</style>\n",
       "<table border=\"1\" class=\"dataframe\">\n",
       "  <thead>\n",
       "    <tr style=\"text-align: right;\">\n",
       "      <th></th>\n",
       "      <th>polarity</th>\n",
       "      <th>text</th>\n",
       "      <th>length</th>\n",
       "      <th>bom_text</th>\n",
       "    </tr>\n",
       "  </thead>\n",
       "  <tbody>\n",
       "    <tr>\n",
       "      <th>0</th>\n",
       "      <td>4</td>\n",
       "      <td>@stellargirl I loooooooovvvvvveee my Kindle2. ...</td>\n",
       "      <td>111</td>\n",
       "      <td>@stellargirl I loooooooovvvvvveee my Kindle2. ...</td>\n",
       "    </tr>\n",
       "    <tr>\n",
       "      <th>1</th>\n",
       "      <td>4</td>\n",
       "      <td>Reading my kindle2...  Love it... Lee childs i...</td>\n",
       "      <td>58</td>\n",
       "      <td>Reading my kindle2...  Love it... Lee childs i...</td>\n",
       "    </tr>\n",
       "    <tr>\n",
       "      <th>2</th>\n",
       "      <td>4</td>\n",
       "      <td>Ok, first assesment of the #kindle2 ...it fuck...</td>\n",
       "      <td>58</td>\n",
       "      <td>Ok, first assesment of the #kindle2 ...it fuck...</td>\n",
       "    </tr>\n",
       "    <tr>\n",
       "      <th>3</th>\n",
       "      <td>4</td>\n",
       "      <td>@kenburbary You'll love your Kindle2. I've had...</td>\n",
       "      <td>140</td>\n",
       "      <td>@kenburbary You'll love your Kindle2. I've had...</td>\n",
       "    </tr>\n",
       "    <tr>\n",
       "      <th>4</th>\n",
       "      <td>4</td>\n",
       "      <td>@mikefish  Fair enough. But i have the Kindle2...</td>\n",
       "      <td>75</td>\n",
       "      <td>@mikefish  Fair enough. But i have the Kindle2...</td>\n",
       "    </tr>\n",
       "  </tbody>\n",
       "</table>\n",
       "</div>"
      ],
      "text/plain": [
       "   polarity                                               text  length  \\\n",
       "0         4  @stellargirl I loooooooovvvvvveee my Kindle2. ...     111   \n",
       "1         4  Reading my kindle2...  Love it... Lee childs i...      58   \n",
       "2         4  Ok, first assesment of the #kindle2 ...it fuck...      58   \n",
       "3         4  @kenburbary You'll love your Kindle2. I've had...     140   \n",
       "4         4  @mikefish  Fair enough. But i have the Kindle2...      75   \n",
       "\n",
       "                                            bom_text  \n",
       "0  @stellargirl I loooooooovvvvvveee my Kindle2. ...  \n",
       "1  Reading my kindle2...  Love it... Lee childs i...  \n",
       "2  Ok, first assesment of the #kindle2 ...it fuck...  \n",
       "3  @kenburbary You'll love your Kindle2. I've had...  \n",
       "4  @mikefish  Fair enough. But i have the Kindle2...  "
      ]
     },
     "execution_count": 18,
     "metadata": {},
     "output_type": "execute_result"
    }
   ],
   "source": [
    "dftest.head()"
   ]
  },
  {
   "cell_type": "code",
   "execution_count": 19,
   "metadata": {},
   "outputs": [],
   "source": [
    "bom_test = dftest[['bom_text', 'polarity']].copy()"
   ]
  },
  {
   "cell_type": "code",
   "execution_count": 20,
   "metadata": {},
   "outputs": [
    {
     "data": {
      "text/html": [
       "<div>\n",
       "<style scoped>\n",
       "    .dataframe tbody tr th:only-of-type {\n",
       "        vertical-align: middle;\n",
       "    }\n",
       "\n",
       "    .dataframe tbody tr th {\n",
       "        vertical-align: top;\n",
       "    }\n",
       "\n",
       "    .dataframe thead th {\n",
       "        text-align: right;\n",
       "    }\n",
       "</style>\n",
       "<table border=\"1\" class=\"dataframe\">\n",
       "  <thead>\n",
       "    <tr style=\"text-align: right;\">\n",
       "      <th></th>\n",
       "      <th>bom_text</th>\n",
       "      <th>polarity</th>\n",
       "    </tr>\n",
       "  </thead>\n",
       "  <tbody>\n",
       "    <tr>\n",
       "      <th>0</th>\n",
       "      <td>@stellargirl I loooooooovvvvvveee my Kindle2. ...</td>\n",
       "      <td>4</td>\n",
       "    </tr>\n",
       "    <tr>\n",
       "      <th>1</th>\n",
       "      <td>Reading my kindle2...  Love it... Lee childs i...</td>\n",
       "      <td>4</td>\n",
       "    </tr>\n",
       "    <tr>\n",
       "      <th>2</th>\n",
       "      <td>Ok, first assesment of the #kindle2 ...it fuck...</td>\n",
       "      <td>4</td>\n",
       "    </tr>\n",
       "    <tr>\n",
       "      <th>3</th>\n",
       "      <td>@kenburbary You'll love your Kindle2. I've had...</td>\n",
       "      <td>4</td>\n",
       "    </tr>\n",
       "    <tr>\n",
       "      <th>4</th>\n",
       "      <td>@mikefish  Fair enough. But i have the Kindle2...</td>\n",
       "      <td>4</td>\n",
       "    </tr>\n",
       "  </tbody>\n",
       "</table>\n",
       "</div>"
      ],
      "text/plain": [
       "                                            bom_text  polarity\n",
       "0  @stellargirl I loooooooovvvvvveee my Kindle2. ...         4\n",
       "1  Reading my kindle2...  Love it... Lee childs i...         4\n",
       "2  Ok, first assesment of the #kindle2 ...it fuck...         4\n",
       "3  @kenburbary You'll love your Kindle2. I've had...         4\n",
       "4  @mikefish  Fair enough. But i have the Kindle2...         4"
      ]
     },
     "execution_count": 20,
     "metadata": {},
     "output_type": "execute_result"
    }
   ],
   "source": [
    "bom_test.head()"
   ]
  },
  {
   "cell_type": "code",
   "execution_count": 22,
   "metadata": {},
   "outputs": [],
   "source": [
    "bom_test['length'] = [len(t) for t in bom_test.bom_text]"
   ]
  },
  {
   "cell_type": "code",
   "execution_count": 23,
   "metadata": {},
   "outputs": [
    {
     "data": {
      "text/html": [
       "<div>\n",
       "<style scoped>\n",
       "    .dataframe tbody tr th:only-of-type {\n",
       "        vertical-align: middle;\n",
       "    }\n",
       "\n",
       "    .dataframe tbody tr th {\n",
       "        vertical-align: top;\n",
       "    }\n",
       "\n",
       "    .dataframe thead th {\n",
       "        text-align: right;\n",
       "    }\n",
       "</style>\n",
       "<table border=\"1\" class=\"dataframe\">\n",
       "  <thead>\n",
       "    <tr style=\"text-align: right;\">\n",
       "      <th></th>\n",
       "      <th>bom_text</th>\n",
       "      <th>polarity</th>\n",
       "      <th>length</th>\n",
       "    </tr>\n",
       "  </thead>\n",
       "  <tbody>\n",
       "    <tr>\n",
       "      <th>493</th>\n",
       "      <td>Ask Programming: LaTeX or InDesign?: submitted...</td>\n",
       "      <td>2</td>\n",
       "      <td>102</td>\n",
       "    </tr>\n",
       "    <tr>\n",
       "      <th>494</th>\n",
       "      <td>On that note, I hate Word. I hate Pages. I hat...</td>\n",
       "      <td>0</td>\n",
       "      <td>125</td>\n",
       "    </tr>\n",
       "    <tr>\n",
       "      <th>495</th>\n",
       "      <td>Ahhh... back in a *real* text editing environm...</td>\n",
       "      <td>4</td>\n",
       "      <td>62</td>\n",
       "    </tr>\n",
       "    <tr>\n",
       "      <th>496</th>\n",
       "      <td>Trouble in Iran, I see. Hmm. Iran. Iran so far...</td>\n",
       "      <td>0</td>\n",
       "      <td>94</td>\n",
       "    </tr>\n",
       "    <tr>\n",
       "      <th>497</th>\n",
       "      <td>Reading the tweets coming out of Iran... The w...</td>\n",
       "      <td>0</td>\n",
       "      <td>92</td>\n",
       "    </tr>\n",
       "  </tbody>\n",
       "</table>\n",
       "</div>"
      ],
      "text/plain": [
       "                                              bom_text  polarity  length\n",
       "493  Ask Programming: LaTeX or InDesign?: submitted...         2     102\n",
       "494  On that note, I hate Word. I hate Pages. I hat...         0     125\n",
       "495  Ahhh... back in a *real* text editing environm...         4      62\n",
       "496  Trouble in Iran, I see. Hmm. Iran. Iran so far...         0      94\n",
       "497  Reading the tweets coming out of Iran... The w...         0      92"
      ]
     },
     "execution_count": 23,
     "metadata": {},
     "output_type": "execute_result"
    }
   ],
   "source": [
    "bom_test.tail()"
   ]
  },
  {
   "cell_type": "code",
   "execution_count": 24,
   "metadata": {},
   "outputs": [
    {
     "data": {
      "text/plain": [
       "bom_text    0\n",
       "polarity    0\n",
       "length      0\n",
       "dtype: int64"
      ]
     },
     "execution_count": 24,
     "metadata": {},
     "output_type": "execute_result"
    }
   ],
   "source": [
    "bom_test[bom_test.length >140].count()"
   ]
  },
  {
   "cell_type": "markdown",
   "metadata": {},
   "source": [
    "#### Applying Ekphrasis Library for cleaning dataset\n",
    "\n",
    "- substitute URLs with tag `<url>`\n",
    "- substitute emails with tag `<email>`\n",
    "- substitute mentions with tag `<user>`\n",
    "- remove percent, money, phone, time, date, number"
   ]
  },
  {
   "cell_type": "code",
   "execution_count": 25,
   "metadata": {},
   "outputs": [
    {
     "name": "stdout",
     "output_type": "stream",
     "text": [
      "Reading twitter - 1grams ...\n",
      "Reading twitter - 2grams ...\n",
      "Reading twitter - 1grams ...\n",
      "CPU times: user 5.45 s, sys: 411 ms, total: 5.86 s\n",
      "Wall time: 5.86 s\n"
     ]
    }
   ],
   "source": [
    "%%time\n",
    "\n",
    "text_processor = TextPreProcessor(\n",
    "    # terms that will be normalized\n",
    "    normalize=['url', 'email', 'percent', 'money', 'phone', 'user',\n",
    "        'time', 'date', 'number'],\n",
    "    # terms that will be annotated\n",
    "    annotate={\"elongated\", \"repeated\"},\n",
    "    fix_html=True,  # fix HTML tokens\n",
    "    \n",
    "    # corpus from which the word statistics are going to be used \n",
    "    # for word segmentation \n",
    "    segmenter=\"twitter\", \n",
    "    \n",
    "    # corpus from which the word statistics are going to be used \n",
    "    # for spell correction\n",
    "    corrector=\"twitter\", \n",
    "    \n",
    "    unpack_hashtags=True,  # perform word segmentation on hashtags\n",
    "    unpack_contractions=True,  # Unpack contractions (can't -> can not)\n",
    "    spell_correct_elong=False,  # spell correction for elongated word\n",
    "    \n",
    "    # select a tokenizer. You can use SocialTokenizer, or pass your own\n",
    "    # the tokenizer, should take as input a string and return a list of tokens\n",
    "    tokenizer=SocialTokenizer(lowercase=True).tokenize,\n",
    "    \n",
    "    # list of dictionaries, for replacing tokens extracted from the text,\n",
    "    # with other expressions. You can pass more than one dictionaries.\n",
    "    dicts=[emoticons]\n",
    ")\n",
    "\n",
    "normalized_text = []\n",
    "\n",
    "for s in bom_test['bom_text']:\n",
    "    normalized_text.append(\" \".join(text_processor.pre_process_doc(s)))\n",
    "normalized_text_series = pd.Series(normalized_text)\n"
   ]
  },
  {
   "cell_type": "code",
   "execution_count": 26,
   "metadata": {},
   "outputs": [
    {
     "name": "stdout",
     "output_type": "stream",
     "text": [
      "0      <user> i love <elongated> my kindle2 . not tha...\n",
      "1      reading my kindle2 . <repeated> love it . <rep...\n",
      "2      ok , first assesment of the kindle 2 . <repeat...\n",
      "3      <user> you will love your kindle2 . i have had...\n",
      "4      <user> fair enough . but i have the kindle2 an...\n",
      "5      <user> no . it is too big . i am quite happy w...\n",
      "6      fuck this economy . i hate aig and their non l...\n",
      "7                         jquery is my new best friend .\n",
      "8                                          loves twitter\n",
      "9      how can you not love obama ? he makes jokes ab...\n",
      "10     check this video out - - president obama at th...\n",
      "11     <user> i firmly believe that obama / pelosi ha...\n",
      "12     house correspondents dinner was last night who...\n",
      "13     watchin espn . <repeated> jus seen this new ni...\n",
      "14     dear nike , stop with the flywire . that shit ...\n",
      "15     lebron best athlete of our generation , if not...\n",
      "16     i was talking to this guy last night and he wa...\n",
      "17                                 i love lebron . <url>\n",
      "18     <user> lebron is a beast , but i am still chee...\n",
      "19                             <user> lebron is the boss\n",
      "20     <user> lebron is a hometown hero to me , lol i...\n",
      "21           lebron and zydrunas are such an awesome duo\n",
      "22     <user> lebron is a beast . <repeated> nobody i...\n",
      "23     downloading apps for my iphone ! so much fun <...\n",
      "24     good news , just had a call from the visa offi...\n",
      "25     <url> - awesome come back from <user> ( via <u...\n",
      "26     in montreal for a long weekend of r & r . much...\n",
      "27     booz allen hamilton has a bad ass homegrown so...\n",
      "28     [ mluc 09 ] customer innovation award winner :...\n",
      "29     <user> i current use the nikon d90 and love it...\n",
      "                             ...                        \n",
      "468    man i kinda dislike apple right now . case in ...\n",
      "469    <user> i have a kindle2 ( & sony prs - <number...\n",
      "470    the kindle 2 seems the best ereader , but will...\n",
      "471    i have a google addiction . thank you for poin...\n",
      "472      <user> my primary debit card is visa electron .\n",
      "473     off to the bank to get my new visa platinum card\n",
      "474    dearest <user> , you rich bastards ! the visa ...\n",
      "475    has a date with bobby flay and gut fieri from ...\n",
      "476    excited about seeing bobby flay and guy fieri ...\n",
      "477    gonna go see bobby flay 2 moro at shoreline . ...\n",
      "478    can not wait for the great american food and m...\n",
      "479    my dad was in ny for a day , we ate at mesa gr...\n",
      "480             fighting with latex . again . <repeated>\n",
      "481    <user> we love you too and do not want you to ...\n",
      "482    <number> hours . <number> hours of inkscape cr...\n",
      "483          how to track iran with social media : <url>\n",
      "484    shit ' s hitting the fan in iran . <repeated> ...\n",
      "485    monday already . iran may implode . kitchen is...\n",
      "486    twitter stock buzz : $aapl $ es_f $spy $spx $p...\n",
      "487    getting ready to test out some burger receipes...\n",
      "488                   <user> is bobby flay joining you ?\n",
      "489    i lam so in love with bobby flay . <repeated> ...\n",
      "490    i just created my first latex file from scratc...\n",
      "491    using linux and loving it - so much nicer than...\n",
      "492    after using latex a lot , any other typeset ma...\n",
      "493    ask programming : latex or indesign ? : submit...\n",
      "494    on that note , i hate word . i hate pages . i ...\n",
      "495    ah <elongated> . <repeated> back in a *real* t...\n",
      "496    trouble in iran , i see . hmm . iran . iran so...\n",
      "497    reading the tweets coming out of iran . <repea...\n",
      "Length: 498, dtype: object\n"
     ]
    }
   ],
   "source": [
    "print(normalized_text_series)"
   ]
  },
  {
   "cell_type": "code",
   "execution_count": 27,
   "metadata": {},
   "outputs": [],
   "source": [
    "bom_test['normalized_text'] = [t for t in normalized_text_series]"
   ]
  },
  {
   "cell_type": "code",
   "execution_count": 28,
   "metadata": {},
   "outputs": [
    {
     "data": {
      "text/html": [
       "<div>\n",
       "<style scoped>\n",
       "    .dataframe tbody tr th:only-of-type {\n",
       "        vertical-align: middle;\n",
       "    }\n",
       "\n",
       "    .dataframe tbody tr th {\n",
       "        vertical-align: top;\n",
       "    }\n",
       "\n",
       "    .dataframe thead th {\n",
       "        text-align: right;\n",
       "    }\n",
       "</style>\n",
       "<table border=\"1\" class=\"dataframe\">\n",
       "  <thead>\n",
       "    <tr style=\"text-align: right;\">\n",
       "      <th></th>\n",
       "      <th>bom_text</th>\n",
       "      <th>polarity</th>\n",
       "      <th>length</th>\n",
       "      <th>normalized_text</th>\n",
       "    </tr>\n",
       "  </thead>\n",
       "  <tbody>\n",
       "    <tr>\n",
       "      <th>0</th>\n",
       "      <td>@stellargirl I loooooooovvvvvveee my Kindle2. ...</td>\n",
       "      <td>4</td>\n",
       "      <td>111</td>\n",
       "      <td>&lt;user&gt; i love &lt;elongated&gt; my kindle2 . not tha...</td>\n",
       "    </tr>\n",
       "    <tr>\n",
       "      <th>1</th>\n",
       "      <td>Reading my kindle2...  Love it... Lee childs i...</td>\n",
       "      <td>4</td>\n",
       "      <td>58</td>\n",
       "      <td>reading my kindle2 . &lt;repeated&gt; love it . &lt;rep...</td>\n",
       "    </tr>\n",
       "    <tr>\n",
       "      <th>2</th>\n",
       "      <td>Ok, first assesment of the #kindle2 ...it fuck...</td>\n",
       "      <td>4</td>\n",
       "      <td>58</td>\n",
       "      <td>ok , first assesment of the kindle 2 . &lt;repeat...</td>\n",
       "    </tr>\n",
       "    <tr>\n",
       "      <th>3</th>\n",
       "      <td>@kenburbary You'll love your Kindle2. I've had...</td>\n",
       "      <td>4</td>\n",
       "      <td>140</td>\n",
       "      <td>&lt;user&gt; you will love your kindle2 . i have had...</td>\n",
       "    </tr>\n",
       "    <tr>\n",
       "      <th>4</th>\n",
       "      <td>@mikefish  Fair enough. But i have the Kindle2...</td>\n",
       "      <td>4</td>\n",
       "      <td>75</td>\n",
       "      <td>&lt;user&gt; fair enough . but i have the kindle2 an...</td>\n",
       "    </tr>\n",
       "  </tbody>\n",
       "</table>\n",
       "</div>"
      ],
      "text/plain": [
       "                                            bom_text  polarity  length  \\\n",
       "0  @stellargirl I loooooooovvvvvveee my Kindle2. ...         4     111   \n",
       "1  Reading my kindle2...  Love it... Lee childs i...         4      58   \n",
       "2  Ok, first assesment of the #kindle2 ...it fuck...         4      58   \n",
       "3  @kenburbary You'll love your Kindle2. I've had...         4     140   \n",
       "4  @mikefish  Fair enough. But i have the Kindle2...         4      75   \n",
       "\n",
       "                                     normalized_text  \n",
       "0  <user> i love <elongated> my kindle2 . not tha...  \n",
       "1  reading my kindle2 . <repeated> love it . <rep...  \n",
       "2  ok , first assesment of the kindle 2 . <repeat...  \n",
       "3  <user> you will love your kindle2 . i have had...  \n",
       "4  <user> fair enough . but i have the kindle2 an...  "
      ]
     },
     "execution_count": 28,
     "metadata": {},
     "output_type": "execute_result"
    }
   ],
   "source": [
    "bom_test.head()"
   ]
  },
  {
   "cell_type": "code",
   "execution_count": 29,
   "metadata": {},
   "outputs": [
    {
     "data": {
      "text/plain": [
       "498"
      ]
     },
     "execution_count": 29,
     "metadata": {},
     "output_type": "execute_result"
    }
   ],
   "source": [
    "len(bom_test)"
   ]
  },
  {
   "cell_type": "code",
   "execution_count": 30,
   "metadata": {},
   "outputs": [
    {
     "data": {
      "text/html": [
       "<div>\n",
       "<style scoped>\n",
       "    .dataframe tbody tr th:only-of-type {\n",
       "        vertical-align: middle;\n",
       "    }\n",
       "\n",
       "    .dataframe tbody tr th {\n",
       "        vertical-align: top;\n",
       "    }\n",
       "\n",
       "    .dataframe thead th {\n",
       "        text-align: right;\n",
       "    }\n",
       "</style>\n",
       "<table border=\"1\" class=\"dataframe\">\n",
       "  <thead>\n",
       "    <tr style=\"text-align: right;\">\n",
       "      <th></th>\n",
       "      <th>normalized_text</th>\n",
       "      <th>polarity</th>\n",
       "    </tr>\n",
       "  </thead>\n",
       "  <tbody>\n",
       "    <tr>\n",
       "      <th>0</th>\n",
       "      <td>&lt;user&gt; i love &lt;elongated&gt; my kindle2 . not tha...</td>\n",
       "      <td>4</td>\n",
       "    </tr>\n",
       "    <tr>\n",
       "      <th>1</th>\n",
       "      <td>reading my kindle2 . &lt;repeated&gt; love it . &lt;rep...</td>\n",
       "      <td>4</td>\n",
       "    </tr>\n",
       "    <tr>\n",
       "      <th>2</th>\n",
       "      <td>ok , first assesment of the kindle 2 . &lt;repeat...</td>\n",
       "      <td>4</td>\n",
       "    </tr>\n",
       "    <tr>\n",
       "      <th>3</th>\n",
       "      <td>&lt;user&gt; you will love your kindle2 . i have had...</td>\n",
       "      <td>4</td>\n",
       "    </tr>\n",
       "    <tr>\n",
       "      <th>4</th>\n",
       "      <td>&lt;user&gt; fair enough . but i have the kindle2 an...</td>\n",
       "      <td>4</td>\n",
       "    </tr>\n",
       "  </tbody>\n",
       "</table>\n",
       "</div>"
      ],
      "text/plain": [
       "                                     normalized_text  polarity\n",
       "0  <user> i love <elongated> my kindle2 . not tha...         4\n",
       "1  reading my kindle2 . <repeated> love it . <rep...         4\n",
       "2  ok , first assesment of the kindle 2 . <repeat...         4\n",
       "3  <user> you will love your kindle2 . i have had...         4\n",
       "4  <user> fair enough . but i have the kindle2 an...         4"
      ]
     },
     "execution_count": 30,
     "metadata": {},
     "output_type": "execute_result"
    }
   ],
   "source": [
    "df_len_tweets = bom_test[['normalized_text', 'polarity']].copy()\n",
    "df_len_tweets.head()"
   ]
  },
  {
   "cell_type": "code",
   "execution_count": 31,
   "metadata": {},
   "outputs": [
    {
     "data": {
      "text/html": [
       "<div>\n",
       "<style scoped>\n",
       "    .dataframe tbody tr th:only-of-type {\n",
       "        vertical-align: middle;\n",
       "    }\n",
       "\n",
       "    .dataframe tbody tr th {\n",
       "        vertical-align: top;\n",
       "    }\n",
       "\n",
       "    .dataframe thead th {\n",
       "        text-align: right;\n",
       "    }\n",
       "</style>\n",
       "<table border=\"1\" class=\"dataframe\">\n",
       "  <thead>\n",
       "    <tr style=\"text-align: right;\">\n",
       "      <th></th>\n",
       "      <th>normalized_text</th>\n",
       "      <th>polarity</th>\n",
       "      <th>length</th>\n",
       "    </tr>\n",
       "  </thead>\n",
       "  <tbody>\n",
       "    <tr>\n",
       "      <th>0</th>\n",
       "      <td>&lt;user&gt; i love &lt;elongated&gt; my kindle2 . not tha...</td>\n",
       "      <td>4</td>\n",
       "      <td>116</td>\n",
       "    </tr>\n",
       "    <tr>\n",
       "      <th>1</th>\n",
       "      <td>reading my kindle2 . &lt;repeated&gt; love it . &lt;rep...</td>\n",
       "      <td>4</td>\n",
       "      <td>78</td>\n",
       "    </tr>\n",
       "    <tr>\n",
       "      <th>2</th>\n",
       "      <td>ok , first assesment of the kindle 2 . &lt;repeat...</td>\n",
       "      <td>4</td>\n",
       "      <td>79</td>\n",
       "    </tr>\n",
       "    <tr>\n",
       "      <th>3</th>\n",
       "      <td>&lt;user&gt; you will love your kindle2 . i have had...</td>\n",
       "      <td>4</td>\n",
       "      <td>148</td>\n",
       "    </tr>\n",
       "    <tr>\n",
       "      <th>4</th>\n",
       "      <td>&lt;user&gt; fair enough . but i have the kindle2 an...</td>\n",
       "      <td>4</td>\n",
       "      <td>78</td>\n",
       "    </tr>\n",
       "  </tbody>\n",
       "</table>\n",
       "</div>"
      ],
      "text/plain": [
       "                                     normalized_text  polarity  length\n",
       "0  <user> i love <elongated> my kindle2 . not tha...         4     116\n",
       "1  reading my kindle2 . <repeated> love it . <rep...         4      78\n",
       "2  ok , first assesment of the kindle 2 . <repeat...         4      79\n",
       "3  <user> you will love your kindle2 . i have had...         4     148\n",
       "4  <user> fair enough . but i have the kindle2 an...         4      78"
      ]
     },
     "execution_count": 31,
     "metadata": {},
     "output_type": "execute_result"
    }
   ],
   "source": [
    "df_len_tweets['length'] = [len(t) for t in df_len_tweets.normalized_text]\n",
    "df_len_tweets.head()"
   ]
  },
  {
   "cell_type": "code",
   "execution_count": 32,
   "metadata": {},
   "outputs": [
    {
     "data": {
      "text/plain": [
       "172"
      ]
     },
     "execution_count": 32,
     "metadata": {},
     "output_type": "execute_result"
    }
   ],
   "source": [
    "df_len_tweets.length.max()"
   ]
  },
  {
   "cell_type": "code",
   "execution_count": 33,
   "metadata": {},
   "outputs": [
    {
     "name": "stdout",
     "output_type": "stream",
     "text": [
      "CPU times: user 934 µs, sys: 58 µs, total: 992 µs\n",
      "Wall time: 956 µs\n"
     ]
    }
   ],
   "source": [
    "%%time\n",
    "user_tweets = []\n",
    "\n",
    "for t in df_len_tweets.normalized_text:\n",
    "    user_tweets.append(t.replace('<user>', '@USER'))\n",
    "\n",
    "df_len_tweets['text_no_user'] = [t for t in user_tweets]\n"
   ]
  },
  {
   "cell_type": "code",
   "execution_count": 34,
   "metadata": {},
   "outputs": [
    {
     "data": {
      "text/html": [
       "<div>\n",
       "<style scoped>\n",
       "    .dataframe tbody tr th:only-of-type {\n",
       "        vertical-align: middle;\n",
       "    }\n",
       "\n",
       "    .dataframe tbody tr th {\n",
       "        vertical-align: top;\n",
       "    }\n",
       "\n",
       "    .dataframe thead th {\n",
       "        text-align: right;\n",
       "    }\n",
       "</style>\n",
       "<table border=\"1\" class=\"dataframe\">\n",
       "  <thead>\n",
       "    <tr style=\"text-align: right;\">\n",
       "      <th></th>\n",
       "      <th>normalized_text</th>\n",
       "      <th>polarity</th>\n",
       "      <th>length</th>\n",
       "      <th>text_no_user</th>\n",
       "    </tr>\n",
       "  </thead>\n",
       "  <tbody>\n",
       "    <tr>\n",
       "      <th>0</th>\n",
       "      <td>&lt;user&gt; i love &lt;elongated&gt; my kindle2 . not tha...</td>\n",
       "      <td>4</td>\n",
       "      <td>116</td>\n",
       "      <td>@USER i love &lt;elongated&gt; my kindle2 . not that...</td>\n",
       "    </tr>\n",
       "    <tr>\n",
       "      <th>1</th>\n",
       "      <td>reading my kindle2 . &lt;repeated&gt; love it . &lt;rep...</td>\n",
       "      <td>4</td>\n",
       "      <td>78</td>\n",
       "      <td>reading my kindle2 . &lt;repeated&gt; love it . &lt;rep...</td>\n",
       "    </tr>\n",
       "    <tr>\n",
       "      <th>2</th>\n",
       "      <td>ok , first assesment of the kindle 2 . &lt;repeat...</td>\n",
       "      <td>4</td>\n",
       "      <td>79</td>\n",
       "      <td>ok , first assesment of the kindle 2 . &lt;repeat...</td>\n",
       "    </tr>\n",
       "    <tr>\n",
       "      <th>3</th>\n",
       "      <td>&lt;user&gt; you will love your kindle2 . i have had...</td>\n",
       "      <td>4</td>\n",
       "      <td>148</td>\n",
       "      <td>@USER you will love your kindle2 . i have had ...</td>\n",
       "    </tr>\n",
       "    <tr>\n",
       "      <th>4</th>\n",
       "      <td>&lt;user&gt; fair enough . but i have the kindle2 an...</td>\n",
       "      <td>4</td>\n",
       "      <td>78</td>\n",
       "      <td>@USER fair enough . but i have the kindle2 and...</td>\n",
       "    </tr>\n",
       "  </tbody>\n",
       "</table>\n",
       "</div>"
      ],
      "text/plain": [
       "                                     normalized_text  polarity  length  \\\n",
       "0  <user> i love <elongated> my kindle2 . not tha...         4     116   \n",
       "1  reading my kindle2 . <repeated> love it . <rep...         4      78   \n",
       "2  ok , first assesment of the kindle 2 . <repeat...         4      79   \n",
       "3  <user> you will love your kindle2 . i have had...         4     148   \n",
       "4  <user> fair enough . but i have the kindle2 an...         4      78   \n",
       "\n",
       "                                        text_no_user  \n",
       "0  @USER i love <elongated> my kindle2 . not that...  \n",
       "1  reading my kindle2 . <repeated> love it . <rep...  \n",
       "2  ok , first assesment of the kindle 2 . <repeat...  \n",
       "3  @USER you will love your kindle2 . i have had ...  \n",
       "4  @USER fair enough . but i have the kindle2 and...  "
      ]
     },
     "execution_count": 34,
     "metadata": {},
     "output_type": "execute_result"
    }
   ],
   "source": [
    "df_len_tweets.head()"
   ]
  },
  {
   "cell_type": "code",
   "execution_count": 35,
   "metadata": {},
   "outputs": [],
   "source": [
    "url_tweets = []\n",
    "for t in df_len_tweets.text_no_user:\n",
    "    #print(df_len_tweets.text[i].replace(s, ''))\n",
    "    url_tweets.append(t.replace('<url>', '@URL'))\n",
    "\n",
    "df_len_tweets['text_no_url'] = [t for t in url_tweets]"
   ]
  },
  {
   "cell_type": "code",
   "execution_count": 36,
   "metadata": {},
   "outputs": [
    {
     "data": {
      "text/html": [
       "<div>\n",
       "<style scoped>\n",
       "    .dataframe tbody tr th:only-of-type {\n",
       "        vertical-align: middle;\n",
       "    }\n",
       "\n",
       "    .dataframe tbody tr th {\n",
       "        vertical-align: top;\n",
       "    }\n",
       "\n",
       "    .dataframe thead th {\n",
       "        text-align: right;\n",
       "    }\n",
       "</style>\n",
       "<table border=\"1\" class=\"dataframe\">\n",
       "  <thead>\n",
       "    <tr style=\"text-align: right;\">\n",
       "      <th></th>\n",
       "      <th>normalized_text</th>\n",
       "      <th>polarity</th>\n",
       "      <th>length</th>\n",
       "      <th>text_no_user</th>\n",
       "      <th>text_no_url</th>\n",
       "    </tr>\n",
       "  </thead>\n",
       "  <tbody>\n",
       "    <tr>\n",
       "      <th>0</th>\n",
       "      <td>&lt;user&gt; i love &lt;elongated&gt; my kindle2 . not tha...</td>\n",
       "      <td>4</td>\n",
       "      <td>116</td>\n",
       "      <td>@USER i love &lt;elongated&gt; my kindle2 . not that...</td>\n",
       "      <td>@USER i love &lt;elongated&gt; my kindle2 . not that...</td>\n",
       "    </tr>\n",
       "    <tr>\n",
       "      <th>1</th>\n",
       "      <td>reading my kindle2 . &lt;repeated&gt; love it . &lt;rep...</td>\n",
       "      <td>4</td>\n",
       "      <td>78</td>\n",
       "      <td>reading my kindle2 . &lt;repeated&gt; love it . &lt;rep...</td>\n",
       "      <td>reading my kindle2 . &lt;repeated&gt; love it . &lt;rep...</td>\n",
       "    </tr>\n",
       "    <tr>\n",
       "      <th>2</th>\n",
       "      <td>ok , first assesment of the kindle 2 . &lt;repeat...</td>\n",
       "      <td>4</td>\n",
       "      <td>79</td>\n",
       "      <td>ok , first assesment of the kindle 2 . &lt;repeat...</td>\n",
       "      <td>ok , first assesment of the kindle 2 . &lt;repeat...</td>\n",
       "    </tr>\n",
       "    <tr>\n",
       "      <th>3</th>\n",
       "      <td>&lt;user&gt; you will love your kindle2 . i have had...</td>\n",
       "      <td>4</td>\n",
       "      <td>148</td>\n",
       "      <td>@USER you will love your kindle2 . i have had ...</td>\n",
       "      <td>@USER you will love your kindle2 . i have had ...</td>\n",
       "    </tr>\n",
       "    <tr>\n",
       "      <th>4</th>\n",
       "      <td>&lt;user&gt; fair enough . but i have the kindle2 an...</td>\n",
       "      <td>4</td>\n",
       "      <td>78</td>\n",
       "      <td>@USER fair enough . but i have the kindle2 and...</td>\n",
       "      <td>@USER fair enough . but i have the kindle2 and...</td>\n",
       "    </tr>\n",
       "  </tbody>\n",
       "</table>\n",
       "</div>"
      ],
      "text/plain": [
       "                                     normalized_text  polarity  length  \\\n",
       "0  <user> i love <elongated> my kindle2 . not tha...         4     116   \n",
       "1  reading my kindle2 . <repeated> love it . <rep...         4      78   \n",
       "2  ok , first assesment of the kindle 2 . <repeat...         4      79   \n",
       "3  <user> you will love your kindle2 . i have had...         4     148   \n",
       "4  <user> fair enough . but i have the kindle2 an...         4      78   \n",
       "\n",
       "                                        text_no_user  \\\n",
       "0  @USER i love <elongated> my kindle2 . not that...   \n",
       "1  reading my kindle2 . <repeated> love it . <rep...   \n",
       "2  ok , first assesment of the kindle 2 . <repeat...   \n",
       "3  @USER you will love your kindle2 . i have had ...   \n",
       "4  @USER fair enough . but i have the kindle2 and...   \n",
       "\n",
       "                                         text_no_url  \n",
       "0  @USER i love <elongated> my kindle2 . not that...  \n",
       "1  reading my kindle2 . <repeated> love it . <rep...  \n",
       "2  ok , first assesment of the kindle 2 . <repeat...  \n",
       "3  @USER you will love your kindle2 . i have had ...  \n",
       "4  @USER fair enough . but i have the kindle2 and...  "
      ]
     },
     "execution_count": 36,
     "metadata": {},
     "output_type": "execute_result"
    }
   ],
   "source": [
    "df_len_tweets.head()"
   ]
  },
  {
   "cell_type": "code",
   "execution_count": 37,
   "metadata": {},
   "outputs": [
    {
     "name": "stdout",
     "output_type": "stream",
     "text": [
      "CPU times: user 1.47 ms, sys: 38 µs, total: 1.51 ms\n",
      "Wall time: 1.49 ms\n"
     ]
    }
   ],
   "source": [
    "%%time\n",
    "notag_tweets = []\n",
    "for t in df_len_tweets.text_no_url:\n",
    "    #print(df_len_tweets.text[i].replace(s, ''))\n",
    "    #notag_tweets.append(df_url_tweets.text[i].replace(r'(<[aA-zZ]+>)', ''))\n",
    "    notag_tweets.append(re.sub(r'(<[aA-zZ]+>)', '',t))\n",
    "\n",
    "df_len_tweets['text_no_tag'] = [t for t in notag_tweets]"
   ]
  },
  {
   "cell_type": "code",
   "execution_count": 38,
   "metadata": {},
   "outputs": [
    {
     "data": {
      "text/html": [
       "<div>\n",
       "<style scoped>\n",
       "    .dataframe tbody tr th:only-of-type {\n",
       "        vertical-align: middle;\n",
       "    }\n",
       "\n",
       "    .dataframe tbody tr th {\n",
       "        vertical-align: top;\n",
       "    }\n",
       "\n",
       "    .dataframe thead th {\n",
       "        text-align: right;\n",
       "    }\n",
       "</style>\n",
       "<table border=\"1\" class=\"dataframe\">\n",
       "  <thead>\n",
       "    <tr style=\"text-align: right;\">\n",
       "      <th></th>\n",
       "      <th>normalized_text</th>\n",
       "      <th>polarity</th>\n",
       "      <th>length</th>\n",
       "      <th>text_no_user</th>\n",
       "      <th>text_no_url</th>\n",
       "      <th>text_no_tag</th>\n",
       "    </tr>\n",
       "  </thead>\n",
       "  <tbody>\n",
       "    <tr>\n",
       "      <th>0</th>\n",
       "      <td>&lt;user&gt; i love &lt;elongated&gt; my kindle2 . not tha...</td>\n",
       "      <td>4</td>\n",
       "      <td>116</td>\n",
       "      <td>@USER i love &lt;elongated&gt; my kindle2 . not that...</td>\n",
       "      <td>@USER i love &lt;elongated&gt; my kindle2 . not that...</td>\n",
       "      <td>@USER i love  my kindle2 . not that the  is co...</td>\n",
       "    </tr>\n",
       "    <tr>\n",
       "      <th>1</th>\n",
       "      <td>reading my kindle2 . &lt;repeated&gt; love it . &lt;rep...</td>\n",
       "      <td>4</td>\n",
       "      <td>78</td>\n",
       "      <td>reading my kindle2 . &lt;repeated&gt; love it . &lt;rep...</td>\n",
       "      <td>reading my kindle2 . &lt;repeated&gt; love it . &lt;rep...</td>\n",
       "      <td>reading my kindle2 .  love it .  lee childs is...</td>\n",
       "    </tr>\n",
       "    <tr>\n",
       "      <th>2</th>\n",
       "      <td>ok , first assesment of the kindle 2 . &lt;repeat...</td>\n",
       "      <td>4</td>\n",
       "      <td>79</td>\n",
       "      <td>ok , first assesment of the kindle 2 . &lt;repeat...</td>\n",
       "      <td>ok , first assesment of the kindle 2 . &lt;repeat...</td>\n",
       "      <td>ok , first assesment of the kindle 2 .  it fuc...</td>\n",
       "    </tr>\n",
       "    <tr>\n",
       "      <th>3</th>\n",
       "      <td>&lt;user&gt; you will love your kindle2 . i have had...</td>\n",
       "      <td>4</td>\n",
       "      <td>148</td>\n",
       "      <td>@USER you will love your kindle2 . i have had ...</td>\n",
       "      <td>@USER you will love your kindle2 . i have had ...</td>\n",
       "      <td>@USER you will love your kindle2 . i have had ...</td>\n",
       "    </tr>\n",
       "    <tr>\n",
       "      <th>4</th>\n",
       "      <td>&lt;user&gt; fair enough . but i have the kindle2 an...</td>\n",
       "      <td>4</td>\n",
       "      <td>78</td>\n",
       "      <td>@USER fair enough . but i have the kindle2 and...</td>\n",
       "      <td>@USER fair enough . but i have the kindle2 and...</td>\n",
       "      <td>@USER fair enough . but i have the kindle2 and...</td>\n",
       "    </tr>\n",
       "  </tbody>\n",
       "</table>\n",
       "</div>"
      ],
      "text/plain": [
       "                                     normalized_text  polarity  length  \\\n",
       "0  <user> i love <elongated> my kindle2 . not tha...         4     116   \n",
       "1  reading my kindle2 . <repeated> love it . <rep...         4      78   \n",
       "2  ok , first assesment of the kindle 2 . <repeat...         4      79   \n",
       "3  <user> you will love your kindle2 . i have had...         4     148   \n",
       "4  <user> fair enough . but i have the kindle2 an...         4      78   \n",
       "\n",
       "                                        text_no_user  \\\n",
       "0  @USER i love <elongated> my kindle2 . not that...   \n",
       "1  reading my kindle2 . <repeated> love it . <rep...   \n",
       "2  ok , first assesment of the kindle 2 . <repeat...   \n",
       "3  @USER you will love your kindle2 . i have had ...   \n",
       "4  @USER fair enough . but i have the kindle2 and...   \n",
       "\n",
       "                                         text_no_url  \\\n",
       "0  @USER i love <elongated> my kindle2 . not that...   \n",
       "1  reading my kindle2 . <repeated> love it . <rep...   \n",
       "2  ok , first assesment of the kindle 2 . <repeat...   \n",
       "3  @USER you will love your kindle2 . i have had ...   \n",
       "4  @USER fair enough . but i have the kindle2 and...   \n",
       "\n",
       "                                         text_no_tag  \n",
       "0  @USER i love  my kindle2 . not that the  is co...  \n",
       "1  reading my kindle2 .  love it .  lee childs is...  \n",
       "2  ok , first assesment of the kindle 2 .  it fuc...  \n",
       "3  @USER you will love your kindle2 . i have had ...  \n",
       "4  @USER fair enough . but i have the kindle2 and...  "
      ]
     },
     "execution_count": 38,
     "metadata": {},
     "output_type": "execute_result"
    }
   ],
   "source": [
    "df_len_tweets.head()"
   ]
  },
  {
   "cell_type": "code",
   "execution_count": 39,
   "metadata": {},
   "outputs": [],
   "source": [
    "finaltest = df_len_tweets[['text_no_tag', 'polarity']].copy()"
   ]
  },
  {
   "cell_type": "code",
   "execution_count": 40,
   "metadata": {},
   "outputs": [
    {
     "data": {
      "text/html": [
       "<div>\n",
       "<style scoped>\n",
       "    .dataframe tbody tr th:only-of-type {\n",
       "        vertical-align: middle;\n",
       "    }\n",
       "\n",
       "    .dataframe tbody tr th {\n",
       "        vertical-align: top;\n",
       "    }\n",
       "\n",
       "    .dataframe thead th {\n",
       "        text-align: right;\n",
       "    }\n",
       "</style>\n",
       "<table border=\"1\" class=\"dataframe\">\n",
       "  <thead>\n",
       "    <tr style=\"text-align: right;\">\n",
       "      <th></th>\n",
       "      <th>text_no_tag</th>\n",
       "      <th>polarity</th>\n",
       "    </tr>\n",
       "  </thead>\n",
       "  <tbody>\n",
       "    <tr>\n",
       "      <th>0</th>\n",
       "      <td>@USER i love  my kindle2 . not that the  is co...</td>\n",
       "      <td>4</td>\n",
       "    </tr>\n",
       "    <tr>\n",
       "      <th>1</th>\n",
       "      <td>reading my kindle2 .  love it .  lee childs is...</td>\n",
       "      <td>4</td>\n",
       "    </tr>\n",
       "    <tr>\n",
       "      <th>2</th>\n",
       "      <td>ok , first assesment of the kindle 2 .  it fuc...</td>\n",
       "      <td>4</td>\n",
       "    </tr>\n",
       "    <tr>\n",
       "      <th>3</th>\n",
       "      <td>@USER you will love your kindle2 . i have had ...</td>\n",
       "      <td>4</td>\n",
       "    </tr>\n",
       "    <tr>\n",
       "      <th>4</th>\n",
       "      <td>@USER fair enough . but i have the kindle2 and...</td>\n",
       "      <td>4</td>\n",
       "    </tr>\n",
       "  </tbody>\n",
       "</table>\n",
       "</div>"
      ],
      "text/plain": [
       "                                         text_no_tag  polarity\n",
       "0  @USER i love  my kindle2 . not that the  is co...         4\n",
       "1  reading my kindle2 .  love it .  lee childs is...         4\n",
       "2  ok , first assesment of the kindle 2 .  it fuc...         4\n",
       "3  @USER you will love your kindle2 . i have had ...         4\n",
       "4  @USER fair enough . but i have the kindle2 and...         4"
      ]
     },
     "execution_count": 40,
     "metadata": {},
     "output_type": "execute_result"
    }
   ],
   "source": [
    "finaltest.head()"
   ]
  },
  {
   "cell_type": "code",
   "execution_count": 41,
   "metadata": {},
   "outputs": [
    {
     "data": {
      "text/html": [
       "<div>\n",
       "<style scoped>\n",
       "    .dataframe tbody tr th:only-of-type {\n",
       "        vertical-align: middle;\n",
       "    }\n",
       "\n",
       "    .dataframe tbody tr th {\n",
       "        vertical-align: top;\n",
       "    }\n",
       "\n",
       "    .dataframe thead th {\n",
       "        text-align: right;\n",
       "    }\n",
       "</style>\n",
       "<table border=\"1\" class=\"dataframe\">\n",
       "  <thead>\n",
       "    <tr style=\"text-align: right;\">\n",
       "      <th></th>\n",
       "      <th>text_no_tag</th>\n",
       "      <th>polarity</th>\n",
       "      <th>length</th>\n",
       "    </tr>\n",
       "  </thead>\n",
       "  <tbody>\n",
       "    <tr>\n",
       "      <th>0</th>\n",
       "      <td>@USER i love  my kindle2 . not that the  is co...</td>\n",
       "      <td>4</td>\n",
       "      <td>91</td>\n",
       "    </tr>\n",
       "    <tr>\n",
       "      <th>1</th>\n",
       "      <td>reading my kindle2 .  love it .  lee childs is...</td>\n",
       "      <td>4</td>\n",
       "      <td>58</td>\n",
       "    </tr>\n",
       "    <tr>\n",
       "      <th>2</th>\n",
       "      <td>ok , first assesment of the kindle 2 .  it fuc...</td>\n",
       "      <td>4</td>\n",
       "      <td>59</td>\n",
       "    </tr>\n",
       "    <tr>\n",
       "      <th>3</th>\n",
       "      <td>@USER you will love your kindle2 . i have had ...</td>\n",
       "      <td>4</td>\n",
       "      <td>140</td>\n",
       "    </tr>\n",
       "    <tr>\n",
       "      <th>4</th>\n",
       "      <td>@USER fair enough . but i have the kindle2 and...</td>\n",
       "      <td>4</td>\n",
       "      <td>70</td>\n",
       "    </tr>\n",
       "  </tbody>\n",
       "</table>\n",
       "</div>"
      ],
      "text/plain": [
       "                                         text_no_tag  polarity  length\n",
       "0  @USER i love  my kindle2 . not that the  is co...         4      91\n",
       "1  reading my kindle2 .  love it .  lee childs is...         4      58\n",
       "2  ok , first assesment of the kindle 2 .  it fuc...         4      59\n",
       "3  @USER you will love your kindle2 . i have had ...         4     140\n",
       "4  @USER fair enough . but i have the kindle2 and...         4      70"
      ]
     },
     "execution_count": 41,
     "metadata": {},
     "output_type": "execute_result"
    }
   ],
   "source": [
    "finaltest['length'] = [len(t) for t in finaltest.text_no_tag]\n",
    "finaltest.head()"
   ]
  },
  {
   "cell_type": "code",
   "execution_count": 43,
   "metadata": {},
   "outputs": [
    {
     "data": {
      "text/plain": [
       "text_no_tag    0\n",
       "polarity       0\n",
       "length         0\n",
       "dtype: int64"
      ]
     },
     "execution_count": 43,
     "metadata": {},
     "output_type": "execute_result"
    }
   ],
   "source": [
    "finaltest[finaltest.text_no_tag == '@USER'].count()"
   ]
  },
  {
   "cell_type": "code",
   "execution_count": 44,
   "metadata": {},
   "outputs": [
    {
     "data": {
      "text/plain": [
       "text_no_tag    0\n",
       "polarity       0\n",
       "length         0\n",
       "dtype: int64"
      ]
     },
     "execution_count": 44,
     "metadata": {},
     "output_type": "execute_result"
    }
   ],
   "source": [
    "finaltest[finaltest.text_no_tag == '@URL'].count()"
   ]
  },
  {
   "cell_type": "code",
   "execution_count": 45,
   "metadata": {},
   "outputs": [
    {
     "data": {
      "text/plain": [
       "text_no_tag    0\n",
       "polarity       0\n",
       "length         0\n",
       "dtype: int64"
      ]
     },
     "execution_count": 45,
     "metadata": {},
     "output_type": "execute_result"
    }
   ],
   "source": [
    "finaltest[finaltest.text_no_tag == '@USER @URL'].count()"
   ]
  },
  {
   "cell_type": "code",
   "execution_count": 46,
   "metadata": {},
   "outputs": [
    {
     "data": {
      "text/plain": [
       "text_no_tag    0\n",
       "polarity       0\n",
       "length         0\n",
       "dtype: int64"
      ]
     },
     "execution_count": 46,
     "metadata": {},
     "output_type": "execute_result"
    }
   ],
   "source": [
    "finaltest[finaltest.text_no_tag == '@URL @USER'].count()"
   ]
  },
  {
   "cell_type": "code",
   "execution_count": 47,
   "metadata": {},
   "outputs": [
    {
     "data": {
      "text/plain": [
       "text_no_tag    0\n",
       "polarity       0\n",
       "length         0\n",
       "dtype: int64"
      ]
     },
     "execution_count": 47,
     "metadata": {},
     "output_type": "execute_result"
    }
   ],
   "source": [
    "finaltest[finaltest.length == 0].count()"
   ]
  },
  {
   "cell_type": "code",
   "execution_count": 48,
   "metadata": {},
   "outputs": [
    {
     "data": {
      "text/plain": [
       "False"
      ]
     },
     "execution_count": 48,
     "metadata": {},
     "output_type": "execute_result"
    }
   ],
   "source": [
    "finaltest.isnull().values.any()"
   ]
  },
  {
   "cell_type": "code",
   "execution_count": 49,
   "metadata": {},
   "outputs": [
    {
     "data": {
      "text/plain": [
       "text_no_tag    zomg !  i have a g2 ! \n",
       "polarity                            4\n",
       "length                            150\n",
       "dtype: object"
      ]
     },
     "execution_count": 49,
     "metadata": {},
     "output_type": "execute_result"
    }
   ],
   "source": [
    "finaltest.max()"
   ]
  },
  {
   "cell_type": "code",
   "execution_count": 50,
   "metadata": {},
   "outputs": [
    {
     "data": {
      "text/html": [
       "<div>\n",
       "<style scoped>\n",
       "    .dataframe tbody tr th:only-of-type {\n",
       "        vertical-align: middle;\n",
       "    }\n",
       "\n",
       "    .dataframe tbody tr th {\n",
       "        vertical-align: top;\n",
       "    }\n",
       "\n",
       "    .dataframe thead th {\n",
       "        text-align: right;\n",
       "    }\n",
       "</style>\n",
       "<table border=\"1\" class=\"dataframe\">\n",
       "  <thead>\n",
       "    <tr style=\"text-align: right;\">\n",
       "      <th></th>\n",
       "      <th>text_no_tag</th>\n",
       "      <th>polarity</th>\n",
       "      <th>length</th>\n",
       "    </tr>\n",
       "  </thead>\n",
       "  <tbody>\n",
       "    <tr>\n",
       "      <th>11</th>\n",
       "      <td>@USER i firmly believe that obama / pelosi hav...</td>\n",
       "      <td>0</td>\n",
       "      <td>143</td>\n",
       "    </tr>\n",
       "    <tr>\n",
       "      <th>29</th>\n",
       "      <td>@USER i current use the nikon d90 and love it ...</td>\n",
       "      <td>4</td>\n",
       "      <td>145</td>\n",
       "    </tr>\n",
       "    <tr>\n",
       "      <th>39</th>\n",
       "      <td>@USER : has been a bit crazy , with steep lear...</td>\n",
       "      <td>4</td>\n",
       "      <td>141</td>\n",
       "    </tr>\n",
       "    <tr>\n",
       "      <th>92</th>\n",
       "      <td>wish i could catch every mosquito in the world...</td>\n",
       "      <td>0</td>\n",
       "      <td>145</td>\n",
       "    </tr>\n",
       "    <tr>\n",
       "      <th>103</th>\n",
       "      <td>\" the republican party is a bunch of anti - ab...</td>\n",
       "      <td>0</td>\n",
       "      <td>143</td>\n",
       "    </tr>\n",
       "    <tr>\n",
       "      <th>123</th>\n",
       "      <td>viral marketing fail . this acia pills brand o...</td>\n",
       "      <td>0</td>\n",
       "      <td>143</td>\n",
       "    </tr>\n",
       "    <tr>\n",
       "      <th>138</th>\n",
       "      <td>it ' s unfortunate that after the stimulus pla...</td>\n",
       "      <td>0</td>\n",
       "      <td>142</td>\n",
       "    </tr>\n",
       "    <tr>\n",
       "      <th>162</th>\n",
       "      <td>my wrist still hurts . i have to get it looked...</td>\n",
       "      <td>4</td>\n",
       "      <td>147</td>\n",
       "    </tr>\n",
       "    <tr>\n",
       "      <th>164</th>\n",
       "      <td>the dentist lied ! \" u won ' t feel any discom...</td>\n",
       "      <td>0</td>\n",
       "      <td>148</td>\n",
       "    </tr>\n",
       "    <tr>\n",
       "      <th>205</th>\n",
       "      <td>warren buffet became ( for a time ) the riches...</td>\n",
       "      <td>4</td>\n",
       "      <td>142</td>\n",
       "    </tr>\n",
       "    <tr>\n",
       "      <th>210</th>\n",
       "      <td>time warner road runner customer support here ...</td>\n",
       "      <td>0</td>\n",
       "      <td>142</td>\n",
       "    </tr>\n",
       "    <tr>\n",
       "      <th>213</th>\n",
       "      <td>omg - time warner f ' ed up my internet instal...</td>\n",
       "      <td>0</td>\n",
       "      <td>150</td>\n",
       "    </tr>\n",
       "    <tr>\n",
       "      <th>239</th>\n",
       "      <td>loving my new kindle2 . named her kendra in ca...</td>\n",
       "      <td>4</td>\n",
       "      <td>144</td>\n",
       "    </tr>\n",
       "    <tr>\n",
       "      <th>344</th>\n",
       "      <td>colin powell rocked yesterday on cbs . cheney ...</td>\n",
       "      <td>0</td>\n",
       "      <td>141</td>\n",
       "    </tr>\n",
       "    <tr>\n",
       "      <th>350</th>\n",
       "      <td>i have been sending e - mails like crazy today...</td>\n",
       "      <td>4</td>\n",
       "      <td>144</td>\n",
       "    </tr>\n",
       "    <tr>\n",
       "      <th>381</th>\n",
       "      <td>the more i hear about this gm thing the more a...</td>\n",
       "      <td>0</td>\n",
       "      <td>146</td>\n",
       "    </tr>\n",
       "    <tr>\n",
       "      <th>443</th>\n",
       "      <td>i am ready to drop the pretenses , i am foreve...</td>\n",
       "      <td>4</td>\n",
       "      <td>146</td>\n",
       "    </tr>\n",
       "    <tr>\n",
       "      <th>454</th>\n",
       "      <td>i ' d say some sports writers are idiots for s...</td>\n",
       "      <td>4</td>\n",
       "      <td>142</td>\n",
       "    </tr>\n",
       "    <tr>\n",
       "      <th>469</th>\n",
       "      <td>@USER i have a kindle2 ( &amp; sony prs -  ) . lik...</td>\n",
       "      <td>4</td>\n",
       "      <td>144</td>\n",
       "    </tr>\n",
       "    <tr>\n",
       "      <th>482</th>\n",
       "      <td>hours .  hours of inkscape crashing , normall...</td>\n",
       "      <td>0</td>\n",
       "      <td>144</td>\n",
       "    </tr>\n",
       "  </tbody>\n",
       "</table>\n",
       "</div>"
      ],
      "text/plain": [
       "                                           text_no_tag  polarity  length\n",
       "11   @USER i firmly believe that obama / pelosi hav...         0     143\n",
       "29   @USER i current use the nikon d90 and love it ...         4     145\n",
       "39   @USER : has been a bit crazy , with steep lear...         4     141\n",
       "92   wish i could catch every mosquito in the world...         0     145\n",
       "103  \" the republican party is a bunch of anti - ab...         0     143\n",
       "123  viral marketing fail . this acia pills brand o...         0     143\n",
       "138  it ' s unfortunate that after the stimulus pla...         0     142\n",
       "162  my wrist still hurts . i have to get it looked...         4     147\n",
       "164  the dentist lied ! \" u won ' t feel any discom...         0     148\n",
       "205  warren buffet became ( for a time ) the riches...         4     142\n",
       "210  time warner road runner customer support here ...         0     142\n",
       "213  omg - time warner f ' ed up my internet instal...         0     150\n",
       "239  loving my new kindle2 . named her kendra in ca...         4     144\n",
       "344  colin powell rocked yesterday on cbs . cheney ...         0     141\n",
       "350  i have been sending e - mails like crazy today...         4     144\n",
       "381  the more i hear about this gm thing the more a...         0     146\n",
       "443  i am ready to drop the pretenses , i am foreve...         4     146\n",
       "454  i ' d say some sports writers are idiots for s...         4     142\n",
       "469  @USER i have a kindle2 ( & sony prs -  ) . lik...         4     144\n",
       "482   hours .  hours of inkscape crashing , normall...         0     144"
      ]
     },
     "execution_count": 50,
     "metadata": {},
     "output_type": "execute_result"
    }
   ],
   "source": [
    "finaltest[finaltest.length >140]"
   ]
  },
  {
   "cell_type": "code",
   "execution_count": 51,
   "metadata": {},
   "outputs": [
    {
     "data": {
      "text/html": [
       "<div>\n",
       "<style scoped>\n",
       "    .dataframe tbody tr th:only-of-type {\n",
       "        vertical-align: middle;\n",
       "    }\n",
       "\n",
       "    .dataframe tbody tr th {\n",
       "        vertical-align: top;\n",
       "    }\n",
       "\n",
       "    .dataframe thead th {\n",
       "        text-align: right;\n",
       "    }\n",
       "</style>\n",
       "<table border=\"1\" class=\"dataframe\">\n",
       "  <thead>\n",
       "    <tr style=\"text-align: right;\">\n",
       "      <th></th>\n",
       "      <th>text_no_tag</th>\n",
       "      <th>polarity</th>\n",
       "      <th>length</th>\n",
       "    </tr>\n",
       "  </thead>\n",
       "  <tbody>\n",
       "    <tr>\n",
       "      <th>213</th>\n",
       "      <td>omg - time warner f ' ed up my internet instal...</td>\n",
       "      <td>0</td>\n",
       "      <td>150</td>\n",
       "    </tr>\n",
       "  </tbody>\n",
       "</table>\n",
       "</div>"
      ],
      "text/plain": [
       "                                           text_no_tag  polarity  length\n",
       "213  omg - time warner f ' ed up my internet instal...         0     150"
      ]
     },
     "execution_count": 51,
     "metadata": {},
     "output_type": "execute_result"
    }
   ],
   "source": [
    "finaltest[finaltest.length == 150]"
   ]
  },
  {
   "cell_type": "code",
   "execution_count": 53,
   "metadata": {},
   "outputs": [
    {
     "data": {
      "text/plain": [
       "\"omg - time warner f ' ed up my internet install - instead of today its now next saturday - another week w / o internet ! & $* ehfa ^ v9fhg [ * # fml .\""
      ]
     },
     "execution_count": 53,
     "metadata": {},
     "output_type": "execute_result"
    }
   ],
   "source": [
    "finaltest.text_no_tag[213]"
   ]
  },
  {
   "cell_type": "markdown",
   "metadata": {},
   "source": [
    "Since we want to perform a binary classification to predict negative or positive tweets, we drop tweets having polarity == 2 (neutral)"
   ]
  },
  {
   "cell_type": "code",
   "execution_count": 55,
   "metadata": {},
   "outputs": [],
   "source": [
    "finaltest = finaltest.drop(finaltest[finaltest.polarity == 2].index)"
   ]
  },
  {
   "cell_type": "code",
   "execution_count": 56,
   "metadata": {},
   "outputs": [
    {
     "data": {
      "text/plain": [
       "359"
      ]
     },
     "execution_count": 56,
     "metadata": {},
     "output_type": "execute_result"
    }
   ],
   "source": [
    "len(finaltest)"
   ]
  },
  {
   "cell_type": "code",
   "execution_count": 57,
   "metadata": {},
   "outputs": [
    {
     "data": {
      "text/plain": [
       "139"
      ]
     },
     "execution_count": 57,
     "metadata": {},
     "output_type": "execute_result"
    }
   ],
   "source": [
    "498 - 359"
   ]
  },
  {
   "cell_type": "code",
   "execution_count": 58,
   "metadata": {},
   "outputs": [],
   "source": [
    "finaltest.to_csv(\"finaltest.csv\")"
   ]
  },
  {
   "cell_type": "code",
   "execution_count": null,
   "metadata": {},
   "outputs": [],
   "source": []
  }
 ],
 "metadata": {
  "kernelspec": {
   "display_name": "Python 3",
   "language": "python",
   "name": "python3"
  },
  "language_info": {
   "codemirror_mode": {
    "name": "ipython",
    "version": 3
   },
   "file_extension": ".py",
   "mimetype": "text/x-python",
   "name": "python",
   "nbconvert_exporter": "python",
   "pygments_lexer": "ipython3",
   "version": "3.6.7"
  }
 },
 "nbformat": 4,
 "nbformat_minor": 2
}
