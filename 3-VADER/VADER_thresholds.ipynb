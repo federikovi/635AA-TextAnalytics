{
 "cells": [
  {
   "cell_type": "markdown",
   "metadata": {},
   "source": [
    "### VADER"
   ]
  },
  {
   "cell_type": "code",
   "execution_count": 1,
   "metadata": {},
   "outputs": [],
   "source": [
    "import pandas as pd\n",
    "import numpy as np\n",
    "\n",
    "from sklearn.metrics import accuracy_score\n",
    "from sklearn.metrics import precision_score\n",
    "from sklearn.metrics import recall_score\n",
    "from sklearn.metrics import f1_score"
   ]
  },
  {
   "cell_type": "code",
   "execution_count": 2,
   "metadata": {},
   "outputs": [],
   "source": [
    "columns = ['id','text_final', 'polarity', 'VADER_score']\n",
    "\n",
    "df_vader_train = pd.read_csv('VADER_train.csv',\n",
    "                     header = 0, \n",
    "                     usecols = [1,2,3], \n",
    "                     names=columns,\n",
    "                     encoding ='ISO-8859-1')"
   ]
  },
  {
   "cell_type": "code",
   "execution_count": 3,
   "metadata": {},
   "outputs": [
    {
     "data": {
      "text/html": [
       "<div>\n",
       "<style>\n",
       "    .dataframe thead tr:only-child th {\n",
       "        text-align: right;\n",
       "    }\n",
       "\n",
       "    .dataframe thead th {\n",
       "        text-align: left;\n",
       "    }\n",
       "\n",
       "    .dataframe tbody tr th {\n",
       "        vertical-align: top;\n",
       "    }\n",
       "</style>\n",
       "<table border=\"1\" class=\"dataframe\">\n",
       "  <thead>\n",
       "    <tr style=\"text-align: right;\">\n",
       "      <th></th>\n",
       "      <th>text_final</th>\n",
       "      <th>polarity</th>\n",
       "      <th>VADER_score</th>\n",
       "    </tr>\n",
       "  </thead>\n",
       "  <tbody>\n",
       "    <tr>\n",
       "      <th>0</th>\n",
       "      <td>@USER @URL - aw  , that ' s a bummer . you sho...</td>\n",
       "      <td>0</td>\n",
       "      <td>-0.3818</td>\n",
       "    </tr>\n",
       "    <tr>\n",
       "      <th>1</th>\n",
       "      <td>is upset that he can not update his facebook b...</td>\n",
       "      <td>0</td>\n",
       "      <td>-0.7500</td>\n",
       "    </tr>\n",
       "    <tr>\n",
       "      <th>2</th>\n",
       "      <td>@USER i dived many times for the ball . manage...</td>\n",
       "      <td>0</td>\n",
       "      <td>0.4939</td>\n",
       "    </tr>\n",
       "    <tr>\n",
       "      <th>3</th>\n",
       "      <td>my whole body feels itchy and like its on fire</td>\n",
       "      <td>0</td>\n",
       "      <td>-0.2500</td>\n",
       "    </tr>\n",
       "    <tr>\n",
       "      <th>4</th>\n",
       "      <td>@USER no , it ' s not behaving at all . i am m...</td>\n",
       "      <td>0</td>\n",
       "      <td>-0.6597</td>\n",
       "    </tr>\n",
       "  </tbody>\n",
       "</table>\n",
       "</div>"
      ],
      "text/plain": [
       "                                          text_final  polarity  VADER_score\n",
       "0  @USER @URL - aw  , that ' s a bummer . you sho...         0      -0.3818\n",
       "1  is upset that he can not update his facebook b...         0      -0.7500\n",
       "2  @USER i dived many times for the ball . manage...         0       0.4939\n",
       "3     my whole body feels itchy and like its on fire         0      -0.2500\n",
       "4  @USER no , it ' s not behaving at all . i am m...         0      -0.6597"
      ]
     },
     "execution_count": 3,
     "metadata": {},
     "output_type": "execute_result"
    }
   ],
   "source": [
    "df_vader_train.head()"
   ]
  },
  {
   "cell_type": "markdown",
   "metadata": {},
   "source": [
    "### Create column VADER_binary: 0 if lower or equal to 0, 1 otherwise"
   ]
  },
  {
   "cell_type": "code",
   "execution_count": 4,
   "metadata": {},
   "outputs": [],
   "source": [
    "df_vader_train['VADER_binary'] = (df_vader_train['VADER_score'] > 0).astype(int)"
   ]
  },
  {
   "cell_type": "code",
   "execution_count": 5,
   "metadata": {},
   "outputs": [
    {
     "data": {
      "text/html": [
       "<div>\n",
       "<style>\n",
       "    .dataframe thead tr:only-child th {\n",
       "        text-align: right;\n",
       "    }\n",
       "\n",
       "    .dataframe thead th {\n",
       "        text-align: left;\n",
       "    }\n",
       "\n",
       "    .dataframe tbody tr th {\n",
       "        vertical-align: top;\n",
       "    }\n",
       "</style>\n",
       "<table border=\"1\" class=\"dataframe\">\n",
       "  <thead>\n",
       "    <tr style=\"text-align: right;\">\n",
       "      <th></th>\n",
       "      <th>text_final</th>\n",
       "      <th>polarity</th>\n",
       "      <th>VADER_score</th>\n",
       "      <th>VADER_binary</th>\n",
       "    </tr>\n",
       "  </thead>\n",
       "  <tbody>\n",
       "    <tr>\n",
       "      <th>0</th>\n",
       "      <td>@USER @URL - aw  , that ' s a bummer . you sho...</td>\n",
       "      <td>0</td>\n",
       "      <td>-0.3818</td>\n",
       "      <td>0</td>\n",
       "    </tr>\n",
       "    <tr>\n",
       "      <th>1</th>\n",
       "      <td>is upset that he can not update his facebook b...</td>\n",
       "      <td>0</td>\n",
       "      <td>-0.7500</td>\n",
       "      <td>0</td>\n",
       "    </tr>\n",
       "    <tr>\n",
       "      <th>2</th>\n",
       "      <td>@USER i dived many times for the ball . manage...</td>\n",
       "      <td>0</td>\n",
       "      <td>0.4939</td>\n",
       "      <td>1</td>\n",
       "    </tr>\n",
       "    <tr>\n",
       "      <th>3</th>\n",
       "      <td>my whole body feels itchy and like its on fire</td>\n",
       "      <td>0</td>\n",
       "      <td>-0.2500</td>\n",
       "      <td>0</td>\n",
       "    </tr>\n",
       "    <tr>\n",
       "      <th>4</th>\n",
       "      <td>@USER no , it ' s not behaving at all . i am m...</td>\n",
       "      <td>0</td>\n",
       "      <td>-0.6597</td>\n",
       "      <td>0</td>\n",
       "    </tr>\n",
       "  </tbody>\n",
       "</table>\n",
       "</div>"
      ],
      "text/plain": [
       "                                          text_final  polarity  VADER_score  \\\n",
       "0  @USER @URL - aw  , that ' s a bummer . you sho...         0      -0.3818   \n",
       "1  is upset that he can not update his facebook b...         0      -0.7500   \n",
       "2  @USER i dived many times for the ball . manage...         0       0.4939   \n",
       "3     my whole body feels itchy and like its on fire         0      -0.2500   \n",
       "4  @USER no , it ' s not behaving at all . i am m...         0      -0.6597   \n",
       "\n",
       "   VADER_binary  \n",
       "0             0  \n",
       "1             0  \n",
       "2             1  \n",
       "3             0  \n",
       "4             0  "
      ]
     },
     "execution_count": 5,
     "metadata": {},
     "output_type": "execute_result"
    }
   ],
   "source": [
    "df_vader_train.head()"
   ]
  },
  {
   "cell_type": "code",
   "execution_count": 8,
   "metadata": {},
   "outputs": [],
   "source": [
    "vader_0 = df_vader_train.drop(df_vader_train[(df_vader_train.VADER_score == 0) ].index)"
   ]
  },
  {
   "cell_type": "markdown",
   "metadata": {},
   "source": [
    "### Threshold 0"
   ]
  },
  {
   "cell_type": "code",
   "execution_count": 9,
   "metadata": {},
   "outputs": [
    {
     "data": {
      "text/plain": [
       "array([0, 0, 0, ..., 1, 1, 1], dtype=int64)"
      ]
     },
     "execution_count": 9,
     "metadata": {},
     "output_type": "execute_result"
    }
   ],
   "source": [
    "### Polarity 0\n",
    "type(vader_0['polarity'])\n",
    "y_true0 = vader_0['polarity']\n",
    "y_true0.tolist()\n",
    "pd.Series(y_true0).values"
   ]
  },
  {
   "cell_type": "code",
   "execution_count": 11,
   "metadata": {},
   "outputs": [
    {
     "data": {
      "text/plain": [
       "array([0, 0, 1, ..., 1, 1, 1])"
      ]
     },
     "execution_count": 11,
     "metadata": {},
     "output_type": "execute_result"
    }
   ],
   "source": [
    "### VADER predictions 0\n",
    "\n",
    "type(vader_0['VADER_binary'])\n",
    "y_pred0 = vader_0['VADER_binary']\n",
    "y_pred0.tolist()\n",
    "pd.Series(y_pred0).values"
   ]
  },
  {
   "cell_type": "markdown",
   "metadata": {},
   "source": [
    "### Metrics 0"
   ]
  },
  {
   "cell_type": "code",
   "execution_count": 12,
   "metadata": {},
   "outputs": [
    {
     "name": "stdout",
     "output_type": "stream",
     "text": [
      "Accuracy sore:  0.7150829088247717\n",
      "Precision score:  0.6623838340739507\n",
      "Recall score:  0.8586482343676488\n",
      "F-measure score:  0.7478536730445129\n"
     ]
    }
   ],
   "source": [
    "print( \"Accuracy sore: \", accuracy_score(y_true0, y_pred0))\n",
    "print( \"Precision score: \", precision_score(y_true0, y_pred0, average='binary'))\n",
    "print( \"Recall score: \", recall_score(y_true0, y_pred0, average='binary'))\n",
    "print( \"F-measure score: \", f1_score(y_true0, y_pred0, average='binary'))"
   ]
  },
  {
   "cell_type": "markdown",
   "metadata": {},
   "source": [
    "### Threshold 025"
   ]
  },
  {
   "cell_type": "code",
   "execution_count": 13,
   "metadata": {},
   "outputs": [],
   "source": [
    "vader_025 = df_vader_train.drop(df_vader_train[(df_vader_train.VADER_score > -0.25) & (df_vader_train.VADER_score < 0.25)].index)"
   ]
  },
  {
   "cell_type": "code",
   "execution_count": 14,
   "metadata": {},
   "outputs": [
    {
     "data": {
      "text/html": [
       "<div>\n",
       "<style>\n",
       "    .dataframe thead tr:only-child th {\n",
       "        text-align: right;\n",
       "    }\n",
       "\n",
       "    .dataframe thead th {\n",
       "        text-align: left;\n",
       "    }\n",
       "\n",
       "    .dataframe tbody tr th {\n",
       "        vertical-align: top;\n",
       "    }\n",
       "</style>\n",
       "<table border=\"1\" class=\"dataframe\">\n",
       "  <thead>\n",
       "    <tr style=\"text-align: right;\">\n",
       "      <th></th>\n",
       "      <th>text_final</th>\n",
       "      <th>polarity</th>\n",
       "      <th>VADER_score</th>\n",
       "      <th>VADER_binary</th>\n",
       "    </tr>\n",
       "  </thead>\n",
       "  <tbody>\n",
       "    <tr>\n",
       "      <th>0</th>\n",
       "      <td>@USER @URL - aw  , that ' s a bummer . you sho...</td>\n",
       "      <td>0</td>\n",
       "      <td>-0.3818</td>\n",
       "      <td>0</td>\n",
       "    </tr>\n",
       "    <tr>\n",
       "      <th>1</th>\n",
       "      <td>is upset that he can not update his facebook b...</td>\n",
       "      <td>0</td>\n",
       "      <td>-0.7500</td>\n",
       "      <td>0</td>\n",
       "    </tr>\n",
       "    <tr>\n",
       "      <th>2</th>\n",
       "      <td>@USER i dived many times for the ball . manage...</td>\n",
       "      <td>0</td>\n",
       "      <td>0.4939</td>\n",
       "      <td>1</td>\n",
       "    </tr>\n",
       "    <tr>\n",
       "      <th>3</th>\n",
       "      <td>my whole body feels itchy and like its on fire</td>\n",
       "      <td>0</td>\n",
       "      <td>-0.2500</td>\n",
       "      <td>0</td>\n",
       "    </tr>\n",
       "    <tr>\n",
       "      <th>4</th>\n",
       "      <td>@USER no , it ' s not behaving at all . i am m...</td>\n",
       "      <td>0</td>\n",
       "      <td>-0.6597</td>\n",
       "      <td>0</td>\n",
       "    </tr>\n",
       "  </tbody>\n",
       "</table>\n",
       "</div>"
      ],
      "text/plain": [
       "                                          text_final  polarity  VADER_score  \\\n",
       "0  @USER @URL - aw  , that ' s a bummer . you sho...         0      -0.3818   \n",
       "1  is upset that he can not update his facebook b...         0      -0.7500   \n",
       "2  @USER i dived many times for the ball . manage...         0       0.4939   \n",
       "3     my whole body feels itchy and like its on fire         0      -0.2500   \n",
       "4  @USER no , it ' s not behaving at all . i am m...         0      -0.6597   \n",
       "\n",
       "   VADER_binary  \n",
       "0             0  \n",
       "1             0  \n",
       "2             1  \n",
       "3             0  \n",
       "4             0  "
      ]
     },
     "execution_count": 14,
     "metadata": {},
     "output_type": "execute_result"
    }
   ],
   "source": [
    "vader_025.head()"
   ]
  },
  {
   "cell_type": "code",
   "execution_count": 15,
   "metadata": {},
   "outputs": [
    {
     "data": {
      "text/plain": [
       "array([0, 0, 1, ..., 1, 1, 1])"
      ]
     },
     "execution_count": 15,
     "metadata": {},
     "output_type": "execute_result"
    }
   ],
   "source": [
    "### VADER predictions 025\n",
    "\n",
    "type(vader_025['VADER_binary'])\n",
    "y_pred025 = vader_025['VADER_binary']\n",
    "y_pred025.tolist()\n",
    "pd.Series(y_pred025).values"
   ]
  },
  {
   "cell_type": "code",
   "execution_count": 16,
   "metadata": {},
   "outputs": [
    {
     "data": {
      "text/plain": [
       "array([0, 0, 0, ..., 1, 1, 1], dtype=int64)"
      ]
     },
     "execution_count": 16,
     "metadata": {},
     "output_type": "execute_result"
    }
   ],
   "source": [
    "### Polarity 025\n",
    "type(vader_025['polarity'])\n",
    "y_true025 = vader_025['polarity']\n",
    "y_true025.tolist()\n",
    "pd.Series(y_true025).values"
   ]
  },
  {
   "cell_type": "markdown",
   "metadata": {},
   "source": [
    "### METRICS 025"
   ]
  },
  {
   "cell_type": "code",
   "execution_count": 17,
   "metadata": {},
   "outputs": [
    {
     "name": "stdout",
     "output_type": "stream",
     "text": [
      "Accuracy sore:  0.7413869116404634\n",
      "Precision score:  0.699157032050344\n",
      "Recall score:  0.887189867775962\n",
      "F-measure score:  0.7820294979456204\n"
     ]
    }
   ],
   "source": [
    "print( \"Accuracy sore: \", accuracy_score(y_true025, y_pred025))\n",
    "print( \"Precision score: \", precision_score(y_true025, y_pred025, average='binary'))\n",
    "print( \"Recall score: \", recall_score(y_true025, y_pred025, average='binary'))\n",
    "print( \"F-measure score: \", f1_score(y_true025, y_pred025, average='binary'))"
   ]
  },
  {
   "cell_type": "markdown",
   "metadata": {},
   "source": [
    "### Threshold 035\n"
   ]
  },
  {
   "cell_type": "code",
   "execution_count": 18,
   "metadata": {},
   "outputs": [],
   "source": [
    "vader_035 = df_vader_train.drop(df_vader_train[(df_vader_train.VADER_score > -0.35) & (df_vader_train.VADER_score < 0.35)].index)"
   ]
  },
  {
   "cell_type": "code",
   "execution_count": 19,
   "metadata": {},
   "outputs": [
    {
     "data": {
      "text/html": [
       "<div>\n",
       "<style>\n",
       "    .dataframe thead tr:only-child th {\n",
       "        text-align: right;\n",
       "    }\n",
       "\n",
       "    .dataframe thead th {\n",
       "        text-align: left;\n",
       "    }\n",
       "\n",
       "    .dataframe tbody tr th {\n",
       "        vertical-align: top;\n",
       "    }\n",
       "</style>\n",
       "<table border=\"1\" class=\"dataframe\">\n",
       "  <thead>\n",
       "    <tr style=\"text-align: right;\">\n",
       "      <th></th>\n",
       "      <th>text_final</th>\n",
       "      <th>polarity</th>\n",
       "      <th>VADER_score</th>\n",
       "      <th>VADER_binary</th>\n",
       "    </tr>\n",
       "  </thead>\n",
       "  <tbody>\n",
       "    <tr>\n",
       "      <th>0</th>\n",
       "      <td>@USER @URL - aw  , that ' s a bummer . you sho...</td>\n",
       "      <td>0</td>\n",
       "      <td>-0.3818</td>\n",
       "      <td>0</td>\n",
       "    </tr>\n",
       "    <tr>\n",
       "      <th>1</th>\n",
       "      <td>is upset that he can not update his facebook b...</td>\n",
       "      <td>0</td>\n",
       "      <td>-0.7500</td>\n",
       "      <td>0</td>\n",
       "    </tr>\n",
       "    <tr>\n",
       "      <th>2</th>\n",
       "      <td>@USER i dived many times for the ball . manage...</td>\n",
       "      <td>0</td>\n",
       "      <td>0.4939</td>\n",
       "      <td>1</td>\n",
       "    </tr>\n",
       "    <tr>\n",
       "      <th>4</th>\n",
       "      <td>@USER no , it ' s not behaving at all . i am m...</td>\n",
       "      <td>0</td>\n",
       "      <td>-0.6597</td>\n",
       "      <td>0</td>\n",
       "    </tr>\n",
       "    <tr>\n",
       "      <th>6</th>\n",
       "      <td>need a hug</td>\n",
       "      <td>0</td>\n",
       "      <td>0.4767</td>\n",
       "      <td>1</td>\n",
       "    </tr>\n",
       "  </tbody>\n",
       "</table>\n",
       "</div>"
      ],
      "text/plain": [
       "                                          text_final  polarity  VADER_score  \\\n",
       "0  @USER @URL - aw  , that ' s a bummer . you sho...         0      -0.3818   \n",
       "1  is upset that he can not update his facebook b...         0      -0.7500   \n",
       "2  @USER i dived many times for the ball . manage...         0       0.4939   \n",
       "4  @USER no , it ' s not behaving at all . i am m...         0      -0.6597   \n",
       "6                                         need a hug         0       0.4767   \n",
       "\n",
       "   VADER_binary  \n",
       "0             0  \n",
       "1             0  \n",
       "2             1  \n",
       "4             0  \n",
       "6             1  "
      ]
     },
     "execution_count": 19,
     "metadata": {},
     "output_type": "execute_result"
    }
   ],
   "source": [
    "vader_035.head()"
   ]
  },
  {
   "cell_type": "code",
   "execution_count": 20,
   "metadata": {},
   "outputs": [
    {
     "data": {
      "text/plain": [
       "array([0, 0, 0, ..., 1, 1, 1], dtype=int64)"
      ]
     },
     "execution_count": 20,
     "metadata": {},
     "output_type": "execute_result"
    }
   ],
   "source": [
    "### Polarity 035\n",
    "type(vader_035['polarity'])\n",
    "y_true035 = vader_035['polarity']\n",
    "y_true035.tolist()\n",
    "pd.Series(y_true035).values"
   ]
  },
  {
   "cell_type": "code",
   "execution_count": 21,
   "metadata": {},
   "outputs": [
    {
     "data": {
      "text/plain": [
       "array([0, 0, 1, ..., 1, 1, 1])"
      ]
     },
     "execution_count": 21,
     "metadata": {},
     "output_type": "execute_result"
    }
   ],
   "source": [
    "### VADER predictions 035\n",
    "\n",
    "type(vader_035['VADER_binary'])\n",
    "y_pred035 = vader_035['VADER_binary']\n",
    "y_pred035.tolist()\n",
    "pd.Series(y_pred035).values"
   ]
  },
  {
   "cell_type": "markdown",
   "metadata": {},
   "source": [
    "### Metrics 035"
   ]
  },
  {
   "cell_type": "code",
   "execution_count": 22,
   "metadata": {},
   "outputs": [
    {
     "name": "stdout",
     "output_type": "stream",
     "text": [
      "Accuracy sore:  0.7549302243656203\n",
      "Precision score:  0.7177450397736149\n",
      "Recall score:  0.9090556746623475\n",
      "F-measure score:  0.8021513582789134\n"
     ]
    }
   ],
   "source": [
    "print( \"Accuracy sore: \", accuracy_score(y_true035, y_pred035))\n",
    "print( \"Precision score: \", precision_score(y_true035, y_pred035, average='binary'))\n",
    "print( \"Recall score: \", recall_score(y_true035, y_pred035, average='binary'))\n",
    "print( \"F-measure score: \", f1_score(y_true035, y_pred035, average='binary'))"
   ]
  },
  {
   "cell_type": "markdown",
   "metadata": {},
   "source": [
    "### Threshold 0.5"
   ]
  },
  {
   "cell_type": "code",
   "execution_count": 23,
   "metadata": {},
   "outputs": [],
   "source": [
    "vader_05 = df_vader_train.drop(df_vader_train[(df_vader_train.VADER_score > -0.50) & (df_vader_train.VADER_score < 0.50)].index)"
   ]
  },
  {
   "cell_type": "code",
   "execution_count": 24,
   "metadata": {},
   "outputs": [
    {
     "name": "stdout",
     "output_type": "stream",
     "text": [
      "Dataset ripulito:  1596375\n"
     ]
    }
   ],
   "source": [
    "print(\"Dataset ripulito: \",len(df_vader_train))"
   ]
  },
  {
   "cell_type": "code",
   "execution_count": 25,
   "metadata": {},
   "outputs": [
    {
     "name": "stdout",
     "output_type": "stream",
     "text": [
      "Dataset finale:  602766\n"
     ]
    }
   ],
   "source": [
    "print(\"Dataset finale: \", len(vader_05))"
   ]
  },
  {
   "cell_type": "code",
   "execution_count": 26,
   "metadata": {},
   "outputs": [
    {
     "name": "stdout",
     "output_type": "stream",
     "text": [
      "Tweet neutri:  993609\n"
     ]
    }
   ],
   "source": [
    "print(\"Tweet neutri: \",len(df_vader_train)-len(vader_05))"
   ]
  },
  {
   "cell_type": "code",
   "execution_count": 27,
   "metadata": {},
   "outputs": [
    {
     "data": {
      "text/html": [
       "<div>\n",
       "<style>\n",
       "    .dataframe thead tr:only-child th {\n",
       "        text-align: right;\n",
       "    }\n",
       "\n",
       "    .dataframe thead th {\n",
       "        text-align: left;\n",
       "    }\n",
       "\n",
       "    .dataframe tbody tr th {\n",
       "        vertical-align: top;\n",
       "    }\n",
       "</style>\n",
       "<table border=\"1\" class=\"dataframe\">\n",
       "  <thead>\n",
       "    <tr style=\"text-align: right;\">\n",
       "      <th></th>\n",
       "      <th>text_final</th>\n",
       "      <th>polarity</th>\n",
       "      <th>VADER_score</th>\n",
       "      <th>VADER_binary</th>\n",
       "    </tr>\n",
       "  </thead>\n",
       "  <tbody>\n",
       "    <tr>\n",
       "      <th>1</th>\n",
       "      <td>is upset that he can not update his facebook b...</td>\n",
       "      <td>0</td>\n",
       "      <td>-0.7500</td>\n",
       "      <td>0</td>\n",
       "    </tr>\n",
       "    <tr>\n",
       "      <th>4</th>\n",
       "      <td>@USER no , it ' s not behaving at all . i am m...</td>\n",
       "      <td>0</td>\n",
       "      <td>-0.6597</td>\n",
       "      <td>0</td>\n",
       "    </tr>\n",
       "    <tr>\n",
       "      <th>7</th>\n",
       "      <td>@USER hey long time no see ! yes .  rains a bi...</td>\n",
       "      <td>0</td>\n",
       "      <td>0.8070</td>\n",
       "      <td>1</td>\n",
       "    </tr>\n",
       "    <tr>\n",
       "      <th>12</th>\n",
       "      <td>@USER i could not bear to watch it . and i tho...</td>\n",
       "      <td>0</td>\n",
       "      <td>-0.5994</td>\n",
       "      <td>0</td>\n",
       "    </tr>\n",
       "    <tr>\n",
       "      <th>16</th>\n",
       "      <td>hollis ' death scene will hurt me severely to ...</td>\n",
       "      <td>0</td>\n",
       "      <td>-0.9081</td>\n",
       "      <td>0</td>\n",
       "    </tr>\n",
       "  </tbody>\n",
       "</table>\n",
       "</div>"
      ],
      "text/plain": [
       "                                           text_final  polarity  VADER_score  \\\n",
       "1   is upset that he can not update his facebook b...         0      -0.7500   \n",
       "4   @USER no , it ' s not behaving at all . i am m...         0      -0.6597   \n",
       "7   @USER hey long time no see ! yes .  rains a bi...         0       0.8070   \n",
       "12  @USER i could not bear to watch it . and i tho...         0      -0.5994   \n",
       "16  hollis ' death scene will hurt me severely to ...         0      -0.9081   \n",
       "\n",
       "    VADER_binary  \n",
       "1              0  \n",
       "4              0  \n",
       "7              1  \n",
       "12             0  \n",
       "16             0  "
      ]
     },
     "execution_count": 27,
     "metadata": {},
     "output_type": "execute_result"
    }
   ],
   "source": [
    "vader_05.head()"
   ]
  },
  {
   "cell_type": "code",
   "execution_count": 28,
   "metadata": {},
   "outputs": [
    {
     "data": {
      "text/plain": [
       "array([0, 0, 0, ..., 1, 1, 1], dtype=int64)"
      ]
     },
     "execution_count": 28,
     "metadata": {},
     "output_type": "execute_result"
    }
   ],
   "source": [
    "### Polarity 05\n",
    "type(vader_05['polarity'])\n",
    "y_true05 = vader_05['polarity']\n",
    "y_true05.tolist()\n",
    "pd.Series(y_true05).values"
   ]
  },
  {
   "cell_type": "code",
   "execution_count": 29,
   "metadata": {},
   "outputs": [
    {
     "data": {
      "text/plain": [
       "array([0, 0, 1, ..., 1, 1, 1])"
      ]
     },
     "execution_count": 29,
     "metadata": {},
     "output_type": "execute_result"
    }
   ],
   "source": [
    "### VADER predictions 05\n",
    "\n",
    "type(vader_05['VADER_binary'])\n",
    "y_pred05 = vader_05['VADER_binary']\n",
    "y_pred05.tolist()\n",
    "pd.Series(y_pred05).values"
   ]
  },
  {
   "cell_type": "markdown",
   "metadata": {},
   "source": [
    "### Metrics 05"
   ]
  },
  {
   "cell_type": "code",
   "execution_count": 30,
   "metadata": {},
   "outputs": [
    {
     "name": "stdout",
     "output_type": "stream",
     "text": [
      "Accuracy sore:  0.7805732241035493\n",
      "Precision score:  0.7511891880620115\n",
      "Recall score:  0.9287371665597214\n",
      "F-measure score:  0.830580836060639\n"
     ]
    }
   ],
   "source": [
    "print( \"Accuracy sore: \", accuracy_score(y_true05, y_pred05))\n",
    "print( \"Precision score: \", precision_score(y_true05, y_pred05, average='binary'))\n",
    "print( \"Recall score: \", recall_score(y_true05, y_pred05, average='binary'))\n",
    "print( \"F-measure score: \", f1_score(y_true05, y_pred05, average='binary'))"
   ]
  },
  {
   "cell_type": "code",
   "execution_count": 58,
   "metadata": {},
   "outputs": [],
   "source": [
    "#vader_05.to_csv(\"dataset_05.csv\")"
   ]
  }
 ],
 "metadata": {
  "kernelspec": {
   "display_name": "Python 3",
   "language": "python",
   "name": "python3"
  },
  "language_info": {
   "codemirror_mode": {
    "name": "ipython",
    "version": 3
   },
   "file_extension": ".py",
   "mimetype": "text/x-python",
   "name": "python",
   "nbconvert_exporter": "python",
   "pygments_lexer": "ipython3",
   "version": "3.6.3"
  },
  "latex_envs": {
   "LaTeX_envs_menu_present": true,
   "autoclose": false,
   "autocomplete": true,
   "bibliofile": "biblio.bib",
   "cite_by": "apalike",
   "current_citInitial": 1,
   "eqLabelWithNumbers": true,
   "eqNumInitial": 1,
   "hotkeys": {
    "equation": "Ctrl-E",
    "itemize": "Ctrl-I"
   },
   "labels_anchors": false,
   "latex_user_defs": false,
   "report_style_numbering": false,
   "user_envs_cfg": false
  }
 },
 "nbformat": 4,
 "nbformat_minor": 2
}
