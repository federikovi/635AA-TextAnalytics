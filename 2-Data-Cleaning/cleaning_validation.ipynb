{
 "cells": [
  {
   "cell_type": "markdown",
   "metadata": {},
   "source": [
    "# Cleaning training set"
   ]
  },
  {
   "cell_type": "code",
   "execution_count": 1,
   "metadata": {},
   "outputs": [],
   "source": [
    "import pandas as pd\n",
    "import numpy as np\n",
    "import seaborn as sns\n",
    "import matplotlib.pyplot as plt\n",
    "import re\n",
    "from time import time\n",
    "from bs4 import BeautifulSoup\n",
    "from ekphrasis.classes.preprocessor import TextPreProcessor\n",
    "from ekphrasis.classes.tokenizer import SocialTokenizer\n",
    "from ekphrasis.dicts.emoticons import emoticons"
   ]
  },
  {
   "cell_type": "code",
   "execution_count": 2,
   "metadata": {},
   "outputs": [],
   "source": [
    "columns = ['mean pos', 'mean neg', 'diff', 'label', 'tweet']\n",
    "\n",
    "dftrain = pd.read_csv('csv/vader_validation_set.csv',\n",
    "                     header = 0, \n",
    "                     usecols = [3,4], \n",
    "                     names=columns,\n",
    "                     encoding ='utf-8')"
   ]
  },
  {
   "cell_type": "code",
   "execution_count": 3,
   "metadata": {},
   "outputs": [
    {
     "data": {
      "text/html": [
       "<div>\n",
       "<style scoped>\n",
       "    .dataframe tbody tr th:only-of-type {\n",
       "        vertical-align: middle;\n",
       "    }\n",
       "\n",
       "    .dataframe tbody tr th {\n",
       "        vertical-align: top;\n",
       "    }\n",
       "\n",
       "    .dataframe thead th {\n",
       "        text-align: right;\n",
       "    }\n",
       "</style>\n",
       "<table border=\"1\" class=\"dataframe\">\n",
       "  <thead>\n",
       "    <tr style=\"text-align: right;\">\n",
       "      <th></th>\n",
       "      <th>label</th>\n",
       "      <th>tweet</th>\n",
       "    </tr>\n",
       "  </thead>\n",
       "  <tbody>\n",
       "    <tr>\n",
       "      <th>0</th>\n",
       "      <td>1</td>\n",
       "      <td>i didnt mean knee high I ment in lengt it goes...</td>\n",
       "    </tr>\n",
       "    <tr>\n",
       "      <th>1</th>\n",
       "      <td>1</td>\n",
       "      <td>RT @cakedream: Ppl who say sex is over rated i...</td>\n",
       "    </tr>\n",
       "    <tr>\n",
       "      <th>2</th>\n",
       "      <td>1</td>\n",
       "      <td>RT @thelovestrings: You don't have to ruin the...</td>\n",
       "    </tr>\n",
       "    <tr>\n",
       "      <th>3</th>\n",
       "      <td>1</td>\n",
       "      <td>Listening to the \"New Age\" station on @Slacker...</td>\n",
       "    </tr>\n",
       "    <tr>\n",
       "      <th>4</th>\n",
       "      <td>1</td>\n",
       "      <td>@Mrhilton1985 Welcome to Twitter xx</td>\n",
       "    </tr>\n",
       "  </tbody>\n",
       "</table>\n",
       "</div>"
      ],
      "text/plain": [
       "   label                                              tweet\n",
       "0      1  i didnt mean knee high I ment in lengt it goes...\n",
       "1      1  RT @cakedream: Ppl who say sex is over rated i...\n",
       "2      1  RT @thelovestrings: You don't have to ruin the...\n",
       "3      1  Listening to the \"New Age\" station on @Slacker...\n",
       "4      1                @Mrhilton1985 Welcome to Twitter xx"
      ]
     },
     "execution_count": 3,
     "metadata": {},
     "output_type": "execute_result"
    }
   ],
   "source": [
    "dftrain.head()"
   ]
  },
  {
   "cell_type": "code",
   "execution_count": 4,
   "metadata": {},
   "outputs": [],
   "source": [
    "dftrain = dftrain[:798]"
   ]
  },
  {
   "cell_type": "code",
   "execution_count": 5,
   "metadata": {},
   "outputs": [
    {
     "data": {
      "text/html": [
       "<div>\n",
       "<style scoped>\n",
       "    .dataframe tbody tr th:only-of-type {\n",
       "        vertical-align: middle;\n",
       "    }\n",
       "\n",
       "    .dataframe tbody tr th {\n",
       "        vertical-align: top;\n",
       "    }\n",
       "\n",
       "    .dataframe thead th {\n",
       "        text-align: right;\n",
       "    }\n",
       "</style>\n",
       "<table border=\"1\" class=\"dataframe\">\n",
       "  <thead>\n",
       "    <tr style=\"text-align: right;\">\n",
       "      <th></th>\n",
       "      <th>label</th>\n",
       "      <th>tweet</th>\n",
       "    </tr>\n",
       "  </thead>\n",
       "  <tbody>\n",
       "    <tr>\n",
       "      <th>793</th>\n",
       "      <td>0</td>\n",
       "      <td>RT @MrSealthedeal: #RaiseUrHandIf you used to ...</td>\n",
       "    </tr>\n",
       "    <tr>\n",
       "      <th>794</th>\n",
       "      <td>0</td>\n",
       "      <td>@2STix_iNaBUN nd you been callin me outta my n...</td>\n",
       "    </tr>\n",
       "    <tr>\n",
       "      <th>795</th>\n",
       "      <td>0</td>\n",
       "      <td>That movie was crazy!!! Depressing an action!!!!</td>\n",
       "    </tr>\n",
       "    <tr>\n",
       "      <th>796</th>\n",
       "      <td>0</td>\n",
       "      <td>:( oh no! :( god.. :'( little layla! RT @Layla...</td>\n",
       "    </tr>\n",
       "    <tr>\n",
       "      <th>797</th>\n",
       "      <td>0</td>\n",
       "      <td>Never by tea at Schiphol airport</td>\n",
       "    </tr>\n",
       "  </tbody>\n",
       "</table>\n",
       "</div>"
      ],
      "text/plain": [
       "     label                                              tweet\n",
       "793      0  RT @MrSealthedeal: #RaiseUrHandIf you used to ...\n",
       "794      0  @2STix_iNaBUN nd you been callin me outta my n...\n",
       "795      0   That movie was crazy!!! Depressing an action!!!!\n",
       "796      0  :( oh no! :( god.. :'( little layla! RT @Layla...\n",
       "797      0                   Never by tea at Schiphol airport"
      ]
     },
     "execution_count": 5,
     "metadata": {},
     "output_type": "execute_result"
    }
   ],
   "source": [
    "dftrain.tail()"
   ]
  },
  {
   "cell_type": "markdown",
   "metadata": {},
   "source": [
    "#### Verifying tweets' length"
   ]
  },
  {
   "cell_type": "code",
   "execution_count": 6,
   "metadata": {},
   "outputs": [],
   "source": [
    "dftrain['length'] = [len(t) for t in dftrain.tweet]"
   ]
  },
  {
   "cell_type": "code",
   "execution_count": 7,
   "metadata": {},
   "outputs": [
    {
     "data": {
      "text/html": [
       "<div>\n",
       "<style scoped>\n",
       "    .dataframe tbody tr th:only-of-type {\n",
       "        vertical-align: middle;\n",
       "    }\n",
       "\n",
       "    .dataframe tbody tr th {\n",
       "        vertical-align: top;\n",
       "    }\n",
       "\n",
       "    .dataframe thead th {\n",
       "        text-align: right;\n",
       "    }\n",
       "</style>\n",
       "<table border=\"1\" class=\"dataframe\">\n",
       "  <thead>\n",
       "    <tr style=\"text-align: right;\">\n",
       "      <th></th>\n",
       "      <th>label</th>\n",
       "      <th>tweet</th>\n",
       "      <th>length</th>\n",
       "    </tr>\n",
       "  </thead>\n",
       "  <tbody>\n",
       "    <tr>\n",
       "      <th>1</th>\n",
       "      <td>1</td>\n",
       "      <td>RT @cakedream: Ppl who say sex is over rated i...</td>\n",
       "      <td>148</td>\n",
       "    </tr>\n",
       "    <tr>\n",
       "      <th>6</th>\n",
       "      <td>1</td>\n",
       "      <td>RT @RockinGreenSoap: I Flip(in) Love @rockingr...</td>\n",
       "      <td>145</td>\n",
       "    </tr>\n",
       "    <tr>\n",
       "      <th>23</th>\n",
       "      <td>1</td>\n",
       "      <td>RT @Kelsey_Grammer: So GOOGLE BUZZ is a hot to...</td>\n",
       "      <td>146</td>\n",
       "    </tr>\n",
       "    <tr>\n",
       "      <th>36</th>\n",
       "      <td>1</td>\n",
       "      <td>RT @MyTrainerBob: I'm trying to get people to ...</td>\n",
       "      <td>154</td>\n",
       "    </tr>\n",
       "    <tr>\n",
       "      <th>56</th>\n",
       "      <td>1</td>\n",
       "      <td>RT @rachellehoude: I suggest we all listen to ...</td>\n",
       "      <td>156</td>\n",
       "    </tr>\n",
       "    <tr>\n",
       "      <th>93</th>\n",
       "      <td>1</td>\n",
       "      <td>RT @ParisHilton: Happy Valentines Day Everyone...</td>\n",
       "      <td>155</td>\n",
       "    </tr>\n",
       "    <tr>\n",
       "      <th>98</th>\n",
       "      <td>1</td>\n",
       "      <td>RT @jaredleto: thank u! RT @IAmCattSadler: Mos...</td>\n",
       "      <td>149</td>\n",
       "    </tr>\n",
       "    <tr>\n",
       "      <th>356</th>\n",
       "      <td>1</td>\n",
       "      <td>RT @FreakingDUMMY: RT @tbreezyworld LADY GAGA ...</td>\n",
       "      <td>158</td>\n",
       "    </tr>\n",
       "    <tr>\n",
       "      <th>425</th>\n",
       "      <td>1</td>\n",
       "      <td>RT @Greer_Grammer: Will: \"isn't it sad that we...</td>\n",
       "      <td>152</td>\n",
       "    </tr>\n",
       "    <tr>\n",
       "      <th>470</th>\n",
       "      <td>1</td>\n",
       "      <td>RT @madisonviolet: Madison Violet just won the...</td>\n",
       "      <td>147</td>\n",
       "    </tr>\n",
       "    <tr>\n",
       "      <th>580</th>\n",
       "      <td>0</td>\n",
       "      <td>RT @Tiana2Hot: #petpeeve ppl being over-affect...</td>\n",
       "      <td>153</td>\n",
       "    </tr>\n",
       "    <tr>\n",
       "      <th>655</th>\n",
       "      <td>0</td>\n",
       "      <td>RT @mizmoni: I feel like crap! Didnt get much ...</td>\n",
       "      <td>142</td>\n",
       "    </tr>\n",
       "    <tr>\n",
       "      <th>729</th>\n",
       "      <td>0</td>\n",
       "      <td>RT @elliottyamin: Complete and utter choas on ...</td>\n",
       "      <td>150</td>\n",
       "    </tr>\n",
       "    <tr>\n",
       "      <th>747</th>\n",
       "      <td>0</td>\n",
       "      <td>RT @marykayhoal: If you get this message: \"som...</td>\n",
       "      <td>145</td>\n",
       "    </tr>\n",
       "    <tr>\n",
       "      <th>751</th>\n",
       "      <td>0</td>\n",
       "      <td>RT @TeamKenielle: If they seem like jb fans I'...</td>\n",
       "      <td>142</td>\n",
       "    </tr>\n",
       "    <tr>\n",
       "      <th>761</th>\n",
       "      <td>0</td>\n",
       "      <td>RT @crazimonkay: Lamatrix: #RIPMadisonBieber? ...</td>\n",
       "      <td>141</td>\n",
       "    </tr>\n",
       "  </tbody>\n",
       "</table>\n",
       "</div>"
      ],
      "text/plain": [
       "     label                                              tweet  length\n",
       "1        1  RT @cakedream: Ppl who say sex is over rated i...     148\n",
       "6        1  RT @RockinGreenSoap: I Flip(in) Love @rockingr...     145\n",
       "23       1  RT @Kelsey_Grammer: So GOOGLE BUZZ is a hot to...     146\n",
       "36       1  RT @MyTrainerBob: I'm trying to get people to ...     154\n",
       "56       1  RT @rachellehoude: I suggest we all listen to ...     156\n",
       "93       1  RT @ParisHilton: Happy Valentines Day Everyone...     155\n",
       "98       1  RT @jaredleto: thank u! RT @IAmCattSadler: Mos...     149\n",
       "356      1  RT @FreakingDUMMY: RT @tbreezyworld LADY GAGA ...     158\n",
       "425      1  RT @Greer_Grammer: Will: \"isn't it sad that we...     152\n",
       "470      1  RT @madisonviolet: Madison Violet just won the...     147\n",
       "580      0  RT @Tiana2Hot: #petpeeve ppl being over-affect...     153\n",
       "655      0  RT @mizmoni: I feel like crap! Didnt get much ...     142\n",
       "729      0  RT @elliottyamin: Complete and utter choas on ...     150\n",
       "747      0  RT @marykayhoal: If you get this message: \"som...     145\n",
       "751      0  RT @TeamKenielle: If they seem like jb fans I'...     142\n",
       "761      0  RT @crazimonkay: Lamatrix: #RIPMadisonBieber? ...     141"
      ]
     },
     "execution_count": 7,
     "metadata": {},
     "output_type": "execute_result"
    }
   ],
   "source": [
    "dftrain[dftrain.length >140].head(100)"
   ]
  },
  {
   "cell_type": "code",
   "execution_count": 8,
   "metadata": {},
   "outputs": [
    {
     "data": {
      "text/plain": [
       "16"
      ]
     },
     "execution_count": 8,
     "metadata": {},
     "output_type": "execute_result"
    }
   ],
   "source": [
    "len(dftrain[dftrain.length >140])"
   ]
  },
  {
   "cell_type": "code",
   "execution_count": 9,
   "metadata": {},
   "outputs": [
    {
     "data": {
      "text/html": [
       "<div>\n",
       "<style scoped>\n",
       "    .dataframe tbody tr th:only-of-type {\n",
       "        vertical-align: middle;\n",
       "    }\n",
       "\n",
       "    .dataframe tbody tr th {\n",
       "        vertical-align: top;\n",
       "    }\n",
       "\n",
       "    .dataframe thead th {\n",
       "        text-align: right;\n",
       "    }\n",
       "</style>\n",
       "<table border=\"1\" class=\"dataframe\">\n",
       "  <thead>\n",
       "    <tr style=\"text-align: right;\">\n",
       "      <th></th>\n",
       "      <th>label</th>\n",
       "      <th>tweet</th>\n",
       "      <th>length</th>\n",
       "    </tr>\n",
       "  </thead>\n",
       "  <tbody>\n",
       "    <tr>\n",
       "      <th>0</th>\n",
       "      <td>1</td>\n",
       "      <td>i didnt mean knee high I ment in lengt it goes...</td>\n",
       "      <td>93</td>\n",
       "    </tr>\n",
       "    <tr>\n",
       "      <th>1</th>\n",
       "      <td>1</td>\n",
       "      <td>RT @cakedream: Ppl who say sex is over rated i...</td>\n",
       "      <td>148</td>\n",
       "    </tr>\n",
       "    <tr>\n",
       "      <th>2</th>\n",
       "      <td>1</td>\n",
       "      <td>RT @thelovestrings: You don't have to ruin the...</td>\n",
       "      <td>75</td>\n",
       "    </tr>\n",
       "    <tr>\n",
       "      <th>3</th>\n",
       "      <td>1</td>\n",
       "      <td>Listening to the \"New Age\" station on @Slacker...</td>\n",
       "      <td>79</td>\n",
       "    </tr>\n",
       "    <tr>\n",
       "      <th>4</th>\n",
       "      <td>1</td>\n",
       "      <td>@Mrhilton1985 Welcome to Twitter xx</td>\n",
       "      <td>35</td>\n",
       "    </tr>\n",
       "  </tbody>\n",
       "</table>\n",
       "</div>"
      ],
      "text/plain": [
       "   label                                              tweet  length\n",
       "0      1  i didnt mean knee high I ment in lengt it goes...      93\n",
       "1      1  RT @cakedream: Ppl who say sex is over rated i...     148\n",
       "2      1  RT @thelovestrings: You don't have to ruin the...      75\n",
       "3      1  Listening to the \"New Age\" station on @Slacker...      79\n",
       "4      1                @Mrhilton1985 Welcome to Twitter xx      35"
      ]
     },
     "execution_count": 9,
     "metadata": {},
     "output_type": "execute_result"
    }
   ],
   "source": [
    "dftrain.head()"
   ]
  },
  {
   "cell_type": "markdown",
   "metadata": {},
   "source": [
    "#### Applying Ekphrasis Library for cleaning dataset\n",
    "\n",
    "- substitute URLs with tag `<url>`\n",
    "- substitute emails with tag `<email>`\n",
    "- substitute mentions with tag `<user>`\n",
    "- remove percent, money, phone, time, date, number"
   ]
  },
  {
   "cell_type": "code",
   "execution_count": 10,
   "metadata": {},
   "outputs": [
    {
     "name": "stdout",
     "output_type": "stream",
     "text": [
      "Reading twitter - 1grams ...\n",
      "Reading twitter - 2grams ...\n",
      "Reading twitter - 1grams ...\n",
      "CPU times: user 5.55 s, sys: 429 ms, total: 5.97 s\n",
      "Wall time: 5.98 s\n"
     ]
    }
   ],
   "source": [
    "%%time\n",
    "\n",
    "text_processor = TextPreProcessor(\n",
    "    # terms that will be normalized\n",
    "    normalize=['url', 'email', 'percent', 'money', 'phone', 'user',\n",
    "        'time', 'date', 'number'],\n",
    "    # terms that will be annotated\n",
    "    annotate={\"elongated\", \"repeated\"},\n",
    "    fix_html=True,  # fix HTML tokens\n",
    "    \n",
    "    # corpus from which the word statistics are going to be used \n",
    "    # for word segmentation \n",
    "    segmenter=\"twitter\", \n",
    "    \n",
    "    # corpus from which the word statistics are going to be used \n",
    "    # for spell correction\n",
    "    corrector=\"twitter\", \n",
    "    \n",
    "    unpack_hashtags=True,  # perform word segmentation on hashtags\n",
    "    unpack_contractions=True,  # Unpack contractions (can't -> can not)\n",
    "    spell_correct_elong=False,  # spell correction for elongated word\n",
    "    \n",
    "    # select a tokenizer. You can use SocialTokenizer, or pass your own\n",
    "    # the tokenizer, should take as input a string and return a list of tokens\n",
    "    tokenizer=SocialTokenizer(lowercase=True).tokenize,\n",
    "    \n",
    "    # list of dictionaries, for replacing tokens extracted from the text,\n",
    "    # with other expressions. You can pass more than one dictionaries.\n",
    "    dicts=[emoticons]\n",
    ")\n",
    "\n",
    "normalized_text = []\n",
    "\n",
    "for s in dftrain['tweet']:\n",
    "    normalized_text.append(\" \".join(text_processor.pre_process_doc(s)))\n",
    "normalized_text_series = pd.Series(normalized_text)\n"
   ]
  },
  {
   "cell_type": "code",
   "execution_count": 11,
   "metadata": {},
   "outputs": [
    {
     "name": "stdout",
     "output_type": "stream",
     "text": [
      "0      i didnt mean knee high i ment in lengt it goes...\n",
      "1      rt <user> : ppl who say sex is over rated is n...\n",
      "2      rt <user> : you do not have to ruin the beauti...\n",
      "3      listening to the \" new age \" station on <user>...\n",
      "4                           <user> welcome to twitter xx\n",
      "5                               <user> so twitpic it lol\n",
      "6      rt <user> : i flip ( in ) love <user> ! follow...\n",
      "7      rt <number> + awesome twitter tips to become a...\n",
      "8      <user> i was thinking that i wanna make a cake...\n",
      "9      <url> check it out ! in the middle of london !...\n",
      "10                                             mountains\n",
      "11       <user> <user> hi there ! nice to see you back !\n",
      "12                            rt <user> : i ? new york !\n",
      "13     <user> my coffin has already been reshaped as ...\n",
      "14          <user> i hope so dude hahaha < <number> . so\n",
      "15     learning about water heaters - ah the joys of ...\n",
      "16     rt <user> : \" i lift my eyes up to you , to yo...\n",
      "17     <user> what disneyworld commercial ? he ' s th...\n",
      "18                      <user> devote yourself to prayer\n",
      "19     to better understand me lol - > rt <user> i am...\n",
      "20              <user> and simon peter answered and said\n",
      "21     rock onrt <user> : billzucker : i love <user> ...\n",
      "22     bab girls club was funny ass shyt can not wait...\n",
      "23     rt <user> : so google buzz is a hot topic look...\n",
      "24                                         <user> thanks\n",
      "25     <user> lol tell him i got a bottle of graduate...\n",
      "26     home after lucia ' s and key skills this morni...\n",
      "27     great sunny days with <user> in the beauty mou...\n",
      "28     found some cool free twitter backgrounds @ <ur...\n",
      "29     thanks snowmageddon for getting me out of tomo...\n",
      "                             ...                        \n",
      "768      man the earth is a lil angry i see this morning\n",
      "769    all this time . <repeated> all i have done is ...\n",
      "770                           i have the worst posture .\n",
      "771                                 bored out of my mine\n",
      "772                                        <user> always\n",
      "773                  i am so <elongated> bored . : <url>\n",
      "774    it ' s so hot ! this el nino is becoming more ...\n",
      "775    <user> i have gone through it logically and it...\n",
      "776                                          <user> hehe\n",
      "777        <user> you havea cold . it ' s be rude not to\n",
      "778    someone pm ' d me saying they won and they did...\n",
      "779    q : youh shouldn , , t bcuxz youh kan die . a ...\n",
      "780    rt <user> : <user> <user> what did i tell you ...\n",
      "781    <user> <user> this is alarmingly true . but at...\n",
      "782    even though i hate you my life would suck with...\n",
      "783    rt @ <user> : woy <elongated> ! <repeated> tel...\n",
      "784    this place is dead . finishing my beer that wa...\n",
      "785    <user> see now get outta my neck o the woods !...\n",
      "786    <user> also the credit music from avril lavign...\n",
      "787    myspace limit per song is 6 m . my track is <n...\n",
      "788    <user> u lie it was dumb as shit ! the only th...\n",
      "789    i am so mad at the upper marlboro court system...\n",
      "790    <user> hahaahaha ! our cake looks like one big...\n",
      "791    rt <user> : ha ! rt <user> : mickey rourke is ...\n",
      "792    rip big when i die i wanna go to hell cuz i am...\n",
      "793    rt <user> : raise ur hand if you used to steal...\n",
      "794    <user> nd you been callin me outta my name so ...\n",
      "795    that movie was crazy ! <repeated> depressing a...\n",
      "796    <sad> oh no ! <sad> god . <repeated> <sad> lit...\n",
      "797                     never by tea at schiphol airport\n",
      "Length: 798, dtype: object\n"
     ]
    }
   ],
   "source": [
    "print(normalized_text_series)"
   ]
  },
  {
   "cell_type": "code",
   "execution_count": 12,
   "metadata": {},
   "outputs": [],
   "source": [
    "dftrain['normalized_text'] = [t for t in normalized_text_series]"
   ]
  },
  {
   "cell_type": "code",
   "execution_count": 13,
   "metadata": {},
   "outputs": [
    {
     "data": {
      "text/html": [
       "<div>\n",
       "<style scoped>\n",
       "    .dataframe tbody tr th:only-of-type {\n",
       "        vertical-align: middle;\n",
       "    }\n",
       "\n",
       "    .dataframe tbody tr th {\n",
       "        vertical-align: top;\n",
       "    }\n",
       "\n",
       "    .dataframe thead th {\n",
       "        text-align: right;\n",
       "    }\n",
       "</style>\n",
       "<table border=\"1\" class=\"dataframe\">\n",
       "  <thead>\n",
       "    <tr style=\"text-align: right;\">\n",
       "      <th></th>\n",
       "      <th>label</th>\n",
       "      <th>tweet</th>\n",
       "      <th>length</th>\n",
       "      <th>normalized_text</th>\n",
       "    </tr>\n",
       "  </thead>\n",
       "  <tbody>\n",
       "    <tr>\n",
       "      <th>0</th>\n",
       "      <td>1</td>\n",
       "      <td>i didnt mean knee high I ment in lengt it goes...</td>\n",
       "      <td>93</td>\n",
       "      <td>i didnt mean knee high i ment in lengt it goes...</td>\n",
       "    </tr>\n",
       "    <tr>\n",
       "      <th>1</th>\n",
       "      <td>1</td>\n",
       "      <td>RT @cakedream: Ppl who say sex is over rated i...</td>\n",
       "      <td>148</td>\n",
       "      <td>rt &lt;user&gt; : ppl who say sex is over rated is n...</td>\n",
       "    </tr>\n",
       "    <tr>\n",
       "      <th>2</th>\n",
       "      <td>1</td>\n",
       "      <td>RT @thelovestrings: You don't have to ruin the...</td>\n",
       "      <td>75</td>\n",
       "      <td>rt &lt;user&gt; : you do not have to ruin the beauti...</td>\n",
       "    </tr>\n",
       "    <tr>\n",
       "      <th>3</th>\n",
       "      <td>1</td>\n",
       "      <td>Listening to the \"New Age\" station on @Slacker...</td>\n",
       "      <td>79</td>\n",
       "      <td>listening to the \" new age \" station on &lt;user&gt;...</td>\n",
       "    </tr>\n",
       "    <tr>\n",
       "      <th>4</th>\n",
       "      <td>1</td>\n",
       "      <td>@Mrhilton1985 Welcome to Twitter xx</td>\n",
       "      <td>35</td>\n",
       "      <td>&lt;user&gt; welcome to twitter xx</td>\n",
       "    </tr>\n",
       "  </tbody>\n",
       "</table>\n",
       "</div>"
      ],
      "text/plain": [
       "   label                                              tweet  length  \\\n",
       "0      1  i didnt mean knee high I ment in lengt it goes...      93   \n",
       "1      1  RT @cakedream: Ppl who say sex is over rated i...     148   \n",
       "2      1  RT @thelovestrings: You don't have to ruin the...      75   \n",
       "3      1  Listening to the \"New Age\" station on @Slacker...      79   \n",
       "4      1                @Mrhilton1985 Welcome to Twitter xx      35   \n",
       "\n",
       "                                     normalized_text  \n",
       "0  i didnt mean knee high i ment in lengt it goes...  \n",
       "1  rt <user> : ppl who say sex is over rated is n...  \n",
       "2  rt <user> : you do not have to ruin the beauti...  \n",
       "3  listening to the \" new age \" station on <user>...  \n",
       "4                       <user> welcome to twitter xx  "
      ]
     },
     "execution_count": 13,
     "metadata": {},
     "output_type": "execute_result"
    }
   ],
   "source": [
    "dftrain.head()"
   ]
  },
  {
   "cell_type": "code",
   "execution_count": 15,
   "metadata": {},
   "outputs": [
    {
     "data": {
      "text/html": [
       "<div>\n",
       "<style scoped>\n",
       "    .dataframe tbody tr th:only-of-type {\n",
       "        vertical-align: middle;\n",
       "    }\n",
       "\n",
       "    .dataframe tbody tr th {\n",
       "        vertical-align: top;\n",
       "    }\n",
       "\n",
       "    .dataframe thead th {\n",
       "        text-align: right;\n",
       "    }\n",
       "</style>\n",
       "<table border=\"1\" class=\"dataframe\">\n",
       "  <thead>\n",
       "    <tr style=\"text-align: right;\">\n",
       "      <th></th>\n",
       "      <th>normalized_text</th>\n",
       "      <th>label</th>\n",
       "    </tr>\n",
       "  </thead>\n",
       "  <tbody>\n",
       "    <tr>\n",
       "      <th>0</th>\n",
       "      <td>i didnt mean knee high i ment in lengt it goes...</td>\n",
       "      <td>1</td>\n",
       "    </tr>\n",
       "    <tr>\n",
       "      <th>1</th>\n",
       "      <td>rt &lt;user&gt; : ppl who say sex is over rated is n...</td>\n",
       "      <td>1</td>\n",
       "    </tr>\n",
       "    <tr>\n",
       "      <th>2</th>\n",
       "      <td>rt &lt;user&gt; : you do not have to ruin the beauti...</td>\n",
       "      <td>1</td>\n",
       "    </tr>\n",
       "    <tr>\n",
       "      <th>3</th>\n",
       "      <td>listening to the \" new age \" station on &lt;user&gt;...</td>\n",
       "      <td>1</td>\n",
       "    </tr>\n",
       "    <tr>\n",
       "      <th>4</th>\n",
       "      <td>&lt;user&gt; welcome to twitter xx</td>\n",
       "      <td>1</td>\n",
       "    </tr>\n",
       "  </tbody>\n",
       "</table>\n",
       "</div>"
      ],
      "text/plain": [
       "                                     normalized_text  label\n",
       "0  i didnt mean knee high i ment in lengt it goes...      1\n",
       "1  rt <user> : ppl who say sex is over rated is n...      1\n",
       "2  rt <user> : you do not have to ruin the beauti...      1\n",
       "3  listening to the \" new age \" station on <user>...      1\n",
       "4                       <user> welcome to twitter xx      1"
      ]
     },
     "execution_count": 15,
     "metadata": {},
     "output_type": "execute_result"
    }
   ],
   "source": [
    "df_len_tweets = dftrain[['normalized_text', 'label']].copy()\n",
    "df_len_tweets.head()"
   ]
  },
  {
   "cell_type": "code",
   "execution_count": 16,
   "metadata": {},
   "outputs": [
    {
     "data": {
      "text/html": [
       "<div>\n",
       "<style scoped>\n",
       "    .dataframe tbody tr th:only-of-type {\n",
       "        vertical-align: middle;\n",
       "    }\n",
       "\n",
       "    .dataframe tbody tr th {\n",
       "        vertical-align: top;\n",
       "    }\n",
       "\n",
       "    .dataframe thead th {\n",
       "        text-align: right;\n",
       "    }\n",
       "</style>\n",
       "<table border=\"1\" class=\"dataframe\">\n",
       "  <thead>\n",
       "    <tr style=\"text-align: right;\">\n",
       "      <th></th>\n",
       "      <th>normalized_text</th>\n",
       "      <th>label</th>\n",
       "      <th>length</th>\n",
       "    </tr>\n",
       "  </thead>\n",
       "  <tbody>\n",
       "    <tr>\n",
       "      <th>0</th>\n",
       "      <td>i didnt mean knee high i ment in lengt it goes...</td>\n",
       "      <td>1</td>\n",
       "      <td>94</td>\n",
       "    </tr>\n",
       "    <tr>\n",
       "      <th>1</th>\n",
       "      <td>rt &lt;user&gt; : ppl who say sex is over rated is n...</td>\n",
       "      <td>1</td>\n",
       "      <td>159</td>\n",
       "    </tr>\n",
       "    <tr>\n",
       "      <th>2</th>\n",
       "      <td>rt &lt;user&gt; : you do not have to ruin the beauti...</td>\n",
       "      <td>1</td>\n",
       "      <td>68</td>\n",
       "    </tr>\n",
       "    <tr>\n",
       "      <th>3</th>\n",
       "      <td>listening to the \" new age \" station on &lt;user&gt;...</td>\n",
       "      <td>1</td>\n",
       "      <td>54</td>\n",
       "    </tr>\n",
       "    <tr>\n",
       "      <th>4</th>\n",
       "      <td>&lt;user&gt; welcome to twitter xx</td>\n",
       "      <td>1</td>\n",
       "      <td>28</td>\n",
       "    </tr>\n",
       "  </tbody>\n",
       "</table>\n",
       "</div>"
      ],
      "text/plain": [
       "                                     normalized_text  label  length\n",
       "0  i didnt mean knee high i ment in lengt it goes...      1      94\n",
       "1  rt <user> : ppl who say sex is over rated is n...      1     159\n",
       "2  rt <user> : you do not have to ruin the beauti...      1      68\n",
       "3  listening to the \" new age \" station on <user>...      1      54\n",
       "4                       <user> welcome to twitter xx      1      28"
      ]
     },
     "execution_count": 16,
     "metadata": {},
     "output_type": "execute_result"
    }
   ],
   "source": [
    "df_len_tweets['length'] = [len(t) for t in df_len_tweets.normalized_text]\n",
    "df_len_tweets.head()"
   ]
  },
  {
   "cell_type": "code",
   "execution_count": 17,
   "metadata": {},
   "outputs": [
    {
     "data": {
      "text/plain": [
       "197"
      ]
     },
     "execution_count": 17,
     "metadata": {},
     "output_type": "execute_result"
    }
   ],
   "source": [
    "df_len_tweets.length.max()"
   ]
  },
  {
   "cell_type": "code",
   "execution_count": 18,
   "metadata": {},
   "outputs": [
    {
     "name": "stdout",
     "output_type": "stream",
     "text": [
      "CPU times: user 1.06 ms, sys: 53 µs, total: 1.11 ms\n",
      "Wall time: 1.1 ms\n"
     ]
    }
   ],
   "source": [
    "%%time\n",
    "user_tweets = []\n",
    "\n",
    "for t in df_len_tweets.normalized_text:\n",
    "    user_tweets.append(t.replace('<user>', '@USER'))\n",
    "\n",
    "df_len_tweets['text_no_user'] = [t for t in user_tweets]\n"
   ]
  },
  {
   "cell_type": "code",
   "execution_count": 19,
   "metadata": {},
   "outputs": [
    {
     "data": {
      "text/html": [
       "<div>\n",
       "<style scoped>\n",
       "    .dataframe tbody tr th:only-of-type {\n",
       "        vertical-align: middle;\n",
       "    }\n",
       "\n",
       "    .dataframe tbody tr th {\n",
       "        vertical-align: top;\n",
       "    }\n",
       "\n",
       "    .dataframe thead th {\n",
       "        text-align: right;\n",
       "    }\n",
       "</style>\n",
       "<table border=\"1\" class=\"dataframe\">\n",
       "  <thead>\n",
       "    <tr style=\"text-align: right;\">\n",
       "      <th></th>\n",
       "      <th>normalized_text</th>\n",
       "      <th>label</th>\n",
       "      <th>length</th>\n",
       "      <th>text_no_user</th>\n",
       "    </tr>\n",
       "  </thead>\n",
       "  <tbody>\n",
       "    <tr>\n",
       "      <th>0</th>\n",
       "      <td>i didnt mean knee high i ment in lengt it goes...</td>\n",
       "      <td>1</td>\n",
       "      <td>94</td>\n",
       "      <td>i didnt mean knee high i ment in lengt it goes...</td>\n",
       "    </tr>\n",
       "    <tr>\n",
       "      <th>1</th>\n",
       "      <td>rt &lt;user&gt; : ppl who say sex is over rated is n...</td>\n",
       "      <td>1</td>\n",
       "      <td>159</td>\n",
       "      <td>rt @USER : ppl who say sex is over rated is nt...</td>\n",
       "    </tr>\n",
       "    <tr>\n",
       "      <th>2</th>\n",
       "      <td>rt &lt;user&gt; : you do not have to ruin the beauti...</td>\n",
       "      <td>1</td>\n",
       "      <td>68</td>\n",
       "      <td>rt @USER : you do not have to ruin the beautif...</td>\n",
       "    </tr>\n",
       "    <tr>\n",
       "      <th>3</th>\n",
       "      <td>listening to the \" new age \" station on &lt;user&gt;...</td>\n",
       "      <td>1</td>\n",
       "      <td>54</td>\n",
       "      <td>listening to the \" new age \" station on @USER ...</td>\n",
       "    </tr>\n",
       "    <tr>\n",
       "      <th>4</th>\n",
       "      <td>&lt;user&gt; welcome to twitter xx</td>\n",
       "      <td>1</td>\n",
       "      <td>28</td>\n",
       "      <td>@USER welcome to twitter xx</td>\n",
       "    </tr>\n",
       "  </tbody>\n",
       "</table>\n",
       "</div>"
      ],
      "text/plain": [
       "                                     normalized_text  label  length  \\\n",
       "0  i didnt mean knee high i ment in lengt it goes...      1      94   \n",
       "1  rt <user> : ppl who say sex is over rated is n...      1     159   \n",
       "2  rt <user> : you do not have to ruin the beauti...      1      68   \n",
       "3  listening to the \" new age \" station on <user>...      1      54   \n",
       "4                       <user> welcome to twitter xx      1      28   \n",
       "\n",
       "                                        text_no_user  \n",
       "0  i didnt mean knee high i ment in lengt it goes...  \n",
       "1  rt @USER : ppl who say sex is over rated is nt...  \n",
       "2  rt @USER : you do not have to ruin the beautif...  \n",
       "3  listening to the \" new age \" station on @USER ...  \n",
       "4                        @USER welcome to twitter xx  "
      ]
     },
     "execution_count": 19,
     "metadata": {},
     "output_type": "execute_result"
    }
   ],
   "source": [
    "df_len_tweets.head()"
   ]
  },
  {
   "cell_type": "code",
   "execution_count": 20,
   "metadata": {},
   "outputs": [],
   "source": [
    "url_tweets = []\n",
    "for t in df_len_tweets.text_no_user:\n",
    "    #print(df_len_tweets.text[i].replace(s, ''))\n",
    "    url_tweets.append(t.replace('<url>', '@URL'))\n",
    "\n",
    "df_len_tweets['text_no_url'] = [t for t in url_tweets]"
   ]
  },
  {
   "cell_type": "code",
   "execution_count": 21,
   "metadata": {},
   "outputs": [
    {
     "data": {
      "text/html": [
       "<div>\n",
       "<style scoped>\n",
       "    .dataframe tbody tr th:only-of-type {\n",
       "        vertical-align: middle;\n",
       "    }\n",
       "\n",
       "    .dataframe tbody tr th {\n",
       "        vertical-align: top;\n",
       "    }\n",
       "\n",
       "    .dataframe thead th {\n",
       "        text-align: right;\n",
       "    }\n",
       "</style>\n",
       "<table border=\"1\" class=\"dataframe\">\n",
       "  <thead>\n",
       "    <tr style=\"text-align: right;\">\n",
       "      <th></th>\n",
       "      <th>normalized_text</th>\n",
       "      <th>label</th>\n",
       "      <th>length</th>\n",
       "      <th>text_no_user</th>\n",
       "      <th>text_no_url</th>\n",
       "    </tr>\n",
       "  </thead>\n",
       "  <tbody>\n",
       "    <tr>\n",
       "      <th>0</th>\n",
       "      <td>i didnt mean knee high i ment in lengt it goes...</td>\n",
       "      <td>1</td>\n",
       "      <td>94</td>\n",
       "      <td>i didnt mean knee high i ment in lengt it goes...</td>\n",
       "      <td>i didnt mean knee high i ment in lengt it goes...</td>\n",
       "    </tr>\n",
       "    <tr>\n",
       "      <th>1</th>\n",
       "      <td>rt &lt;user&gt; : ppl who say sex is over rated is n...</td>\n",
       "      <td>1</td>\n",
       "      <td>159</td>\n",
       "      <td>rt @USER : ppl who say sex is over rated is nt...</td>\n",
       "      <td>rt @USER : ppl who say sex is over rated is nt...</td>\n",
       "    </tr>\n",
       "    <tr>\n",
       "      <th>2</th>\n",
       "      <td>rt &lt;user&gt; : you do not have to ruin the beauti...</td>\n",
       "      <td>1</td>\n",
       "      <td>68</td>\n",
       "      <td>rt @USER : you do not have to ruin the beautif...</td>\n",
       "      <td>rt @USER : you do not have to ruin the beautif...</td>\n",
       "    </tr>\n",
       "    <tr>\n",
       "      <th>3</th>\n",
       "      <td>listening to the \" new age \" station on &lt;user&gt;...</td>\n",
       "      <td>1</td>\n",
       "      <td>54</td>\n",
       "      <td>listening to the \" new age \" station on @USER ...</td>\n",
       "      <td>listening to the \" new age \" station on @USER ...</td>\n",
       "    </tr>\n",
       "    <tr>\n",
       "      <th>4</th>\n",
       "      <td>&lt;user&gt; welcome to twitter xx</td>\n",
       "      <td>1</td>\n",
       "      <td>28</td>\n",
       "      <td>@USER welcome to twitter xx</td>\n",
       "      <td>@USER welcome to twitter xx</td>\n",
       "    </tr>\n",
       "  </tbody>\n",
       "</table>\n",
       "</div>"
      ],
      "text/plain": [
       "                                     normalized_text  label  length  \\\n",
       "0  i didnt mean knee high i ment in lengt it goes...      1      94   \n",
       "1  rt <user> : ppl who say sex is over rated is n...      1     159   \n",
       "2  rt <user> : you do not have to ruin the beauti...      1      68   \n",
       "3  listening to the \" new age \" station on <user>...      1      54   \n",
       "4                       <user> welcome to twitter xx      1      28   \n",
       "\n",
       "                                        text_no_user  \\\n",
       "0  i didnt mean knee high i ment in lengt it goes...   \n",
       "1  rt @USER : ppl who say sex is over rated is nt...   \n",
       "2  rt @USER : you do not have to ruin the beautif...   \n",
       "3  listening to the \" new age \" station on @USER ...   \n",
       "4                        @USER welcome to twitter xx   \n",
       "\n",
       "                                         text_no_url  \n",
       "0  i didnt mean knee high i ment in lengt it goes...  \n",
       "1  rt @USER : ppl who say sex is over rated is nt...  \n",
       "2  rt @USER : you do not have to ruin the beautif...  \n",
       "3  listening to the \" new age \" station on @USER ...  \n",
       "4                        @USER welcome to twitter xx  "
      ]
     },
     "execution_count": 21,
     "metadata": {},
     "output_type": "execute_result"
    }
   ],
   "source": [
    "df_len_tweets.head()"
   ]
  },
  {
   "cell_type": "code",
   "execution_count": 22,
   "metadata": {},
   "outputs": [
    {
     "name": "stdout",
     "output_type": "stream",
     "text": [
      "CPU times: user 1.98 ms, sys: 41 µs, total: 2.02 ms\n",
      "Wall time: 2 ms\n"
     ]
    }
   ],
   "source": [
    "%%time\n",
    "notag_tweets = []\n",
    "for t in df_len_tweets.text_no_url:\n",
    "    #print(df_len_tweets.text[i].replace(s, ''))\n",
    "    #notag_tweets.append(df_url_tweets.text[i].replace(r'(<[aA-zZ]+>)', ''))\n",
    "    notag_tweets.append(re.sub(r'(<[aA-zZ]+>)', '',t))\n",
    "\n",
    "df_len_tweets['text_no_tag'] = [t for t in notag_tweets]"
   ]
  },
  {
   "cell_type": "code",
   "execution_count": 23,
   "metadata": {},
   "outputs": [
    {
     "data": {
      "text/html": [
       "<div>\n",
       "<style scoped>\n",
       "    .dataframe tbody tr th:only-of-type {\n",
       "        vertical-align: middle;\n",
       "    }\n",
       "\n",
       "    .dataframe tbody tr th {\n",
       "        vertical-align: top;\n",
       "    }\n",
       "\n",
       "    .dataframe thead th {\n",
       "        text-align: right;\n",
       "    }\n",
       "</style>\n",
       "<table border=\"1\" class=\"dataframe\">\n",
       "  <thead>\n",
       "    <tr style=\"text-align: right;\">\n",
       "      <th></th>\n",
       "      <th>normalized_text</th>\n",
       "      <th>label</th>\n",
       "      <th>length</th>\n",
       "      <th>text_no_user</th>\n",
       "      <th>text_no_url</th>\n",
       "      <th>text_no_tag</th>\n",
       "    </tr>\n",
       "  </thead>\n",
       "  <tbody>\n",
       "    <tr>\n",
       "      <th>0</th>\n",
       "      <td>i didnt mean knee high i ment in lengt it goes...</td>\n",
       "      <td>1</td>\n",
       "      <td>94</td>\n",
       "      <td>i didnt mean knee high i ment in lengt it goes...</td>\n",
       "      <td>i didnt mean knee high i ment in lengt it goes...</td>\n",
       "      <td>i didnt mean knee high i ment in lengt it goes...</td>\n",
       "    </tr>\n",
       "    <tr>\n",
       "      <th>1</th>\n",
       "      <td>rt &lt;user&gt; : ppl who say sex is over rated is n...</td>\n",
       "      <td>1</td>\n",
       "      <td>159</td>\n",
       "      <td>rt @USER : ppl who say sex is over rated is nt...</td>\n",
       "      <td>rt @USER : ppl who say sex is over rated is nt...</td>\n",
       "      <td>rt @USER : ppl who say sex is over rated is nt...</td>\n",
       "    </tr>\n",
       "    <tr>\n",
       "      <th>2</th>\n",
       "      <td>rt &lt;user&gt; : you do not have to ruin the beauti...</td>\n",
       "      <td>1</td>\n",
       "      <td>68</td>\n",
       "      <td>rt @USER : you do not have to ruin the beautif...</td>\n",
       "      <td>rt @USER : you do not have to ruin the beautif...</td>\n",
       "      <td>rt @USER : you do not have to ruin the beautif...</td>\n",
       "    </tr>\n",
       "    <tr>\n",
       "      <th>3</th>\n",
       "      <td>listening to the \" new age \" station on &lt;user&gt;...</td>\n",
       "      <td>1</td>\n",
       "      <td>54</td>\n",
       "      <td>listening to the \" new age \" station on @USER ...</td>\n",
       "      <td>listening to the \" new age \" station on @USER ...</td>\n",
       "      <td>listening to the \" new age \" station on @USER ...</td>\n",
       "    </tr>\n",
       "    <tr>\n",
       "      <th>4</th>\n",
       "      <td>&lt;user&gt; welcome to twitter xx</td>\n",
       "      <td>1</td>\n",
       "      <td>28</td>\n",
       "      <td>@USER welcome to twitter xx</td>\n",
       "      <td>@USER welcome to twitter xx</td>\n",
       "      <td>@USER welcome to twitter xx</td>\n",
       "    </tr>\n",
       "  </tbody>\n",
       "</table>\n",
       "</div>"
      ],
      "text/plain": [
       "                                     normalized_text  label  length  \\\n",
       "0  i didnt mean knee high i ment in lengt it goes...      1      94   \n",
       "1  rt <user> : ppl who say sex is over rated is n...      1     159   \n",
       "2  rt <user> : you do not have to ruin the beauti...      1      68   \n",
       "3  listening to the \" new age \" station on <user>...      1      54   \n",
       "4                       <user> welcome to twitter xx      1      28   \n",
       "\n",
       "                                        text_no_user  \\\n",
       "0  i didnt mean knee high i ment in lengt it goes...   \n",
       "1  rt @USER : ppl who say sex is over rated is nt...   \n",
       "2  rt @USER : you do not have to ruin the beautif...   \n",
       "3  listening to the \" new age \" station on @USER ...   \n",
       "4                        @USER welcome to twitter xx   \n",
       "\n",
       "                                         text_no_url  \\\n",
       "0  i didnt mean knee high i ment in lengt it goes...   \n",
       "1  rt @USER : ppl who say sex is over rated is nt...   \n",
       "2  rt @USER : you do not have to ruin the beautif...   \n",
       "3  listening to the \" new age \" station on @USER ...   \n",
       "4                        @USER welcome to twitter xx   \n",
       "\n",
       "                                         text_no_tag  \n",
       "0  i didnt mean knee high i ment in lengt it goes...  \n",
       "1  rt @USER : ppl who say sex is over rated is nt...  \n",
       "2  rt @USER : you do not have to ruin the beautif...  \n",
       "3  listening to the \" new age \" station on @USER ...  \n",
       "4                        @USER welcome to twitter xx  "
      ]
     },
     "execution_count": 23,
     "metadata": {},
     "output_type": "execute_result"
    }
   ],
   "source": [
    "df_len_tweets.head()"
   ]
  },
  {
   "cell_type": "code",
   "execution_count": 84,
   "metadata": {},
   "outputs": [],
   "source": [
    "finalvalid = df_len_tweets[['text_no_tag', 'label']].copy()"
   ]
  },
  {
   "cell_type": "code",
   "execution_count": 85,
   "metadata": {},
   "outputs": [
    {
     "data": {
      "text/html": [
       "<div>\n",
       "<style scoped>\n",
       "    .dataframe tbody tr th:only-of-type {\n",
       "        vertical-align: middle;\n",
       "    }\n",
       "\n",
       "    .dataframe tbody tr th {\n",
       "        vertical-align: top;\n",
       "    }\n",
       "\n",
       "    .dataframe thead th {\n",
       "        text-align: right;\n",
       "    }\n",
       "</style>\n",
       "<table border=\"1\" class=\"dataframe\">\n",
       "  <thead>\n",
       "    <tr style=\"text-align: right;\">\n",
       "      <th></th>\n",
       "      <th>text_no_tag</th>\n",
       "      <th>label</th>\n",
       "    </tr>\n",
       "  </thead>\n",
       "  <tbody>\n",
       "    <tr>\n",
       "      <th>0</th>\n",
       "      <td>i didnt mean knee high i ment in lengt it goes...</td>\n",
       "      <td>1</td>\n",
       "    </tr>\n",
       "    <tr>\n",
       "      <th>1</th>\n",
       "      <td>rt @USER : ppl who say sex is over rated is nt...</td>\n",
       "      <td>1</td>\n",
       "    </tr>\n",
       "    <tr>\n",
       "      <th>2</th>\n",
       "      <td>rt @USER : you do not have to ruin the beautif...</td>\n",
       "      <td>1</td>\n",
       "    </tr>\n",
       "    <tr>\n",
       "      <th>3</th>\n",
       "      <td>listening to the \" new age \" station on @USER ...</td>\n",
       "      <td>1</td>\n",
       "    </tr>\n",
       "    <tr>\n",
       "      <th>4</th>\n",
       "      <td>@USER welcome to twitter xx</td>\n",
       "      <td>1</td>\n",
       "    </tr>\n",
       "  </tbody>\n",
       "</table>\n",
       "</div>"
      ],
      "text/plain": [
       "                                         text_no_tag  label\n",
       "0  i didnt mean knee high i ment in lengt it goes...      1\n",
       "1  rt @USER : ppl who say sex is over rated is nt...      1\n",
       "2  rt @USER : you do not have to ruin the beautif...      1\n",
       "3  listening to the \" new age \" station on @USER ...      1\n",
       "4                        @USER welcome to twitter xx      1"
      ]
     },
     "execution_count": 85,
     "metadata": {},
     "output_type": "execute_result"
    }
   ],
   "source": [
    "finalvalid.head()"
   ]
  },
  {
   "cell_type": "code",
   "execution_count": 86,
   "metadata": {},
   "outputs": [
    {
     "data": {
      "text/html": [
       "<div>\n",
       "<style scoped>\n",
       "    .dataframe tbody tr th:only-of-type {\n",
       "        vertical-align: middle;\n",
       "    }\n",
       "\n",
       "    .dataframe tbody tr th {\n",
       "        vertical-align: top;\n",
       "    }\n",
       "\n",
       "    .dataframe thead th {\n",
       "        text-align: right;\n",
       "    }\n",
       "</style>\n",
       "<table border=\"1\" class=\"dataframe\">\n",
       "  <thead>\n",
       "    <tr style=\"text-align: right;\">\n",
       "      <th></th>\n",
       "      <th>text_no_tag</th>\n",
       "      <th>label</th>\n",
       "      <th>length</th>\n",
       "    </tr>\n",
       "  </thead>\n",
       "  <tbody>\n",
       "    <tr>\n",
       "      <th>0</th>\n",
       "      <td>i didnt mean knee high i ment in lengt it goes...</td>\n",
       "      <td>1</td>\n",
       "      <td>94</td>\n",
       "    </tr>\n",
       "    <tr>\n",
       "      <th>1</th>\n",
       "      <td>rt @USER : ppl who say sex is over rated is nt...</td>\n",
       "      <td>1</td>\n",
       "      <td>148</td>\n",
       "    </tr>\n",
       "    <tr>\n",
       "      <th>2</th>\n",
       "      <td>rt @USER : you do not have to ruin the beautif...</td>\n",
       "      <td>1</td>\n",
       "      <td>67</td>\n",
       "    </tr>\n",
       "    <tr>\n",
       "      <th>3</th>\n",
       "      <td>listening to the \" new age \" station on @USER ...</td>\n",
       "      <td>1</td>\n",
       "      <td>52</td>\n",
       "    </tr>\n",
       "    <tr>\n",
       "      <th>4</th>\n",
       "      <td>@USER welcome to twitter xx</td>\n",
       "      <td>1</td>\n",
       "      <td>27</td>\n",
       "    </tr>\n",
       "  </tbody>\n",
       "</table>\n",
       "</div>"
      ],
      "text/plain": [
       "                                         text_no_tag  label  length\n",
       "0  i didnt mean knee high i ment in lengt it goes...      1      94\n",
       "1  rt @USER : ppl who say sex is over rated is nt...      1     148\n",
       "2  rt @USER : you do not have to ruin the beautif...      1      67\n",
       "3  listening to the \" new age \" station on @USER ...      1      52\n",
       "4                        @USER welcome to twitter xx      1      27"
      ]
     },
     "execution_count": 86,
     "metadata": {},
     "output_type": "execute_result"
    }
   ],
   "source": [
    "finalvalid['length'] = [len(t) for t in finalvalid.text_no_tag]\n",
    "finalvalid.head()"
   ]
  },
  {
   "cell_type": "code",
   "execution_count": 87,
   "metadata": {},
   "outputs": [
    {
     "data": {
      "text/plain": [
       "798"
      ]
     },
     "execution_count": 87,
     "metadata": {},
     "output_type": "execute_result"
    }
   ],
   "source": [
    "len(finalvalid)"
   ]
  },
  {
   "cell_type": "code",
   "execution_count": 88,
   "metadata": {},
   "outputs": [
    {
     "data": {
      "text/plain": [
       "text_no_tag    3\n",
       "label          3\n",
       "length         3\n",
       "dtype: int64"
      ]
     },
     "execution_count": 88,
     "metadata": {},
     "output_type": "execute_result"
    }
   ],
   "source": [
    "finalvalid[finalvalid.text_no_tag == '@USER'].count()"
   ]
  },
  {
   "cell_type": "code",
   "execution_count": 89,
   "metadata": {},
   "outputs": [
    {
     "data": {
      "text/plain": [
       "text_no_tag    0\n",
       "label          0\n",
       "length         0\n",
       "dtype: int64"
      ]
     },
     "execution_count": 89,
     "metadata": {},
     "output_type": "execute_result"
    }
   ],
   "source": [
    "finalvalid[finalvalid.text_no_tag == '@URL'].count()"
   ]
  },
  {
   "cell_type": "code",
   "execution_count": 90,
   "metadata": {},
   "outputs": [
    {
     "data": {
      "text/plain": [
       "text_no_tag    0\n",
       "label          0\n",
       "length         0\n",
       "dtype: int64"
      ]
     },
     "execution_count": 90,
     "metadata": {},
     "output_type": "execute_result"
    }
   ],
   "source": [
    "finalvalid[finalvalid.text_no_tag == '@USER @URL'].count()"
   ]
  },
  {
   "cell_type": "code",
   "execution_count": 91,
   "metadata": {},
   "outputs": [
    {
     "data": {
      "text/plain": [
       "text_no_tag    0\n",
       "label          0\n",
       "length         0\n",
       "dtype: int64"
      ]
     },
     "execution_count": 91,
     "metadata": {},
     "output_type": "execute_result"
    }
   ],
   "source": [
    "finalvalid[finalvalid.text_no_tag == '@URL @USER'].count()"
   ]
  },
  {
   "cell_type": "code",
   "execution_count": 92,
   "metadata": {},
   "outputs": [
    {
     "data": {
      "text/plain": [
       "text_no_tag    0\n",
       "label          0\n",
       "length         0\n",
       "dtype: int64"
      ]
     },
     "execution_count": 92,
     "metadata": {},
     "output_type": "execute_result"
    }
   ],
   "source": [
    "finalvalid[finalvalid.length == 0].count()"
   ]
  },
  {
   "cell_type": "code",
   "execution_count": 93,
   "metadata": {},
   "outputs": [
    {
     "data": {
      "text/plain": [
       "False"
      ]
     },
     "execution_count": 93,
     "metadata": {},
     "output_type": "execute_result"
    }
   ],
   "source": [
    "finalvalid.isnull().values.any()"
   ]
  },
  {
   "cell_type": "code",
   "execution_count": 94,
   "metadata": {},
   "outputs": [
    {
     "data": {
      "text/plain": [
       "text_no_tag    yung berg & lil mama would be a perfect couple...\n",
       "label                                                          1\n",
       "length                                                       162\n",
       "dtype: object"
      ]
     },
     "execution_count": 94,
     "metadata": {},
     "output_type": "execute_result"
    }
   ],
   "source": [
    "finalvalid.max()"
   ]
  },
  {
   "cell_type": "code",
   "execution_count": 95,
   "metadata": {},
   "outputs": [
    {
     "data": {
      "text/html": [
       "<div>\n",
       "<style scoped>\n",
       "    .dataframe tbody tr th:only-of-type {\n",
       "        vertical-align: middle;\n",
       "    }\n",
       "\n",
       "    .dataframe tbody tr th {\n",
       "        vertical-align: top;\n",
       "    }\n",
       "\n",
       "    .dataframe thead th {\n",
       "        text-align: right;\n",
       "    }\n",
       "</style>\n",
       "<table border=\"1\" class=\"dataframe\">\n",
       "  <thead>\n",
       "    <tr style=\"text-align: right;\">\n",
       "      <th></th>\n",
       "      <th>text_no_tag</th>\n",
       "      <th>label</th>\n",
       "      <th>length</th>\n",
       "    </tr>\n",
       "  </thead>\n",
       "  <tbody>\n",
       "    <tr>\n",
       "      <th>1</th>\n",
       "      <td>rt @USER : ppl who say sex is over rated is nt...</td>\n",
       "      <td>1</td>\n",
       "      <td>148</td>\n",
       "    </tr>\n",
       "    <tr>\n",
       "      <th>36</th>\n",
       "      <td>rt @USER : i am trying to get people to try a ...</td>\n",
       "      <td>1</td>\n",
       "      <td>153</td>\n",
       "    </tr>\n",
       "    <tr>\n",
       "      <th>39</th>\n",
       "      <td>there is something about the sound of snow tha...</td>\n",
       "      <td>1</td>\n",
       "      <td>146</td>\n",
       "    </tr>\n",
       "    <tr>\n",
       "      <th>47</th>\n",
       "      <td>@USER ur indeed the supertsar .  the real life...</td>\n",
       "      <td>1</td>\n",
       "      <td>143</td>\n",
       "    </tr>\n",
       "    <tr>\n",
       "      <th>93</th>\n",
       "      <td>rt @USER : happy valentines day everyone ! hop...</td>\n",
       "      <td>1</td>\n",
       "      <td>149</td>\n",
       "    </tr>\n",
       "    <tr>\n",
       "      <th>148</th>\n",
       "      <td>thanks to my dealers who joined us for our web...</td>\n",
       "      <td>1</td>\n",
       "      <td>141</td>\n",
       "    </tr>\n",
       "    <tr>\n",
       "      <th>193</th>\n",
       "      <td>a big thanks to everyone that came by the twir...</td>\n",
       "      <td>1</td>\n",
       "      <td>142</td>\n",
       "    </tr>\n",
       "    <tr>\n",
       "      <th>194</th>\n",
       "      <td>if ya can not support ur own local artist . ho...</td>\n",
       "      <td>1</td>\n",
       "      <td>145</td>\n",
       "    </tr>\n",
       "    <tr>\n",
       "      <th>269</th>\n",
       "      <td>i pray each day  ~ peace ~ to come , i know i ...</td>\n",
       "      <td>1</td>\n",
       "      <td>151</td>\n",
       "    </tr>\n",
       "    <tr>\n",
       "      <th>286</th>\n",
       "      <td>these pralines were ordered  a business meetin...</td>\n",
       "      <td>1</td>\n",
       "      <td>142</td>\n",
       "    </tr>\n",
       "    <tr>\n",
       "      <th>289</th>\n",
       "      <td>dr . laura ' s advice today is for women to st...</td>\n",
       "      <td>1</td>\n",
       "      <td>145</td>\n",
       "    </tr>\n",
       "    <tr>\n",
       "      <th>328</th>\n",
       "      <td>@USER lol its coolioo  !  i get off @USER toda...</td>\n",
       "      <td>1</td>\n",
       "      <td>143</td>\n",
       "    </tr>\n",
       "    <tr>\n",
       "      <th>344</th>\n",
       "      <td>very excited today - i am taking a day off . u...</td>\n",
       "      <td>1</td>\n",
       "      <td>144</td>\n",
       "    </tr>\n",
       "    <tr>\n",
       "      <th>387</th>\n",
       "      <td>@USER where ' s my love ? - 1 4 and then bourn...</td>\n",
       "      <td>1</td>\n",
       "      <td>145</td>\n",
       "    </tr>\n",
       "    <tr>\n",
       "      <th>412</th>\n",
       "      <td>picked up oil this weekend , today i am anoint...</td>\n",
       "      <td>1</td>\n",
       "      <td>146</td>\n",
       "    </tr>\n",
       "    <tr>\n",
       "      <th>421</th>\n",
       "      <td>@USER i am so happy that you are going to be o...</td>\n",
       "      <td>1</td>\n",
       "      <td>141</td>\n",
       "    </tr>\n",
       "    <tr>\n",
       "      <th>425</th>\n",
       "      <td>rt @USER : will : \" is not it sad that were go...</td>\n",
       "      <td>1</td>\n",
       "      <td>148</td>\n",
       "    </tr>\n",
       "    <tr>\n",
       "      <th>580</th>\n",
       "      <td>rt @USER : pet peeve ppl being over - affectio...</td>\n",
       "      <td>0</td>\n",
       "      <td>162</td>\n",
       "    </tr>\n",
       "    <tr>\n",
       "      <th>591</th>\n",
       "      <td>@USER so hard to take people seriously when th...</td>\n",
       "      <td>0</td>\n",
       "      <td>143</td>\n",
       "    </tr>\n",
       "    <tr>\n",
       "      <th>634</th>\n",
       "      <td>why cant i ever wake up n say \" good morning e...</td>\n",
       "      <td>0</td>\n",
       "      <td>146</td>\n",
       "    </tr>\n",
       "    <tr>\n",
       "      <th>641</th>\n",
       "      <td>well todays all rong and i cant stop the pain ...</td>\n",
       "      <td>0</td>\n",
       "      <td>143</td>\n",
       "    </tr>\n",
       "    <tr>\n",
       "      <th>655</th>\n",
       "      <td>rt @USER : i feel like crap ! didnt get much s...</td>\n",
       "      <td>0</td>\n",
       "      <td>144</td>\n",
       "    </tr>\n",
       "    <tr>\n",
       "      <th>681</th>\n",
       "      <td>argh  really wanna pull my decks out the garag...</td>\n",
       "      <td>0</td>\n",
       "      <td>141</td>\n",
       "    </tr>\n",
       "    <tr>\n",
       "      <th>724</th>\n",
       "      <td>so i have  days left of birth control .  fml l...</td>\n",
       "      <td>0</td>\n",
       "      <td>142</td>\n",
       "    </tr>\n",
       "    <tr>\n",
       "      <th>728</th>\n",
       "      <td>rt @USER : miss my frnds in a sudden . ijustdo...</td>\n",
       "      <td>0</td>\n",
       "      <td>142</td>\n",
       "    </tr>\n",
       "    <tr>\n",
       "      <th>729</th>\n",
       "      <td>rt @USER : complete and utter choas on the str...</td>\n",
       "      <td>0</td>\n",
       "      <td>148</td>\n",
       "    </tr>\n",
       "    <tr>\n",
       "      <th>750</th>\n",
       "      <td>awkward : ranger called me william ' s \" daddy...</td>\n",
       "      <td>0</td>\n",
       "      <td>153</td>\n",
       "    </tr>\n",
       "    <tr>\n",
       "      <th>751</th>\n",
       "      <td>rt @USER : if they seem like jb fans i am just...</td>\n",
       "      <td>0</td>\n",
       "      <td>143</td>\n",
       "    </tr>\n",
       "    <tr>\n",
       "      <th>757</th>\n",
       "      <td>is it bad to have es type off feelinqq when yo...</td>\n",
       "      <td>0</td>\n",
       "      <td>141</td>\n",
       "    </tr>\n",
       "    <tr>\n",
       "      <th>761</th>\n",
       "      <td>rt @USER : lamatrix : rip madison bieber ? unb...</td>\n",
       "      <td>0</td>\n",
       "      <td>144</td>\n",
       "    </tr>\n",
       "    <tr>\n",
       "      <th>778</th>\n",
       "      <td>someone pm ' d me saying they won and they did...</td>\n",
       "      <td>0</td>\n",
       "      <td>148</td>\n",
       "    </tr>\n",
       "  </tbody>\n",
       "</table>\n",
       "</div>"
      ],
      "text/plain": [
       "                                           text_no_tag  label  length\n",
       "1    rt @USER : ppl who say sex is over rated is nt...      1     148\n",
       "36   rt @USER : i am trying to get people to try a ...      1     153\n",
       "39   there is something about the sound of snow tha...      1     146\n",
       "47   @USER ur indeed the supertsar .  the real life...      1     143\n",
       "93   rt @USER : happy valentines day everyone ! hop...      1     149\n",
       "148  thanks to my dealers who joined us for our web...      1     141\n",
       "193  a big thanks to everyone that came by the twir...      1     142\n",
       "194  if ya can not support ur own local artist . ho...      1     145\n",
       "269  i pray each day  ~ peace ~ to come , i know i ...      1     151\n",
       "286  these pralines were ordered  a business meetin...      1     142\n",
       "289  dr . laura ' s advice today is for women to st...      1     145\n",
       "328  @USER lol its coolioo  !  i get off @USER toda...      1     143\n",
       "344  very excited today - i am taking a day off . u...      1     144\n",
       "387  @USER where ' s my love ? - 1 4 and then bourn...      1     145\n",
       "412  picked up oil this weekend , today i am anoint...      1     146\n",
       "421  @USER i am so happy that you are going to be o...      1     141\n",
       "425  rt @USER : will : \" is not it sad that were go...      1     148\n",
       "580  rt @USER : pet peeve ppl being over - affectio...      0     162\n",
       "591  @USER so hard to take people seriously when th...      0     143\n",
       "634  why cant i ever wake up n say \" good morning e...      0     146\n",
       "641  well todays all rong and i cant stop the pain ...      0     143\n",
       "655  rt @USER : i feel like crap ! didnt get much s...      0     144\n",
       "681  argh  really wanna pull my decks out the garag...      0     141\n",
       "724  so i have  days left of birth control .  fml l...      0     142\n",
       "728  rt @USER : miss my frnds in a sudden . ijustdo...      0     142\n",
       "729  rt @USER : complete and utter choas on the str...      0     148\n",
       "750  awkward : ranger called me william ' s \" daddy...      0     153\n",
       "751  rt @USER : if they seem like jb fans i am just...      0     143\n",
       "757  is it bad to have es type off feelinqq when yo...      0     141\n",
       "761  rt @USER : lamatrix : rip madison bieber ? unb...      0     144\n",
       "778  someone pm ' d me saying they won and they did...      0     148"
      ]
     },
     "execution_count": 95,
     "metadata": {},
     "output_type": "execute_result"
    }
   ],
   "source": [
    "finalvalid[finalvalid.length >140]"
   ]
  },
  {
   "cell_type": "code",
   "execution_count": 97,
   "metadata": {},
   "outputs": [
    {
     "data": {
      "text/html": [
       "<div>\n",
       "<style scoped>\n",
       "    .dataframe tbody tr th:only-of-type {\n",
       "        vertical-align: middle;\n",
       "    }\n",
       "\n",
       "    .dataframe tbody tr th {\n",
       "        vertical-align: top;\n",
       "    }\n",
       "\n",
       "    .dataframe thead th {\n",
       "        text-align: right;\n",
       "    }\n",
       "</style>\n",
       "<table border=\"1\" class=\"dataframe\">\n",
       "  <thead>\n",
       "    <tr style=\"text-align: right;\">\n",
       "      <th></th>\n",
       "      <th>text_no_tag</th>\n",
       "      <th>label</th>\n",
       "      <th>length</th>\n",
       "    </tr>\n",
       "  </thead>\n",
       "  <tbody>\n",
       "    <tr>\n",
       "      <th>0</th>\n",
       "      <td>i didnt mean knee high i ment in lengt it goes...</td>\n",
       "      <td>1</td>\n",
       "      <td>94</td>\n",
       "    </tr>\n",
       "    <tr>\n",
       "      <th>1</th>\n",
       "      <td>rt @USER : ppl who say sex is over rated is nt...</td>\n",
       "      <td>1</td>\n",
       "      <td>148</td>\n",
       "    </tr>\n",
       "    <tr>\n",
       "      <th>2</th>\n",
       "      <td>rt @USER : you do not have to ruin the beautif...</td>\n",
       "      <td>1</td>\n",
       "      <td>67</td>\n",
       "    </tr>\n",
       "    <tr>\n",
       "      <th>3</th>\n",
       "      <td>listening to the \" new age \" station on @USER ...</td>\n",
       "      <td>1</td>\n",
       "      <td>52</td>\n",
       "    </tr>\n",
       "    <tr>\n",
       "      <th>4</th>\n",
       "      <td>@USER welcome to twitter xx</td>\n",
       "      <td>1</td>\n",
       "      <td>27</td>\n",
       "    </tr>\n",
       "  </tbody>\n",
       "</table>\n",
       "</div>"
      ],
      "text/plain": [
       "                                         text_no_tag  label  length\n",
       "0  i didnt mean knee high i ment in lengt it goes...      1      94\n",
       "1  rt @USER : ppl who say sex is over rated is nt...      1     148\n",
       "2  rt @USER : you do not have to ruin the beautif...      1      67\n",
       "3  listening to the \" new age \" station on @USER ...      1      52\n",
       "4                        @USER welcome to twitter xx      1      27"
      ]
     },
     "execution_count": 97,
     "metadata": {},
     "output_type": "execute_result"
    }
   ],
   "source": [
    "finalvalid.head()"
   ]
  },
  {
   "cell_type": "code",
   "execution_count": 100,
   "metadata": {},
   "outputs": [
    {
     "data": {
      "text/plain": [
       "798"
      ]
     },
     "execution_count": 100,
     "metadata": {},
     "output_type": "execute_result"
    }
   ],
   "source": [
    "len(finalvalid)"
   ]
  },
  {
   "cell_type": "code",
   "execution_count": 101,
   "metadata": {},
   "outputs": [],
   "source": [
    "finalvalid.to_csv(\"finalvalid.csv\")"
   ]
  },
  {
   "cell_type": "code",
   "execution_count": null,
   "metadata": {},
   "outputs": [],
   "source": []
  }
 ],
 "metadata": {
  "kernelspec": {
   "display_name": "Python 3",
   "language": "python",
   "name": "python3"
  },
  "language_info": {
   "codemirror_mode": {
    "name": "ipython",
    "version": 3
   },
   "file_extension": ".py",
   "mimetype": "text/x-python",
   "name": "python",
   "nbconvert_exporter": "python",
   "pygments_lexer": "ipython3",
   "version": "3.6.7"
  }
 },
 "nbformat": 4,
 "nbformat_minor": 2
}
